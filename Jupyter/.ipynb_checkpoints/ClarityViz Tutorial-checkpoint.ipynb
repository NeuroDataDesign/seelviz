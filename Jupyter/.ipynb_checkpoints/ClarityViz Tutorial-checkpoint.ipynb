{
 "cells": [
  {
   "cell_type": "markdown",
   "metadata": {},
   "source": [
    "# ClarityViz Tutorial"
   ]
  },
  {
   "cell_type": "markdown",
   "metadata": {},
   "source": [
    "## **Overview**\n",
    "- **claritybase**: module loads all the initial img files, applies local histogram equilization, and generates a csv file for the points and enables plot generation and graphml generation\n",
    "- **densitygraph**: module does takes the graphml file generated from clarityviz and performs all the necessary caluclations and generates a graph with a color scheme representative of node density\n",
    "- **atlasregiongraph**: module takes a csv and generates a graph color coded by region according to the atlas\n",
    "    - NOTE: the atlasregiongraph module is still currently in development and is not currently functional"
   ]
  },
  {
   "cell_type": "markdown",
   "metadata": {},
   "source": [
    "## I) Using claritybase\n",
    "\n",
    "- claritybase is used to produce the essential files.  After you perform these operations, you can choose to choose to do the calculations and or display which ever graphs you want."
   ]
  },
  {
   "cell_type": "markdown",
   "metadata": {},
   "source": [
    "#### 1) First you import the claritybase module and then you specify the token of the img file you're working with and the optional source directory.  \n",
    "\n",
    "- If you're in the same directory as the img file you're working with, you only need to pass in the token.\n",
    "\n",
    "- This creates a directory with the same name as the given token in which all the intermediate and final result files will be output to."
   ]
  },
  {
   "cell_type": "code",
   "execution_count": null,
   "metadata": {
    "collapsed": false
   },
   "outputs": [],
   "source": [
    "from clarityviz import claritybase\n",
    "\n",
    "token = 'Fear199'\n",
    "source_directory = '/cis/home/alee/claritycontrol/code/data/raw'\n",
    "\n",
    "# Initialize the claritybase object, the initial basis for all operations.\n",
    "# After you initialize with a token and source directory, a folder will be created in your current directory\n",
    "# with the token name, and all the output files will be stored there.\n",
    "cb = claritybase(token, source_directory)"
   ]
  },
  {
   "cell_type": "markdown",
   "metadata": {},
   "source": [
    "#### 2) local histogram equilization\n",
    "- local histogram equilization is the process of enhancing low contrast images, and makes the pixel values easier to process\n",
    "- after you apply localeq, load the nii file generated from it"
   ]
  },
  {
   "cell_type": "code",
   "execution_count": null,
   "metadata": {
    "collapsed": true
   },
   "outputs": [],
   "source": [
    "cb.applyLocalEq()\n",
    "\n",
    "cb.loadGeneratedNii()"
   ]
  },
  {
   "cell_type": "markdown",
   "metadata": {},
   "source": [
    "#### 3) Filter out the noise in the image to get only the points we actually want\n",
    "- for .calculatePoints: \n",
    "    - **threshold** is the threshold of samples to filter out based on fraction of the maximum intensity. \n",
    "        - e.g. let threshold = 0.9, if the sample's intensity is less than 0.9 * (maximum intensity) then it will be filtered out\n",
    "    - **sample** is the fraction of the total number of samples to include in the graph.\n",
    "        "
   ]
  },
  {
   "cell_type": "code",
   "execution_count": null,
   "metadata": {
    "collapsed": false
   },
   "outputs": [],
   "source": [
    "cb.calculatePoints(threshold = 0.9, sample = 0.1)"
   ]
  },
  {
   "cell_type": "markdown",
   "metadata": {},
   "source": [
    "#### 4) Now that you've calculated the points, you have options.  \n",
    "- generate_plotly_html() lets you generate your first graph, a basic plotting of the points using plotly.  Fancier graphs come later, after edges are calculated and some other operations are performed.\n",
    "- savePoints() saves the points to a csv file\n",
    "- plot3d() calculates the edges between the nodes in the graph\n",
    "- graphmlconvert() uses the nodes and edges files generated in plot3d() to create a graphml file that can later be used for more advanced graphs\n"
   ]
  },
  {
   "cell_type": "code",
   "execution_count": null,
   "metadata": {
    "collapsed": true
   },
   "outputs": [],
   "source": [
    "cb.generate_plotly_html()\n",
    "\n",
    "# savePoints generates the csv file of all the points in the graph.\n",
    "cb.savePoints() \n",
    "\n",
    "# plot3d calculates all the edges between the nodes.\n",
    "cb.plot3d()\n",
    "\n",
    "# graphmlconvert() creates a graphml file based on the nodes and edges file generated in plo3d.\n",
    "cb.graphmlconvert()"
   ]
  },
  {
   "cell_type": "markdown",
   "metadata": {},
   "source": [
    "### Sample output from generate_plotly_html():\n",
    "\n",
    "Fear199:\n",
    "https://neurodatadesign.github.io/seelviz/reveal/html/clarityvizhtmls/Fear199plotly.html\n",
    "\n",
    "Cocaine174:\n",
    "https://neurodatadesign.github.io/seelviz/reveal/html/Cocaine174localeq.html\n",
    "\n",
    "Control181:\n",
    "https://neurodatadesign.github.io/seelviz/reveal/html/Control181localeq.html"
   ]
  },
  {
   "cell_type": "markdown",
   "metadata": {},
   "source": [
    "After you finish generating all the files from claritybase, you have two options for more advanced analysis: the densitygraph module and the atlasregiongraph module"
   ]
  },
  {
   "cell_type": "markdown",
   "metadata": {},
   "source": [
    "## II) Using densitygraph\n",
    "\n",
    "Once the graphml file is generated with graphmlconvert(), you can use the densitygraph module.\n",
    "The density graph module is used to visualize the density of nodes in the graph, i.e. the density of neurons, in a colored fashion."
   ]
  },
  {
   "cell_type": "code",
   "execution_count": null,
   "metadata": {
    "collapsed": false
   },
   "outputs": [],
   "source": [
    "from clarityviz import densitygraph\n",
    "\n",
    "# Uses the same token before, must be in the same directory as before.\n",
    "dg = densitygraph(token)\n",
    "\n",
    "# generates a 3d plotly with color representations of density\n",
    "dg.generate_density_graph()\n",
    "\n",
    "# generates a heat map, essentially a legend, telling how many edges a certain color represents,\n",
    "# with number of edges representing how dense a certain node clustering may be.\n",
    "dg.generate_heat_map()"
   ]
  },
  {
   "cell_type": "markdown",
   "metadata": {},
   "source": [
    "### Sample output from generate_density_graph():\n",
    "Fear199:\n",
    "https://neurodatadesign.github.io/seelviz/reveal/html/clarityvizhtmls/Fear199_density.html\n",
    "\n",
    "Cocaine174:\n",
    "https://neurodatadesign.github.io/seelviz/reveal/html/graphmlhtmls/Cocaine174localeq.5000.graphml.html\n",
    "\n",
    "### Sample output from generate_heat_map():\n",
    "Fear199: https://neurodatadesign.github.io/seelviz/reveal/html/clarityvizhtmls/Fear199heatmap.html\n",
    "\n",
    "Cocaine174:\n",
    "https://neurodatadesign.github.io/seelviz/reveal/html/graphmlhtmls/Cocaine174localeq.5000.graphmlheatmap.html\n"
   ]
  },
  {
   "cell_type": "markdown",
   "metadata": {
    "collapsed": true
   },
   "source": [
    "## III) Using atlasregiongraph\n",
    "Once the csv file is generated with savePoints(), we can use the atlasregiongraph module.\n",
    "This module creates a graph color coded to the different regions of the brain according to the atlas."
   ]
  },
  {
   "cell_type": "code",
   "execution_count": null,
   "metadata": {
    "collapsed": true
   },
   "outputs": [],
   "source": [
    "from clarityviz import atlasregiongraph\n",
    "\n",
    "regiongraph = atlasregiongraph(token)\n",
    "\n",
    "regiongraph.generate_atlas_region_graph()"
   ]
  }
 ],
 "metadata": {
  "kernelspec": {
   "display_name": "Python 3",
   "language": "python",
   "name": "python3"
  },
  "language_info": {
   "codemirror_mode": {
    "name": "ipython",
    "version": 3
   },
   "file_extension": ".py",
   "mimetype": "text/x-python",
   "name": "python",
   "nbconvert_exporter": "python",
   "pygments_lexer": "ipython3",
   "version": "3.5.2"
  }
 },
 "nbformat": 4,
 "nbformat_minor": 0
}

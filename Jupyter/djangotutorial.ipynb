{
 "cells": [
  {
   "cell_type": "markdown",
   "metadata": {},
   "source": [
    "# Django Tutorial"
   ]
  },
  {
   "cell_type": "markdown",
   "metadata": {},
   "source": [
    "## 1) Installing Django\n",
    "\n",
    "You can install either through pip or anaconda:\n",
    "\n",
    "`pip install django`\n",
    "\n",
    "`conda install -c anaconda django=1.10.2`"
   ]
  },
  {
   "cell_type": "markdown",
   "metadata": {},
   "source": [
    "## 2) Creating your project\n",
    "Run:\n",
    "\n",
    "`django-admin startproject projectname`"
   ]
  },
  {
   "cell_type": "markdown",
   "metadata": {},
   "source": [
    "## 3) Run server:\n",
    "To run your server, navigate to your root directory and run:\n",
    "\n",
    "`python manage.py runserver`\n",
    "\n",
    "This starts a local server at http://127.0.0.1:8000/\n",
    "\n",
    "Now the command line should look something like:\n",
    "![title](../reveal/jonimages/afterrunserver.png)\n",
    "\n",
    "and every time you access that url, you should see a GET request notification on the command line.\n",
    "\n",
    "## 4) To create a new app:\n",
    "In your root directory run:\n",
    "\n",
    "`python manage.py startapp appname`\n",
    "\n",
    "This should create all the necessary starter files for your app in a folder with your app name. Your directory should now look something like:\n",
    "![title](../reveal/jonimages/directoryafterstartapp.png)\n",
    "\n",
    "My project was named seelviz so instead of the seelviz directory, you will see a directory with your project's name.  That directory is kind of your central backbone directory, it won't display anything but you reference all your other apps and urls through that directory.\n",
    "\n",
    "admin.py and models.py will be where you manage your database modes.  views.py is where you manage your views aka your html/css files.  tests.py is where you will put your tests.\n",
    "\n",
    "\n",
    "## 5) Add references to your new app\n",
    "Then add that app to `settings.py` by adding the name of your new app to the `INSTALLED_APPS` list of strings.  It should look something like:\n",
    "\n",
    "```python\n",
    "INSTALLED_APPS = [\n",
    "    'appname',\n",
    "    'django.contrib.admin',\n",
    "    'django.contrib.auth',\n",
    "    'django.contrib.contenttypes',\n",
    "    'django.contrib.sessions',\n",
    "    'django.contrib.messages',\n",
    "    'django.contrib.staticfiles',\n",
    "]\n",
    "```\n",
    "\n",
    "Then add     \n",
    "`url(r'^appname/', include('appname.urls'))`\n",
    "\n",
    "to `urlpatterns` in your main `urls.py`\n",
    "and be sure to `import include` in `urls.py`.\n",
    "\n",
    "It should look somethign like:\n",
    "\n",
    "```python\n",
    "from django.conf.urls import url, include\n",
    "from django.contrib import admin\n",
    "\n",
    "urlpatterns = [\n",
    "    url(r'^admin/', admin.site.urls),\n",
    "    url(r'^appname/', include('appname.urls')),\n",
    "]\n",
    "```\n",
    "\n",
    "This allows your app to be accessed at the url: http://127.0.0.1:8000/appname\n"
   ]
  },
  {
   "cell_type": "markdown",
   "metadata": {},
   "source": [
    "## NOTE: \n",
    "    - Apps are essentailly different sections to your website e.g. Forum, Blog, Store\n",
    "    - they are accessed through whatever string you put in your urlpatterns in your main urls.py\n",
    "        - in this case we used 'appname/'\n",
    "\t- we can exchange apps between different websites/projects, like literally copy and paste an app's folder to another project and just add the app name to settings.py"
   ]
  },
  {
   "cell_type": "markdown",
   "metadata": {},
   "source": [
    "## 6) Setting up your HTML/CSS files\n",
    "Django keeps all these files separate and organized.  The general concept is that inside each app folder, your going to have two other folders to house html/css files.  One called 'templates' which is where your html wil go, and another called 'static' which is where your css/javascript and other bootstrap files will go.  It's good practice to create folders under these templates and static folders with the name of the app each html/css/javascript file refers to because what you put in these templates and static folders become, in a way, global, i.e. different apps can have access to other apps' templates and static folders.\n",
    "\n",
    "So your directory structure should look something like:\n",
    "![title](../reveal/jonimages/setuphtmlcss.png)\n",
    "\n",
    "My app was named 'clarityviz' so your should see your app name whereever you see that.\n",
    "\n",
    "\n",
    "\n",
    "## 7) Create your views:\n",
    "\n",
    "In your app directory create the file 'urls.py' and add:\n",
    "```python\n",
    "from django.conf.urls import url\n",
    "from . import views\t# this imports views.py from the local package\n",
    "\n",
    "urlpatterns = [\n",
    "\turl(r'^$', views.index, name='index')]\n",
    "```\n",
    "\n",
    "In appname/views.py add:\n",
    "```python\n",
    "from django.http import HttpResponse\n",
    "\n",
    "def index(request):\n",
    "\treturn render(request, 'clarityviz/index.html')\n",
    "```\n",
    "\n",
    "The `render(request, 'clarityviz/index.html')` tells django to look in templates/clarityviz/index.html for your html file."
   ]
  },
  {
   "cell_type": "code",
   "execution_count": null,
   "metadata": {
    "collapsed": true
   },
   "outputs": [],
   "source": []
  }
 ],
 "metadata": {
  "kernelspec": {
   "display_name": "Python 3",
   "language": "python",
   "name": "python3"
  },
  "language_info": {
   "codemirror_mode": {
    "name": "ipython",
    "version": 3
   },
   "file_extension": ".py",
   "mimetype": "text/x-python",
   "name": "python",
   "nbconvert_exporter": "python",
   "pygments_lexer": "ipython3",
   "version": "3.5.2"
  }
 },
 "nbformat": 4,
 "nbformat_minor": 0
}

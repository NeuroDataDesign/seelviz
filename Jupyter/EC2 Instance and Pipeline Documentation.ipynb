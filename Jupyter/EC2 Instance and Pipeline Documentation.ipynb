{
 "cells": [
  {
   "cell_type": "markdown",
   "metadata": {},
   "source": [
    "# Setting up EC2 Server on AWS\n",
    "\n",
    "### Server Information\n",
    "Free tier (30 GB disk space, 1 GB ram) -- just a test, free.\n",
    "* Certificate: seelvizTEST.pem (/Users/Tony/Downloads/)\n",
    "* Public DNS: ec2-54-218-79-226.us-west-2.compute.amazonaws.com\n",
    "* Public IP: 54.218.79.226\n",
    "\n",
    "Seelviz Server (200 GB disk space, 52 GB RAM) -- 340 cents an hour, running under my Gmail, please shut down when not in use (don't wanna get charged!)  This is on the GoogleCloud.\n",
    "* Public DNS: contact me.\n",
    "* Public IP: contact me.\n"
   ]
  },
  {
   "cell_type": "code",
   "execution_count": null,
   "metadata": {
    "collapsed": true
   },
   "outputs": [],
   "source": [
    "# In terminal:\n",
    "\n",
    "# Check updates\n",
    "sudo apt-get update\n",
    "\n",
    "# Get Git\n",
    "sudo apt-get install git\n",
    "\n",
    "# Get C (for making stuff)\n",
    "sudo apt-get install build-essential\n",
    "\n",
    "# Get NDreg dependencies:\n",
    "sudo apt-get -y install cmake python-numpy libinsighttoolkit4-dev libfftw3-dev\n",
    "\n",
    "# Get ITKSnap so ndreg works\n",
    "itkVersion=4.10.0\n",
    "itkMinorVersion=`echo ${itkVersion} | cut -d'.' -f 1,2`\n",
    "mkdir itk;\n",
    "cd itk\n",
    "wget https://sourceforge.net/projects/itk/files/itk/${itkMinorVersion}/InsightToolkit-${itkVersion}.tar.gz\n",
    "tar -vxzf InsightToolkit-${itkVersion}.tar.gz\n",
    "mv InsightToolkit-${itkVersion} src/\n",
    "mkdir bin; cd bin\n",
    "cmake -G \"Unix Makefiles\" -DITK_USE_SYSTEM_FFTW=OFF -DITK_USE_FFTWD=ON -DITK_USE_FFTWF=ON -DModule_ITKReview=ON ../src \n",
    "make && sudo make install\n",
    "\n",
    "# Go back to home directory\n",
    "cd\n",
    "\n",
    "# Git clone ndreg\n",
    "git clone https://github.com/neurodata/ndreg.git\n",
    "    \n",
    "# Go to ndreg\n",
    "cd ndreg\n",
    "\n",
    "# Install ndreg\n",
    "cmake .\n",
    "make && sudo make install"
   ]
  }
 ],
 "metadata": {
  "kernelspec": {
   "display_name": "Python [Root]",
   "language": "python",
   "name": "Python [Root]"
  },
  "language_info": {
   "codemirror_mode": {
    "name": "ipython",
    "version": 2
   },
   "file_extension": ".py",
   "mimetype": "text/x-python",
   "name": "python",
   "nbconvert_exporter": "python",
   "pygments_lexer": "ipython2",
   "version": "2.7.12"
  }
 },
 "nbformat": 4,
 "nbformat_minor": 0
}

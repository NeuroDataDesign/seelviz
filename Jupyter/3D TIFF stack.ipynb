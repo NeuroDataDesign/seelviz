{
 "cells": [
  {
   "cell_type": "markdown",
   "metadata": {},
   "source": [
    "## TIFF stack Ilastik\n",
    "This script here:  https://github.com/NeuroDataDesign/seelviz/blob/gh-pages/Jupyter/NIFTI%20(.nii)%20Ilastik%20Membrane%20Detection.ipynb  (copied below) generates TIFF slices for each plane from Fear197 after downloading from ndreg/converting the numpy array into individual planes.  "
   ]
  },
  {
   "cell_type": "code",
   "execution_count": null,
   "metadata": {
    "collapsed": true
   },
   "outputs": [],
   "source": [
    "import os\n",
    "import numpy as np\n",
    "from PIL import Image\n",
    "import nibabel as nib\n",
    "import scipy.misc\n",
    "\n",
    "## This .nii was generated from the compute cloud\n",
    "\n",
    "TokenName = 'Fear197ds10.nii'\n",
    "img = nib.load(TokenName)\n",
    "\n",
    "## Sanity check for shape\n",
    "img.shape\n",
    "\n",
    "## Convert into np array (or memmap in this case)\n",
    "data = img.get_data()\n",
    "print data.shape\n",
    "print type(data)\n",
    "\n",
    "\n",
    "plane = 0;\n",
    "\n",
    "##Iterate through all planes to get slices\n",
    "for plane in range(data.shape[0]):\n",
    "    ## Convert memmap array into ndarray for toimage process\n",
    "    output = np.asarray(data[plane])\n",
    "    ## Save as TIFF for Ilastik\n",
    "    scipy.misc.toimage(output).save('outfile' + TokenName + str(plane) + '.tiff')"
   ]
  },
  {
   "cell_type": "markdown",
   "metadata": {},
   "source": [
    "From there, given these TIFF slices, we can visualize using ImageJ as a 3D TIFF stack.  By using the loading function in Ilastik, we can also directlyi mport this 3D TIFF stack for object classification.\n",
    "\n",
    "![Loading TIFF slice into Ilastik](ilastik/loadTIFFstackilastik.png)"
   ]
  },
  {
   "cell_type": "markdown",
   "metadata": {},
   "source": [
    "From there, we can use the same process of selecting regions using pixel + object classification to generate an object classifier.  Some images are shown below."
   ]
  },
  {
   "cell_type": "markdown",
   "metadata": {},
   "source": [
    "![Loading TIFF slice into Ilastik](ilastik/3Dpixelclassification.png)"
   ]
  },
  {
   "cell_type": "markdown",
   "metadata": {},
   "source": [
    "Using this, we can generate a classifier that we can then use with the headless Ilastik display to run analytics on the data."
   ]
  },
  {
   "cell_type": "markdown",
   "metadata": {},
   "source": [
    "Main downsides to this: pixel classification for object classification not accurate given the manual task of setting up and selecting the individual pixels.  Time intensive and manually taxing, especially on the tiny slices I generated."
   ]
  },
  {
   "cell_type": "markdown",
   "metadata": {},
   "source": [
    "![Loading TIFF slice into Ilastik](ilastik/3dpostrainingclassifier.png)"
   ]
  },
  {
   "cell_type": "code",
   "execution_count": null,
   "metadata": {
    "collapsed": true
   },
   "outputs": [],
   "source": []
  }
 ],
 "metadata": {
  "anaconda-cloud": {},
  "kernelspec": {
   "display_name": "Python [Root]",
   "language": "python",
   "name": "Python [Root]"
  },
  "language_info": {
   "codemirror_mode": {
    "name": "ipython",
    "version": 2
   },
   "file_extension": ".py",
   "mimetype": "text/x-python",
   "name": "python",
   "nbconvert_exporter": "python",
   "pygments_lexer": "ipython2",
   "version": "2.7.12"
  }
 },
 "nbformat": 4,
 "nbformat_minor": 0
}

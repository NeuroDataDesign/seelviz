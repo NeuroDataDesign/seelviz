{
 "cells": [
  {
   "cell_type": "code",
   "execution_count": 14,
   "metadata": {
    "collapsed": true
   },
   "outputs": [],
   "source": [
    "import os\n",
    "import numpy as np"
   ]
  },
  {
   "cell_type": "code",
   "execution_count": 16,
   "metadata": {
    "collapsed": false
   },
   "outputs": [],
   "source": [
    "# Update filepath to represent new edges CSV\n",
    "filename = '../graphfiles/Fear199localeq.edges.csv'\n",
    "\n",
    "data = np.genfromtxt(\n",
    "    filename,                              # file name\n",
    "    skip_header=0,                         # lines to skip at the top\n",
    "    skip_footer=0,                         # lines to skip at the bottom\n",
    "    delimiter=',',                         # column delimiter\n",
    "    dtype='string',                        # data type\n",
    "    filling_values=0,                      # fill missing values with 0\n",
    "    usecols = (0,1),                       # columns to read\n",
    "    names=['node1', 'node2'])              # column names"
   ]
  },
  {
   "cell_type": "code",
   "execution_count": 17,
   "metadata": {
    "collapsed": false
   },
   "outputs": [
    {
     "name": "stdout",
     "output_type": "stream",
     "text": [
      "\n",
      "['' '' '' ..., '' '' '']\n"
     ]
    }
   ],
   "source": [
    "print data['node1'][0]\n",
    "print data['node2']"
   ]
  },
  {
   "cell_type": "code",
   "execution_count": null,
   "metadata": {
    "collapsed": true
   },
   "outputs": [],
   "source": []
  }
 ],
 "metadata": {
  "anaconda-cloud": {},
  "kernelspec": {
   "display_name": "Python [Root]",
   "language": "python",
   "name": "Python [Root]"
  },
  "language_info": {
   "codemirror_mode": {
    "name": "ipython",
    "version": 2
   },
   "file_extension": ".py",
   "mimetype": "text/x-python",
   "name": "python",
   "nbconvert_exporter": "python",
   "pygments_lexer": "ipython2",
   "version": "2.7.12"
  }
 },
 "nbformat": 4,
 "nbformat_minor": 0
}

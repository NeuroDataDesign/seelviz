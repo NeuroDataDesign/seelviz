{
 "cells": [
  {
   "cell_type": "code",
   "execution_count": 1,
   "metadata": {
    "collapsed": false
   },
   "outputs": [],
   "source": [
    "import os\n",
    "os.chdir('/Users/Tony/Documents/Git Folder/seelviz/Jupyter/DownsampleGraphML')\n",
    "\n",
    "from argparse import ArgumentParser\n",
    "from collections import OrderedDict\n",
    "from subprocess import Popen\n",
    "from scipy.stats import gaussian_kde\n",
    "from matplotlib.backends.backend_pdf import PdfPages\n",
    "\n",
    "import numpy as np\n",
    "import nibabel as nb\n",
    "import networkx as nx\n",
    "import os\n",
    "import pickle\n",
    "import matplotlib.pyplot as plt"
   ]
  },
  {
   "cell_type": "code",
   "execution_count": 2,
   "metadata": {
    "collapsed": false
   },
   "outputs": [],
   "source": [
    "# Change the filename below to run different graphml files\n",
    "filename = 'Fear199localeq.5000.graphml'\n",
    "G = nx.read_graphml(filename)"
   ]
  },
  {
   "cell_type": "code",
   "execution_count": 3,
   "metadata": {
    "collapsed": true
   },
   "outputs": [],
   "source": [
    "def scan_statistic(G, i):\n",
    "    \"\"\"\n",
    "    Computes scan statistic-i on a set of graphs\n",
    "\n",
    "    Required Parameters:\n",
    "        G: graph\n",
    "        i:\n",
    "            - which scan statistic to compute\n",
    "    \"\"\"\n",
    "    tmp = np.array(())\n",
    "    for n in G.nodes():\n",
    "        sg = nx.ego_graph(G, n, radius=i)\n",
    "        tmp = np.append(tmp, np.sum([sg.get_edge_data(e[0], e[1])['weight']\n",
    "                        for e in sg.edges()]))\n",
    "        ss = tmp\n",
    "    return ss"
   ]
  },
  {
   "cell_type": "code",
   "execution_count": 4,
   "metadata": {
    "collapsed": true
   },
   "outputs": [],
   "source": [
    "def density(data):\n",
    "    \"\"\"\n",
    "    Computes density for metrics which return vectors\n",
    "\n",
    "    Required parameters:\n",
    "        data:\n",
    "            - Dictionary of the vectors of data\n",
    "    \"\"\"\n",
    "    dens = gaussian_kde(data)\n",
    "    xs = np.linspace(0, 1.2*np.max(data), 1000)\n",
    "    density = dens.pdf(xs)\n",
    "\n",
    "    return {\"xs\": xs, \"pdfs\": density}"
   ]
  },
  {
   "cell_type": "code",
   "execution_count": 5,
   "metadata": {
    "collapsed": false
   },
   "outputs": [
    {
     "name": "stdout",
     "output_type": "stream",
     "text": [
      "18665\n"
     ]
    }
   ],
   "source": [
    "# NNZ - Number of non-zero edges\n",
    "print len(nx.edges(G))"
   ]
  },
  {
   "cell_type": "code",
   "execution_count": 6,
   "metadata": {
    "collapsed": false
   },
   "outputs": [],
   "source": [
    "# Degree sequence\n",
    "temp_deg = np.array(nx.degree(G).values())\n",
    "deg = density(temp_deg)\n",
    "# print deg\n",
    "xs = deg['xs']\n",
    "pdfs = deg['pdfs']\n",
    "\n",
    "# Autoscale Output Image\n",
    "pdfs = [i for i in pdfs if i >= 0.0001]\n",
    "xs = xs[0: len(pdfs)]\n",
    "xsMAX = np.amax(xs)\n",
    "pdfsMAX = np.amax(pdfs)\n",
    "\n",
    "# Name of Output File\n",
    "pp = PdfPages('DegreeSequencefor' + filename + '.pdf')\n",
    "\n",
    "# Plot File\n",
    "plt.axis([0, xsMAX + 0.001, 0, pdfsMAX + 0.1])\n",
    "plt.xlabel('Degree sequence for ' + filename)\n",
    "plt.ylabel('PDFs')\n",
    "plt.title(r'Degree sequence vs PDFs for ' + filename)\n",
    "fig1 = plt.plot(xs, pdfs)\n",
    "\n",
    "# Tweak spacing to prevent clipping of ylabel\n",
    "plt.subplots_adjust(left=0.15)\n",
    "pp.savefig()\n",
    "pp.close()\n",
    "plt.clf()"
   ]
  },
  {
   "cell_type": "code",
   "execution_count": 7,
   "metadata": {
    "collapsed": false
   },
   "outputs": [
    {
     "name": "stdout",
     "output_type": "stream",
     "text": [
      "<generator object <genexpr> at 0x10fc0fc80>\n"
     ]
    }
   ],
   "source": [
    "# Compute Edge Weight \n",
    "temp_ew = (G.get_edge_data(e[0], e[1])['weight'] for e in G.edges())\n",
    "## ew = density(temp_ew) \"ValueError: `dataset` input should have multiple elements.\"\n",
    "print temp_ew\n",
    "# We don't have edge weights so this makes sense"
   ]
  },
  {
   "cell_type": "code",
   "execution_count": 8,
   "metadata": {
    "collapsed": false
   },
   "outputs": [],
   "source": [
    "# Clustering Coefficients\n",
    "nxc = nx.clustering \n",
    "temp_cc = nxc(G).values()\n",
    "ccoefs = density(temp_cc)\n",
    "xscc = ccoefs['xs']\n",
    "pdfscc = ccoefs['pdfs']\n",
    "\n",
    "# Autoscale Output Image\n",
    "pdfscc = [i for i in pdfscc if i >= 0.0001]\n",
    "xscc = xscc[0: len(pdfscc)]\n",
    "xsccMAX = np.amax(xscc)\n",
    "pdfsccMAX = np.amax(pdfscc)\n",
    "\n",
    "# Name of Output File\n",
    "pp2 = PdfPages('ClusteringCoefficientsfor' + filename + '.pdf')\n",
    "\n",
    "# Plot File\n",
    "plt.axis([0, xsccMAX + 0.01, 0, (pdfsccMAX + 0.1)])\n",
    "plt.xlabel('Clustering values for ' + filename)\n",
    "plt.ylabel('PDFs')\n",
    "plt.title(r'Clustering values vs PDFs for ' + filename)\n",
    "fig2 = plt.plot(xscc, pdfscc)\n",
    "\n",
    "# Tweak spacing to prevent clipping of ylabel\n",
    "plt.subplots_adjust(left=0.15)\n",
    "pp2.savefig()\n",
    "pp2.close()\n",
    "plt.clf()"
   ]
  },
  {
   "cell_type": "code",
   "execution_count": 9,
   "metadata": {
    "collapsed": false
   },
   "outputs": [],
   "source": [
    "# Scan Statistic-1 \n",
    "temp_ss1 = scan_statistic(G, 1)\n",
    "ss1 = density(temp_ss1)\n",
    "\n",
    "xsss = ss1['xs']\n",
    "pdfsss = ss1['pdfs']\n",
    "\n",
    "# Autoscale Output Image\n",
    "pdfsss = [i for i in pdfsss if i >= 0.0001]\n",
    "xsss = xsss[0: len(pdfsss)]\n",
    "xsssMAX = np.amax(xsss)\n",
    "pdfsssMAX = np.amax(pdfsss)\n",
    "\n",
    "pp3 = PdfPages('ScanStatistic1for' + filename + '.pdf')\n",
    "\n",
    "plt.axis([0, xsssMAX + 1, 0, pdfsssMAX + 0.01])\n",
    "plt.xlabel('Scan Statistic values for' + filename)\n",
    "plt.ylabel('PDFs')\n",
    "plt.title(r'Scan Statistic values vs PDFs for ' + filename)\n",
    "fig3 = plt.plot(xsss, pdfsss)\n",
    "\n",
    "# Tweak spacing to prevent clipping of ylabel\n",
    "plt.subplots_adjust(left=0.15)\n",
    "pp3.savefig()\n",
    "pp3.close()\n",
    "plt.clf()"
   ]
  },
  {
   "cell_type": "code",
   "execution_count": 10,
   "metadata": {
    "collapsed": false
   },
   "outputs": [
    {
     "name": "stdout",
     "output_type": "stream",
     "text": [
      "hello\n"
     ]
    }
   ],
   "source": [
    "# EigenValues \n",
    "laplacian = nx.normalized_laplacian_matrix(G)\n",
    "eigs = np.sort(np.linalg.eigvals(laplacian.A))[::-1]\n",
    "# print eigs"
   ]
  },
  {
   "cell_type": "code",
   "execution_count": 17,
   "metadata": {
    "collapsed": false
   },
   "outputs": [
    {
     "name": "stdout",
     "output_type": "stream",
     "text": [
      "848\n",
      "848\n"
     ]
    }
   ],
   "source": [
    "#Betweenness Centrality\n",
    "nxbc = nx.algorithms.betweenness_centrality\n",
    "temp_bc = (nxbc(G).values())\n",
    "centrality = density(temp_bc)\n",
    "\n",
    "xsbetween = centrality['xs']\n",
    "pdfsbetween = centrality['pdfs']\n",
    "\n",
    "# Autoscale Output Image\n",
    "pdfsbetween = [i for i in pdfsbetween if i >= 0.0001]\n",
    "xsbetween = xsbetween[0: len(pdfsbetween)]\n",
    "xsbetweenMAX = np.amax(xsbetween)\n",
    "pdfsbetweenMAX = np.amax(pdfsbetween)\n",
    "pp4 = PdfPages('Betweenness Centrality' + filename + '.pdf')\n",
    "\n",
    "print len(xsbetween)\n",
    "print len(pdfsbetween)\n",
    "\n",
    "plt.axis([0, xsbetweenMAX, 0, pdfsbetweenMAX])\n",
    "plt.xlabel('Betweenness Centrality values for ' + filename)\n",
    "plt.ylabel('PDFs')\n",
    "plt.title(r'Betweenness Centrality values vs PDFs for ' + filename)\n",
    "plt.plot(xsbetween, pdfsbetween)\n",
    "\n",
    "# Tweak spacing to prevent clipping of ylabel\n",
    "plt.subplots_adjust(left=0.15)\n",
    "pp4.savefig()\n",
    "pp4.close()\n",
    "plt.clf()"
   ]
  },
  {
   "cell_type": "code",
   "execution_count": null,
   "metadata": {
    "collapsed": true
   },
   "outputs": [],
   "source": []
  }
 ],
 "metadata": {
  "anaconda-cloud": {},
  "kernelspec": {
   "display_name": "Python [Root]",
   "language": "python",
   "name": "Python [Root]"
  },
  "language_info": {
   "codemirror_mode": {
    "name": "ipython",
    "version": 2
   },
   "file_extension": ".py",
   "mimetype": "text/x-python",
   "name": "python",
   "nbconvert_exporter": "python",
   "pygments_lexer": "ipython2",
   "version": "2.7.12"
  }
 },
 "nbformat": 4,
 "nbformat_minor": 0
}

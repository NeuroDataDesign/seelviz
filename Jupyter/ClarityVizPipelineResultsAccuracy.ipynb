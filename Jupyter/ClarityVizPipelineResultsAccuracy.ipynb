{
 "cells": [
  {
   "cell_type": "markdown",
   "metadata": {},
   "source": [
    "## CSV"
   ]
  },
  {
   "cell_type": "code",
   "execution_count": null,
   "metadata": {
    "collapsed": true
   },
   "outputs": [],
   "source": []
  },
  {
   "cell_type": "markdown",
   "metadata": {},
   "source": [
    "# graphml"
   ]
  },
  {
   "cell_type": "code",
   "execution_count": null,
   "metadata": {
    "collapsed": true
   },
   "outputs": [],
   "source": []
  },
  {
   "cell_type": "markdown",
   "metadata": {},
   "source": [
    "# plotly"
   ]
  },
  {
   "cell_type": "markdown",
   "metadata": {},
   "source": [
    "### Fear199\n",
    "confirmed plot:\n",
    "https://neurodatadesign.github.io/seelviz/reveal/html/Fear199localeq.html\n",
    "\n",
    "clarityviz package plot:\n",
    "https://neurodatadesign.github.io/seelviz/reveal/html/clarityvizhtmls/Fear199plotly.html\n",
    "\n",
    "\n",
    "## Cocaine174\n",
    "confirmed plot:\n",
    "https://neurodatadesign.github.io/seelviz/reveal/html/Fear199localeq.html\n",
    "\n",
    "clarityviz package plot:\n",
    "https://neurodatadesign.github.io/seelviz/reveal/html/clarityvizhtmls/Fear199plotly.html\n",
    "\n",
    "## Control181\n",
    "confirmed plot:\n",
    "https://neurodatadesign.github.io/seelviz/reveal/html/Fear199localeq.html\n",
    "\n",
    "clarityviz package plot:\n",
    "https://neurodatadesign.github.io/seelviz/reveal/html/clarityvizhtmls/Fear199plotly.html"
   ]
  },
  {
   "cell_type": "code",
   "execution_count": null,
   "metadata": {
    "collapsed": true
   },
   "outputs": [],
   "source": []
  }
 ],
 "metadata": {
  "kernelspec": {
   "display_name": "Python 3",
   "language": "python",
   "name": "python3"
  },
  "language_info": {
   "codemirror_mode": {
    "name": "ipython",
    "version": 3
   },
   "file_extension": ".py",
   "mimetype": "text/x-python",
   "name": "python",
   "nbconvert_exporter": "python",
   "pygments_lexer": "ipython3",
   "version": "3.5.2"
  }
 },
 "nbformat": 4,
 "nbformat_minor": 0
}

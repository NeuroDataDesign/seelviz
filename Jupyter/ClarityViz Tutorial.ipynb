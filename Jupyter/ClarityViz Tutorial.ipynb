{
 "cells": [
  {
   "cell_type": "markdown",
   "metadata": {},
   "source": [
    "# ClarityViz Tutorial"
   ]
  },
  {
   "cell_type": "markdown",
   "metadata": {},
   "source": [
    "## Import the clarityviz modules\n",
    "- the first module, claritybase, loads all the initial img files, and generates a csv file for the points and \n",
    "- the densitygraph module does takes the graphml file generated from clarityviz and performs all the necessary caluclations and generates a graph with a color scheme representative of node density"
   ]
  },
  {
   "cell_type": "code",
   "execution_count": 1,
   "metadata": {
    "collapsed": false
   },
   "outputs": [
    {
     "ename": "ImportError",
     "evalue": "No module named 'clarityviz'",
     "output_type": "error",
     "traceback": [
      "\u001b[0;31m---------------------------------------------------------------------------\u001b[0m",
      "\u001b[0;31mImportError\u001b[0m                               Traceback (most recent call last)",
      "\u001b[0;32m<ipython-input-1-98ff8f683293>\u001b[0m in \u001b[0;36m<module>\u001b[0;34m()\u001b[0m\n\u001b[0;32m----> 1\u001b[0;31m \u001b[0;32mfrom\u001b[0m \u001b[0mclarityviz\u001b[0m \u001b[0;32mimport\u001b[0m \u001b[0mclarityviz\u001b[0m\u001b[0;34m\u001b[0m\u001b[0m\n\u001b[0m\u001b[1;32m      2\u001b[0m \u001b[0;32mfrom\u001b[0m \u001b[0mclarityviz\u001b[0m \u001b[0;32mimport\u001b[0m \u001b[0mdensitygraph\u001b[0m\u001b[0;34m\u001b[0m\u001b[0m\n",
      "\u001b[0;31mImportError\u001b[0m: No module named 'clarityviz'"
     ]
    }
   ],
   "source": [
    "from clarityviz import claritybase\n",
    "from clarityviz import densitygraph"
   ]
  },
  {
   "cell_type": "markdown",
   "metadata": {},
   "source": [
    "## After modules are imported, begin with claritybase\n",
    "The following are the functions used to produce the essential files.  After you perform these operations, you can choose to choose to do the calculations and or display which ever graphs you want."
   ]
  },
  {
   "cell_type": "code",
   "execution_count": null,
   "metadata": {
    "collapsed": true
   },
   "outputs": [],
   "source": [
    "token = 'Fear199'\n",
    "source_directory = '/cis/home/alee/claritycontrol/code/data/raw'\n",
    "\n",
    "# Initialize the claritybase object, the initial basis for all operations.\n",
    "# After you initialize with a token and source directory, a folder will be created in your current directory\n",
    "# with the token name, and all the output files will be stored there.\n",
    "cb = claritybase(token, source_directory)\n",
    "\n",
    "cb.applyLocalEq()\n",
    "\n",
    "cb.loadGeneratedNii()\n",
    "\n",
    "cb.calculatePoints(threshold = 0.9, sample = 0.1)\n",
    "\n",
    "# After you calculate all the points you can generate your first graph, a basic plotly that shows all\n",
    "# the nodes.  Fancier graphs come later, after edges are calculated and some other operations are performed.\n",
    "cb.generate_plotly_html()\n",
    "\n",
    "# savePoints generates the csv file of all the points in the graph.\n",
    "cb.savePoints() \n",
    "\n",
    "# plot3d calculates all the edges between the nodes.\n",
    "cb.plot3d()\n",
    "\n",
    "# graphmlconvert() creates a graphml file based on the nodes and edges file generated in plo3d.\n",
    "cb.graphmlconvert()"
   ]
  },
  {
   "cell_type": "markdown",
   "metadata": {},
   "source": [
    "## Once the graphml file is generated with graphmlconvert(), you can use the densitygraph module.\n",
    "The density graph module is used to visualize the density of nodes in the graph, i.e. the density of neurons, in a colored fashion."
   ]
  },
  {
   "cell_type": "code",
   "execution_count": 2,
   "metadata": {
    "collapsed": true
   },
   "outputs": [
    {
     "ename": "NameError",
     "evalue": "name 'densitygraph' is not defined",
     "output_type": "error",
     "traceback": [
      "\u001b[0;31m---------------------------------------------------------------------------\u001b[0m",
      "\u001b[0;31mNameError\u001b[0m                                 Traceback (most recent call last)",
      "\u001b[0;32m<ipython-input-2-f0be4d74ee87>\u001b[0m in \u001b[0;36m<module>\u001b[0;34m()\u001b[0m\n\u001b[1;32m      1\u001b[0m \u001b[0;31m# Uses the same token before, must be in the same directory as before.\u001b[0m\u001b[0;34m\u001b[0m\u001b[0;34m\u001b[0m\u001b[0m\n\u001b[0;32m----> 2\u001b[0;31m \u001b[0mdg\u001b[0m \u001b[0;34m=\u001b[0m \u001b[0mdensitygraph\u001b[0m\u001b[0;34m(\u001b[0m\u001b[0mtoken\u001b[0m\u001b[0;34m)\u001b[0m\u001b[0;34m\u001b[0m\u001b[0m\n\u001b[0m\u001b[1;32m      3\u001b[0m \u001b[0;34m\u001b[0m\u001b[0m\n\u001b[1;32m      4\u001b[0m \u001b[0;31m# generates a 3d plotly with color representations of density\u001b[0m\u001b[0;34m\u001b[0m\u001b[0;34m\u001b[0m\u001b[0m\n\u001b[1;32m      5\u001b[0m \u001b[0mdg\u001b[0m\u001b[0;34m.\u001b[0m\u001b[0mgenerate_density_graph\u001b[0m\u001b[0;34m(\u001b[0m\u001b[0;34m)\u001b[0m\u001b[0;34m\u001b[0m\u001b[0m\n",
      "\u001b[0;31mNameError\u001b[0m: name 'densitygraph' is not defined"
     ]
    }
   ],
   "source": [
    "# Uses the same token before, must be in the same directory as before.\n",
    "dg = densitygraph(token)\n",
    "\n",
    "# generates a 3d plotly with color representations of density\n",
    "dg.generate_density_graph()\n",
    "\n",
    "# generates a heat map, essentially a legend, telling how many edges a certain color represents,\n",
    "# with number of edges representing how dense a certain node clustering may be.\n",
    "dg.generate_heat_map"
   ]
  },
  {
   "cell_type": "code",
   "execution_count": null,
   "metadata": {
    "collapsed": true
   },
   "outputs": [],
   "source": []
  }
 ],
 "metadata": {
  "kernelspec": {
   "display_name": "Python 3",
   "language": "python",
   "name": "python3"
  },
  "language_info": {
   "codemirror_mode": {
    "name": "ipython",
    "version": 3
   },
   "file_extension": ".py",
   "mimetype": "text/x-python",
   "name": "python",
   "nbconvert_exporter": "python",
   "pygments_lexer": "ipython3",
   "version": "3.5.2"
  }
 },
 "nbformat": 4,
 "nbformat_minor": 0
}

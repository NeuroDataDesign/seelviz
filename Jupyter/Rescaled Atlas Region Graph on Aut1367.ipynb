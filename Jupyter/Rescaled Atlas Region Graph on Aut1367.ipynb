{
 "cells": [
  {
   "cell_type": "code",
   "execution_count": 1,
   "metadata": {
    "collapsed": true
   },
   "outputs": [],
   "source": [
    "## Updated to include labels from CCF v3\n",
    "## CSV of labels from https://github.com/NeuroDataDesign/seelviz/blob/gh-pages/ccrf/ccrfCSV.csv\n",
    "\n",
    "## UPDATED for spacing!"
   ]
  },
  {
   "cell_type": "code",
   "execution_count": 2,
   "metadata": {
    "collapsed": false
   },
   "outputs": [],
   "source": [
    "from plotly.offline import download_plotlyjs\n",
    "from plotly.graph_objs import *\n",
    "from plotly import tools\n",
    "import plotly\n",
    "\n",
    "import os\n",
    "#os.chdir('C:/Users/L/Documents/Homework/BME/Neuro Data I/Data/')\n",
    "\n",
    "import csv,gc  # garbage memory collection :)\n",
    "\n",
    "import numpy as np\n",
    "# import matplotlib.pyplot as plt\n",
    "# from mpl_toolkits.mplot3d import axes3d\n",
    "\n",
    "# from mpl_toolkits.mplot3d import axes3d\n",
    "# from collections import namedtuple\n",
    "\n",
    "import csv\n",
    "import re\n",
    "import matplotlib\n",
    "import time\n",
    "import seaborn as sns\n",
    "\n",
    "from collections import OrderedDict"
   ]
  },
  {
   "cell_type": "code",
   "execution_count": 3,
   "metadata": {
    "collapsed": true
   },
   "outputs": [],
   "source": [
    "token = 'Aut1367'"
   ]
  },
  {
   "cell_type": "code",
   "execution_count": 4,
   "metadata": {
    "collapsed": false
   },
   "outputs": [],
   "source": [
    "\"\"\"Script for generating the color coded atlas region graphs\"\"\"\n",
    "\n",
    "path1 = os.getcwd() + '/../ccrf/'\n",
    "path2 = os.getcwd() + '/../ccf/'\n",
    "\n",
    "data_txt = path1 + 'Aut1367reorient_atlas.region.csv'\n",
    "ccf_txt = path2 + 'natureCCFOhedited.csv'\n",
    "\n",
    "data = np.genfromtxt(data_txt, delimiter=',', dtype='int', usecols = (0,1,2,4), names=['x','y','z','region'])"
   ]
  },
  {
   "cell_type": "code",
   "execution_count": 5,
   "metadata": {
    "collapsed": false
   },
   "outputs": [
    {
     "name": "stdout",
     "output_type": "stream",
     "text": [
      "[(37, 483, 292, 527) (37, 484, 304, 527) (39, 496, 330, 527) ...,\n",
      " (547, 466, 263, 527) (547, 470, 244, 527) (550, 470, 253, 527)]\n"
     ]
    }
   ],
   "source": [
    "# Debugging:\n",
    "print data\n",
    "# print type(ccf_txt)\n",
    "# print type(data_txt)"
   ]
  },
  {
   "cell_type": "code",
   "execution_count": 5,
   "metadata": {
    "collapsed": true
   },
   "outputs": [],
   "source": [
    "ccf = {}"
   ]
  },
  {
   "cell_type": "code",
   "execution_count": 6,
   "metadata": {
    "collapsed": false
   },
   "outputs": [],
   "source": [
    "with open(ccf_txt, 'rU') as csvfile:\n",
    "    csvreader = csv.reader(csvfile)\n",
    "    for row in csvreader:\n",
    "        # row[0] is ccf atlas index, row[4] is string of full name\n",
    "        ccf[row[0]] = row[4];\n",
    "        #print row[0]\n",
    "        #print row[4]\n",
    "        #print ', '.join(row)"
   ]
  },
  {
   "cell_type": "code",
   "execution_count": 8,
   "metadata": {
    "collapsed": false
   },
   "outputs": [
    {
     "name": "stdout",
     "output_type": "stream",
     "text": [
      "{'10678': 'Crus 2, granular layer', '507': 'Main olfactory bulb', '198': 'pyramidal decussation', '1144': 'Cerebellar cortex, molecular layer', '1145': 'Cerebellar cortex, Purkinje layer', '161': 'Nucleus intercalatus', '344': 'Agranular insular area, posterior part, layer 5', '345': 'Primary somatosensory area, mouth', '346': 'Primary somatosensory area, layer 2/3', '347': 'Subparaventricular zone', '340': 'Posterior parietal association areas, layer 6b', '341': 'supramammillary decussation', '342': 'Substantia innominata', '343': 'Brain stem', '810': 'Anterior cingulate area, ventral part, 6a', '811': 'Inferior colliculus, central nucleus', '812': 'superior cerebellar peduncle decussation', '813': 'hypoglossal nerve', '814': 'Dorsal peduncular area', '815': 'Dentate gyrus medial blade, polymorph layer', '816': 'Primary auditory area, layer 4', '817': 'supraoptic commissures, anterior', '380': 'cuneate fascicle', '595': 'fasciculus retroflexus', '737': 'postcommissural fornix', '719': 'Primary somatosensory area, layer 6b', '718': 'Ventral posterolateral nucleus of the thalamus', '717': 'accessory spinal nerve', '716': 'Anterior hypothalamic nucleus, dorsal part', '715': 'Entorhinal area, lateral part, layer 2a', '714': 'Orbital area', '713': 'perforant path', '712': 'Entorhinal area, medial part, dorsal zone, layer 4', '711': 'Cuneate nucleus', '710': 'abducens nerve', '618': 'hippocampal commissures', '915': 'Parabrachial nucleus, medial division, medial medial part', '129': 'third ventricle', '420': 'precommissural fornix diagonal band', '505': 'Bed nuclei of the stria terminalis, anterior division, dorsomedial nucleus', '917': 'vagus nerve', '1069': 'Parapyramidal nucleus', '736': 'central tegmental bundle', '916': 'brachium of the superior colliculus', '1061': 'Posterior pretectal nucleus', '911': 'trochlear nerve', '1063': 'hippocampal fissure', '1062': 'Primary somatosensory area, barrel field, layer 6b', '1065': 'Hindbrain', '1064': 'Crus 2', '1067': 'Taenia tecta, ventral part, layer 1', '1066': 'Anteromedial visual area, layer 2/3', '913': 'Visual areas, layer 4', '298': 'Magnocellular nucleus', '299': 'Somatomotor areas, Layer 5', '296': 'Anterior cingulate area, ventral part, layer 2/3', '297': 'Taenia tecta, dorsal part, layers 1-4', '294': 'Superior colliculus, motor related', '295': 'Basolateral amygdalar nucleus', '292': 'Bed nucleus of the accessory olfactory tract', '293': 'spinovestibular pathway', '290': 'Hypothalamic lateral zone', '291': 'Piriform area, polymorph layer', '1128': 'Primary somatosensory area, lower limb, layer 5', '1086': 'Primary somatosensory area, trunk, layer 4', '1085': 'Secondary motor area, layer 6b', '592': 'Cortical amygdalar area, posterior part, medial zone, layers 1-2', '199': 'Anterior olfactory nucleus, posteroventral part', '1082': 'Taenia tecta, ventral part, layer 3', '597': 'Taenia tecta, dorsal part', '1080': 'Hippocampal region', '195': 'Prelimbic area, layer 2', '598': 'Ventral auditory area, layer 6b', '197': 'Rostral linear nucleus raphe', '196': 'Accessory olfactory bulb, granular layer', '191': 'Anterior olfactory nucleus, medial part', '1125': 'Orbital area, ventrolateral part, layer 5', '1089': 'Hippocampal formation', '1127': 'Temporal association areas, layer 2/3', '270': 'spinoreticular pathway', '271': 'Nucleus sagulum', '272': 'Anteroventral periventricular nucleus', '274': 'Retrosplenial area, dorsal part, layer 6a', '275': 'Lateral septal complex', '276': 'Piriform area, molecular layer', '277': 'spinotectal pathway', '278': 'Striatum-like amygdalar nuclei', '279': 'Retrosplenial area, lateral agranular part, layer 6b', '182305689': 'Primary somatosensory area, unassigned', '18': 'nodular fissure', '524': 'Orbital area, medial part, layer 2', '525': 'Supramammillary nucleus', '526': 'Entorhinal area, medial part, dorsal zone, layer 1', '527': 'Dorsal auditory area, layer 1', '520': 'Ventral auditory area, layer 6a', '521': 'Bed nuclei of the stria terminalis, anterior division, magnocellular nucleus', '522': 'dorsal commissure of the spinal cord', '523': 'Medial preoptic area', '1014': 'Geniculate group, ventral thalamus', '1015': 'Anterior cingulate area, dorsal part, layer 5', '599': 'Central medial nucleus of the thalamus', '1017': 'Ansiform lobule', '1010': 'Visceral area, layer 4', '1011': 'Dorsal auditory area', '1012': 'corticorubral tract', '1103': 'primary fissure', '10709': 'Lobule II, Purkinje layer', '448': 'Orbital area, lateral part, layer 1', '10703': 'Dentate gyrus, molecular layer', '442': 'Retrosplenial area, dorsal part, layer 1', '441': 'Anteromedial visual area, layer 6b', '440': 'Orbital area, lateral part, layer 6a', '447': 'Paraventricular hypothalamic nucleus, descending division, forniceal part', '446': 'Field CA2, pyramidal layer', '445': 'Spinal nucleus of the trigeminal, oral part', '10704': 'Dentate gyrus, polymorph layer', '108': 'choroid plexus', '109': 'nigrothalamic fibers', '102': 'nigrostriatal tract', '103': 'Paraventricular hypothalamic nucleus, magnocellular division, posterior magnocellular part', '100': 'Interpeduncular nucleus', '101': 'Ventral cochlear nucleus', '106': 'Inferior salivatory nucleus', '107': 'Somatomotor areas, Layer 1', '104': 'Agranular insular area, dorsal part', '105': 'Superior olivary complex, medial part', '902': 'Posterolateral visual area, layer 5', '903': 'External cuneate nucleus', '39': 'Anterior cingulate area, dorsal part', '38': 'Paraventricular hypothalamic nucleus', '906': 'Retrosplenial area, lateral agranular part, layer 6a', '907': 'Paracentral nucleus', '904': 'Medial septal complex', '905': 'Anterolateral visual area, layer 2/3', '33': 'Primary visual area, layer 6a', '31': 'Anterior cingulate area', '909': 'Entorhinal area', '37': 'longitudinal association bundle', '36': 'Gustatory areas, layer 1', '35': 'Oculomotor nucleus', '34': 'intercrural fissure', '125': 'optic tract', '640': 'Efferent vestibular nucleus', '643': 'Posterior auditory area, layer 2/3', '1088': 'Medial geniculate complex, medial part', '645': 'Vermal regions', '644': 'Somatomotor areas, Layer 6a', '647': 'Cortical amygdalar area, posterior part', '646': 'Dorsal peduncular area, layer 5', '649': 'Anterolateral visual area, layer 6b', '241': 'Posterior parietal association areas, layer 2/3', '434': 'Retrosplenial area, dorsal part, layer 2/3', '435': 'Medial amygdalar nucleus, posteroventral part', '432': 'Nucleus circularis', '433': 'Anteromedial visual area, layer 5', '430': 'Retrosplenial area, ventral part, layer 2/3', '240': 'Cortical amygdalar area, posterior part, medial zone, layer 1', '753': 'principal mammillary tract', '339': 'Midbrain, sensory related', '243': 'Dorsal auditory area, layer 6b', '335': 'Perirhinal area, layer 6a', '334': 'Basomedial amygdalar nucleus, posterior part', '337': 'Primary somatosensory area, lower limb', '242': 'Lateral septal nucleus', '331': 'Mammillary body', '330': 'Retrosplenial area, dorsal part, layer 6b', '333': 'Septohippocampal nucleus', '332': 'Accessory supraoptic group', '89': 'rhinocele', '744': 'cerebellar commissure', '745': 'precommissural fornix, general', '854': 'Primary somatosensory area, upper limb, layer 2/3', '818': 'Pallidum, dorsal region', '856': 'Thalamus, polymodal association cortex related', '857': 'Visceral area, layer 6a', '850': 'uncinate fascicle', '851': 'Superior colliculus, optic layer', '852': 'Parvicellular reticular nucleus', '819': 'Anterior cingulate area, ventral part, 6b', '10677': 'Crus 1, molecular layer', '858': 'ventral commissure of the spinal cord', '859': 'Parasolitary nucleus', '193': 'Parapyramidal nucleus, superficial part', '555': 'Midbrain reticular nucleus, parvicellular part', '749': 'Ventral tegmental area', '900': 'anterior commissure, olfactory limb', '10676': 'Crus 1, Purkinje layer', '43': 'ansoparamedian fissure', '99': 'Nucleus of the lateral lemniscus, ventral part', '98': 'subependymal zone', '91': 'Interposed nucleus', '90': 'Nucleus of the lateral lemniscus, horizontal part', '93': 'motor root of the trigeminal nerve', '92': 'Entorhinal area, lateral part, layer 4', '95': 'Agranular insular area', '94': 'Paraventricular hypothalamic nucleus, parvicellular division', '97': 'Temporal association areas, layer 1', '96': 'Dorsal cochlear nucleus', '424': 'Piriform-amygdalar area, polymorph layer', '10693': 'Parasubiculum, layer 1', '348': 'Midbrain, behavioral state related', '6': 'internal capsule', '349': 'supraoptic commissures', '1098': 'Medullary reticular nucleus, dorsal part', '153': 'lateral recess', '740': 'Medial preoptic nucleus, central part', '741': 'Ventral posteromedial nucleus of the thalamus, parvicellular part', '742': 'Dentate gyrus crest, molecular layer', '743': 'Entorhinal area, medial part, dorsal zone, layer 6', '559': 'Central amygdalar nucleus, medial part', '558': 'Primary somatosensory area, nose, layer 1', '746': 'Orbital area, ventrolateral part', '747': 'Infralimbic area, layer 2', '748': 'Medial preoptic nucleus, lateral part', '554': 'Bed nuclei of the stria terminalis, anterior division, oval nucleus', '557': 'Tuberomammillary nucleus', '556': 'Infralimbic area, layer 2/3', '551': 'Central amygdalar nucleus, lateral part', '550': 'Entorhinal area, medial part, dorsal zone, layer 5/6', '553': 'dorsal spinocerebellar tract', '552': 'Pontine reticular nucleus, ventral part', '238': 'Nucleus raphe pontis', '239': 'Anterior group of the dorsal thalamus', '234': 'Temporal association areas, layer 4', '235': 'Lateral reticular nucleus', '236': 'Main olfactory bulb, mitral layer', '848': 'optic nerve', '230': 'Nucleus raphe pallidus', '231': 'Anterior tegmental nucleus', '232': 'Cortical amygdalar area, posterior part, lateral zone, layer 3', '233': 'Anterolateral visual area, layer 5', '1050': 'Taenia tecta, dorsal part, layer 3', '1051': 'direct tectospinal pathway', '1052': 'Pedunculopontine nucleus', '1053': 'Anterior cingulate area, layer 2/3', '1054': 'Infralimbic area, layer 6a', '1055': 'endorhinal groove', '1056': 'Crus 1', '1057': 'Gustatory areas', '1058': 'Visceral area, layer 5', '1059': 'Taenia tecta, dorsal part, layer 4', '992': 'Lobule IV', '1': 'Tuberomammillary nucleus, ventral part', '614': 'Tuberal nucleus', '146': 'Pontine reticular nucleus', '147': 'Locus ceruleus', '144': 'Olfactory tubercle, layers 1-3', '619': 'Nucleus of the lateral olfactory tract', '142': 'pallidothalmic pathway', '143': 'Nucleus ambiguus, ventral division', '140': 'cerebral aqueduct', '141': 'Periventricular region', '612': 'Nucleus of the lateral lemniscus', '613': 'Lateral visual area, layer 5', '610': 'Retrosplenial area, dorsal part, layer 5', '611': 'habenular commissure', '616': 'Cuneiform nucleus', '617': 'Mediodorsal nucleus of the thalamus, central part', '148': 'Gustatory areas, layer 4', '149': 'Paraventricular nucleus of the thalamus', '1007': 'Simple lobule', '912': 'Lingula (I)', '1006': 'Primary somatosensory area, trunk, layer 1', '154': 'Perihypoglossal nuclei', '513': 'Bed nuclei of the stria terminalis, anterior division, fusiform nucleus', '194': 'Lateral hypothalamic area', '512': 'Cerebellum', '948': 'cochlear nerve', '949': 'vomeronasal nerve', '946': 'Posterior hypothalamic nucleus', '947': 'Somatomotor areas, Layer 6b', '944': 'Folium-tuber vermis (VII)', '945': 'Primary somatosensory area, upper limb, layer 6a', '942': 'Endopiriform nucleus', '943': 'Primary motor area, Layer 2/3', '404': 'olivocerebellar tract', '514': 'dorsal column', '768': 'cerebrum related', '10689': 'Paraflocculus, molecular layer', '689': 'Ventrolateral preoptic nucleus', '688': 'Cerebral cortex', '685': 'Ventral medial nucleus of the thalamus', '684': 'Dorsomedial nucleus of the hypothalamus, ventral part', '687': 'Retrosplenial area, ventral part, layer 5', '686': 'Primary somatosensory area, layer 6a', '681': 'mammillotegmental tract', '680': 'Orbital area, ventrolateral part, layer 6b', '683': 'Posterior parietal association areas, layer 5', '682': 'Nucleus of the solitary tract, lateral part', '458': 'Olfactory tubercle, molecular layer', '459': 'accessory olfactory tract', '10699': 'Presubiculum, layer 1', '132': 'Prelimbic area, layer 6b', '131': 'Lateral amygdalar nucleus', '130': 'Superior central nucleus raphe, medial part', '498': 'Bed nuclei of the stria terminalis, anterior division, anteromedial area', '136': 'Intermediate reticular nucleus', '135': 'Nucleus ambiguus', '182305713': 'Primary somatosensory area, unassigned, layer 6b', '494': 'Superior colliculus, motor related, intermediate gray layer, sublayer a', '495': 'Field CA3, pyramidal layer', '496': 'Dorsal peduncular area, layer 1', '497': 'Visual areas, layer 6b', '10695': 'Parasubiculum, layer 3', '10694': 'Parasubiculum, layer 2', '492': 'Orbital area, layer 2/3', '10696': 'Postsubiculum, layer 1', '25': 'simple fissure', '26': 'Superior colliculus, motor related, deep gray layer', '27': 'Intergeniculate leaflet of the lateral geniculate complex', '20': 'Entorhinal area, lateral part, layer 2', '21': 'lateral olfactory tract, general', '22': 'Posterior parietal association areas', '23': 'Anterior amygdalar area', '10686': 'Copula pyramidis, molecular layer', '624': 'Interpeduncular fossa', '28': 'Entorhinal area, lateral part, layer 6a', '29': 'lateral spinothalamic tract', '137': 'Superior central nucleus raphe, lateral part', '407': 'Field CA1, pyramidal layer', '406': 'Subparafascicular nucleus', '939': 'Nucleus ambiguus, dorsal division', '938': 'Paragigantocellular reticular nucleus', '403': 'Medial amygdalar nucleus', '402': 'Anterolateral visual area', '401': 'Anteromedial visual area, layer 4', '400': 'Piriform-amygdalar area, layers 1-3', '933': 'vestibulocochlear nerve', '932': 'cervicothalamic tract', '931': 'Pontine gray', '930': 'Parafascicular nucleus', '937': 'Visual areas, layer 5', '452': 'Median preoptic nucleus', '409': 'Lateral visual area', '408': 'Piriform-amygdalar area, molecular layer', '628': 'Nucleus of the optic tract', '10735': 'Nodulus (X), granular layer', '1028': 'corticospinal tract, uncrossed', '10688': 'Paraflocculus, Purkinje layer', '455': 'Paraventricular hypothalamic nucleus, descending division, lateral parvicellular part', '158': 'posterior commissure', '10692': 'Flocculus, molecular layer', '1018': 'Ventral auditory area', '379': 'Medulla, behavioral state related', '378': 'Supplemental somatosensory area', '829': 'Subiculum, dorsal part, molecular layer', '828': 'Inferior colliculus, external nucleus', '1060': 'doral tegmental decussation', '371': 'Entorhinal area, medial part, ventral zone, layer 3', '370': 'Medulla, motor related', '827': 'Infralimbic area, layer 5', '826': 'Pallidum, medial region', '821': 'Primary visual area, layer 2/3', '820': 'Inferior colliculus, dorsal nucleus', '377': 'Posterolateral visual area, layer 6a', '376': 'Cortical amygdalar area, posterior part, lateral zone, layers 1-3', '10733': 'Uvula (IX), Purkinje layer', '708': 'Anterior hypothalamic nucleus, central part', '709': 'Ventral posterior complex of the thalamus', '704': 'Agranular insular area, ventral part, layer 1', '705': 'midbrain tract of the trigeminal nerve', '706': 'Olivary pretectal nucleus', '707': 'Infralimbic area, layer 1', '700': 'Anterior hypothalamic nucleus, anterior part', '701': 'Vestibular nuclei', '702': 'Primary somatosensory area, nose, layer 5', '703': 'Cortical subplate', '393': 'Posterolateral visual area, layer 6b', '392': 'Nucleus of the lateral olfactory tract, layers 1-3', '391': 'Field CA1, stratum lacunosum-moleculare', '390': 'Supraoptic nucleus', '397': 'ventral tegmental decussation', '396': 'internal arcuate fibers', '395': 'Medullary reticular nucleus', '394': 'Anteromedial visual area', '82': 'Nucleus of the lateral lemniscus, dorsal part', '181': 'Nucleus of reunions', '399': 'Field CA1, stratum oriens', '398': 'Superior olivary complex', '86': 'middle thalamic commissure', '87': 'Paraventricular hypothalamic nucleus, parvicellular division, medial parvicellular part, dorsal zone', '84': 'Prelimbic area, layer 6a', '85': 'spinocerebellar tract', '797': 'Zona incerta', '796': 'Dopaminergic A13 group', '795': 'Periaqueductal gray', '794': 'spinal tract of the trigeminal nerve', '793': 'Primary somatosensory area, layer 1', '792': 'dorsal roots', '791': 'Posterior auditory area, layer 5', '415': 'Field CA1, stratum radiatum', '381': 'Substantia nigra, reticular part', '799': 'Dentate gyrus medial blade', '798': 'facial nerve', '7': 'Principal sensory nucleus of the trigeminal', '170': 'Dorsal part of the lateral geniculate complex', '10731': 'Pyramus (VIII), molecular layer', '586': 'fasciculus proprius', '587': 'Nucleus of Darkschewitsch', '1139': 'Nucleus of the lateral olfactory tract, layer 3', '585': 'Bed nuclei of the stria terminalis, posterior division, interfascicular nucleus', '582': 'Orbital area, medial part, layer 2/3', '583': 'Claustrum', '580': 'Nucleus of the brachium of the inferior colliculus', '581': 'Triangular nucleus of septum', '1133': 'Entorhinal area, medial part, ventral zone, layer 5/6', '1132': 'Pons, sensory related', '1131': 'intermediate nerve', '588': 'Anterior cingulate area, ventral part, layer 1', '589': 'Taenia tecta', '245': 'spinocervical tract', '244': 'Main olfactory bulb, outer plexiform layer', '247': 'Auditory areas', '12993': 'Somatosensory areas, layer 1', '12994': 'Somatosensory areas, layer 2/3', '12995': 'Somatosensory areas, layer 4', '12996': 'Somatosensory areas, layer 5', '12997': 'Somatosensory areas, layer 6a', '12998': 'Somatosensory areas, layer 6b', '615': 'Substantia nigra, lateral part', '249': 'Posterior auditory area, layer 6a', '248': 'Cortical amygdalar area, posterior part, medial zone, layer 2', '972': 'Prelimbic area', '1032': 'grooves of the cerebral cortex', '924': 'cerebal peduncle', '970': 'Paragigantocellular reticular nucleus, dorsal part', '925': 'ventral roots', '519': 'Cerebellar nuclei', '518': 'Subiculum, ventral part', '1009': 'fiber tracts', '1008': 'Geniculate group, dorsal thalamus', '511': 'Superior colliculus, motor related, intermediate gray layer, sublayer c', '510': 'Primary somatosensory area, lower limb, layer 6b', '1005': 'Primary auditory area, layer 6b', '1004': 'Ventral premammillary nucleus', '515': 'Medial preoptic nucleus', '1002': 'Primary auditory area', '517': 'Postpiriform transition area, layers 1-3', '516': 'Orbital area, layer 6b', '623': 'Cerebral nuclei', '622': 'Retrosplenial area, ventral part, layer 6b', '621': 'Motor nucleus of trigeminal', '620': 'Orbital area, medial part, layer 5', '627': 'hypothalamohypophysial tract', '626': 'Mediodorsal nucleus of the thalamus, lateral part', '625': 'Primary somatosensory area, upper limb, layer 5', '590': 'Retrosplenial area, ventral part, layer 6a', '450': 'Primary somatosensory area, upper limb, layer 1', '451': 'Basolateral amygdalar nucleus, ventral part', '629': 'Ventral anterior-lateral complex of the thalamus', '453': 'Somatosensory areas', '454': 'Field CA2, stratum radiatum', '593': 'Primary visual area, layer 1', '456': 'Posterior auditory area, layer 6b', '457': 'Visual areas, layer 6a', '185': 'Parapyramidal nucleus, deep part', '1084': 'Presubiculum', '979': 'corpus callosum, rostrum', '179': 'Anterior cingulate area, layer 6a', '178': 'Ventral part of the lateral geniculate complex', '177': 'Nucleus of Roller', '1083': 'epithalamus related', '175': 'Anterior olfactory nucleus, external part', '174': 'preoptic commissure', '173': 'Retrochiasmatic area', '171': 'Prelimbic area, layer 1', '594': 'Bed nuclei of the stria terminalis, posterior division, transverse nucleus', '977': 'Ectorhinal area/Layer 6a', '976': 'Lobule II', '975': 'Edinger-Westphal nucleus', '974': 'Primary somatosensory area, mouth, layer 5', '973': 'Lateral visual area, layer 2/3', '1081': 'Infralimbic area, layer 6b', '971': 'corpus callosum, posterior forceps', '657': 'Primary somatosensory area, mouth, layer 2/3', '596': 'Diagonal band nucleus', '654': 'Primary somatosensory area, nose, layer 4', '253': 'spinohypothalamic pathway', '978': 'Paragigantocellular reticular nucleus, lateral part', '656': 'Secondary motor area, layer 1', '183': 'Anterior olfactory nucleus, lateral part', '180': 'Gustatory areas, layer 2/3', '2': 'Primary somatosensory area, mouth, layer 6b', '186': 'Lateral habenula', '187': 'Gustatory areas, layer 5', '184': 'Frontal pole, cerebral cortex', '1121': 'Entorhinal area, lateral part, layer 1', '652': 'Paraventricular hypothalamic nucleus, magnocellular division, posterior magnocellular part, lateral zone', '188': 'Accessory olfactory bulb, glomerular layer', '189': 'Rhomboid nucleus', '658': 'lateral lemniscus', '659': 'Nucleus of the solitary tract, central part', '1110': 'Supramammillary nucleus, lateral part', '1123': 'inferior cerebellar peduncle', '650': 'juxtarestiform body', '1124': 'Suprachiasmatic preoptic nucleus', '651': 'Nucleus of the solitary tract', '190': 'pyramid', '1126': 'Tuberomammillary nucleus, dorsal part', '192': 'Cortical amygdalar area, anterior part, layer 1', '869': 'Posterolateral visual area, layer 4', '10': 'Superior colliculus, motor related, intermediate gray layer', '12': 'Interfascicular nucleus raphe', '15': 'Parataenial nucleus', '14': 'internal medullary lamina of the thalamus', '17': 'Superior colliculus, motor related, intermediate white layer', '16': 'Layer 6b, isocortex', '19': 'Induseum griseum', '860': 'Parabrachial nucleus, lateral division, central lateral part', '863': 'rubrospinal tract', '862': 'Supplemental somatosensory area, layer 6a', '865': 'Primary somatosensory area, layer 4', '864': 'Thalamus, sensory-motor cortex related', '867': 'Parabrachial nucleus', '866': 'ventral spinocerebellar tract', '10714': 'Lobule IV, granular layer', '10715': 'Lobule IV, Purkinje layer', '10716': 'Lobule IV, molecular layer', '10717': 'Lobule V, granular layer', '10710': 'Lobule II, molecular layer', '10711': 'Lobule III, granular layer', '10712': 'Lobule III, Purkinje layer', '10713': 'Lobule III, molecular layer', '10718': 'Lobule V, Purkinje layer', '10719': 'Lobule V, molecular layer', '883': 'Parabrachial nucleus, lateral division, superior lateral part', '882': 'Primary motor area, Layer 6b', '881': 'Parabrachial nucleus, lateral division', '880': 'Dorsal tegmental nucleus', '887': 'Efferent cochlear group', '886': 'Retrosplenial area, ventral part', '885': 'terminal nerve', '752': 'cerebellar peduncles', '449': 'ventral hippocampal commissure', '928': 'Culmen', '889': 'Primary somatosensory area, nose, layer 6a', '888': 'Perirhinal area, layer 2/3', '116': 'choroid fissure', '940': 'cingulum bundle', '45': 'Spinal nucleus of the trigeminal, oral part, rostral dorsomedial part', '941': 'vestibulospinal pathway', '63': 'Paraventricular hypothalamic nucleus, descending division', '809': 'Pallidum, caudal region', '237': 'solitary tract', '322': 'Primary somatosensory area', '323': 'Midbrain, motor related', '320': 'Primary motor area, Layer 1', '321': 'Subgeniculate nucleus', '326': 'superior cerebelar peduncles', '327': 'Basomedial amygdalar nucleus, anterior part', '324': 'Entorhinal area, medial part, ventral zone, layer 2', '325': 'Suprageniculate nucleus', '328': 'Agranular insular area, dorsal part, layer 2/3', '329': 'Primary somatosensory area, barrel field', '562': 'Bed nuclei of the stria terminalis, anterior division, rhomboid nucleus', '201': 'Primary somatosensory area, barrel field, layer 2/3', '774': 'Retrosplenial area, lateral agranular part, layer 5', '777': 'Ventromedial hypothalamic nucleus, dorsomedial part', '202': 'Medial vestibular nucleus', '771': 'Pons', '204': 'Accessory olfactory bulb, mitral layer', '207': 'Area postrema', '772': 'Anterior cingulate area, ventral part, layer 5', '209': 'Lateral vestibular nucleus', '208': 'Cortical amygdalar area, anterior part, layer 3', '350': 'Subceruleus nucleus', '779': 'propriohypothalamic pathways, medial', '778': 'Primary visual area, layer 5', '77': 'Spinal nucleus of the trigeminal, oral part, caudal dorsomedial part', '76': 'Interstitial nucleus of the vestibular nerve', '75': 'Dorsal terminal nucleus of the accessory optic tract', '74': 'Lateral visual area, layer 6a', '73': 'ventricular systems', '72': 'Anterodorsal preoptic nucleus', '71': 'Paraventricular hypothalamic nucleus, magnocellular division', '70': 'midbrain related', '655': 'Cortical amygdalar area, posterior part, lateral zone', '79': 'Paraventricular hypothalamic nucleus, magnocellular division, medial magnocellular part', '78': 'middle cerebellar peduncle', '1043': 'crossed tectospinal pathway', '1042': 'Taenia tecta, dorsal part, layer 2', '10682': 'Paramedian lobule, Purkinje layer', '1040': 'grooves of the cerebellar cortex', '1047': 'Primary somatosensory area, barrel field, layer 4', '1046': 'Anteromedial visual area, layer 6a', '1045': 'Ectorhinal area/Layer 6b', '1044': 'Peripeduncular nucleus', '1049': 'Flocculus', '1048': 'Gigantocellular reticular nucleus', '359': 'Bed nuclei of the stria terminalis, anterior division', '358': 'Sublaterodorsal nucleus', '10728': 'Folium-tuber vermis (VII), molecular layer', '1142': 'Postpiriform transition area, layers 3', '1143': 'Cerebellar cortex, granular layer', '1140': 'Postpiriform transition area, layers 1', '1141': 'Postpiriform transition area, layers 2', '669': 'Visual areas', '668': 'Dorsomedial nucleus of the hypothalamus, anterior part', '667': 'Frontal pole, layer 2/3', '666': 'Nucleus of the solitary tract, commissural part', '665': 'lateral olfactory tract, body', '664': 'Entorhinal area, medial part, dorsal zone, layer 3', '663': 'Cortical amygdalar area, posterior part, medial zone', '662': 'Gustatory areas, layer 6b', '661': 'Facial motor nucleus', '660': 'Paraventricular hypothalamic nucleus, magnocellular division, posterior magnocellular part, medial zone', '215': 'Anterior pretectal nucleus', '653': 'Abducens nucleus', '336': 'superior colliculus commissure', '692': 'Perirhinal area, layer 5', '693': 'Ventromedial hypothalamic nucleus', '690': 'mammilothalmic tract', '691': 'Nucleus of the solitary tract, medial part', '696': 'Posterior auditory area, layer 1', '697': 'medial lemniscus', '694': 'Agranular insular area, ventral part, layer 2/3', '695': 'Cortical plate', '698': 'Olfactory areas', '699': 'Agranular insular area, ventral part, layer 6b', '222': 'Nucleus raphe obscurus', '542': 'Retrosplenial area, ventral part, layer 1', '543': 'Entorhinal area, medial part, dorsal zone, layer 2', '540': 'Perirhinal area, layer 1', '541': 'Temporal association areas', '546': 'Bed nuclei of the stria terminalis, anterior division, juxtacapsular nucleus', '221': 'rubroreticular tract', '544': 'Central amygdalar nucleus, capsular part', '545': 'Retrosplenial area, dorsal part, layer 4', '8': 'Basic cell groups and regions', '548': 'Midbrain reticular nucleus, magnocellular part, general', '549': 'Thalamus', '1019': 'corticospinal tract, crossed', '995': 'Paramedian reticular nucleus', '1025': 'Paramedian lobule', '996': 'Agranular insular area, dorsal part, layer 1', '10729': 'Pyramus (VIII), granular layer', '990': 'Ventral auditory area, layer 4', '993': 'Secondary motor area', '868': 'Parabrachial nucleus, lateral division, dorsal lateral part', '10725': 'Declive (VI), molecular layer', '10724': 'Declive (VI), Purkinje layer', '10727': 'Folium-tuber vermis (VII), Purkinje layer', '10726': 'Folium-tuber vermis (VII), granular layer', '999': 'Entorhinal area, lateral part, layer 2/3', '998': 'Fundus of striatum', '10723': 'Declive (VI), granular layer', '10722': 'Lobules IV-V, molecular layer', '120': 'Agranular insular area, posterior part, layer 1', '121': 'Lateral visual area, layer 6b', '122': 'Superior olivary complex, periolivary region', '123': 'Koelliker-Fuse subnucleus', '124': 'interventricular foramen', '218': 'Lateral posterior nucleus of the thalamus', '126': 'Periventricular hypothalamic nucleus, posterior part', '127': 'Anteromedial nucleus', '128': 'Midbrain reticular nucleus', '10683': 'Paramedian lobule, molecular layer', '10680': 'Crus 2, molecular layer', '765': 'Nucleus x', '69': 'Spinal nucleus of the trigeminal, oral part, ventrolateral part', '10687': 'Paraflocculus, granular layer', '10684': 'Copula pyramidis, granular layer', '10685': 'Copula pyramidis, Purkinje layer', '133': 'Periventricular hypothalamic nucleus, preoptic part', '365': 'thalamic peduncles', '10698': 'Postsubiculum, layer 3', '528': 'Cerebellar cortex', '563': 'dorsal tegmental tract', '529': 'Bed nuclei of the stria terminalis, anterior division, ventral nucleus', '414': 'Subparafascicular nucleus, magnocellular part', '929': 'Primary somatosensory area, nose, layer 6b', '416': 'Piriform-amygdalar area, pyramidal layer', '410': 'reticulocerebellar tract', '411': 'Medial amygdalar nucleus, anterodorsal part', '412': 'Orbital area, lateral part, layer 2/3', '413': 'vestibular nerve', '920': 'Central lobule', '921': 'Primary somatosensory area, layer 5', '922': 'Perirhinal area', '923': 'Parabrachial nucleus, medial division, ventral medial part', '418': 'Medial amygdalar nucleus, anteroventral part', '419': 'Entorhinal area, medial part, ventral zone, layer 4', '926': 'Entorhinal area, medial part, dorsal zone', '927': 'Anterior cingulate area, dorsal part, layer 6b', '319': 'Basomedial amygdalar nucleus', '318': 'Supragenual nucleus', '1016': 'olfactory nerve layer of main olfactory bulb', '134': 'pallidotegmental fascicle', '313': 'Midbrain', '312': 'Entorhinal area, lateral part, layer 4/5', '311': 'Basolateral amygdalar nucleus, posterior part', '310': 'Septofimbrial nucleus', '317': 'subthalamic fascicle', '316': 'Ventral part of the lateral geniculate complex, medial zone', '315': 'Isocortex', '314': 'Agranular insular area, posterior part, layer 6a', '10691': 'Flocculus, Purkinje layer', '10708': 'Lobule II, granular layer', '10690': 'Flocculus, granular layer', '139': 'Entorhinal area, lateral part, layer 5', '832': 'oculomotor nerve', '833': 'supraoptic commissures, ventral', '830': 'Dorsomedial nucleus of the hypothalamus', '831': 'Agranular insular area, dorsal part, layer 6b', '836': 'Ectorhinal area/Layer 1', '837': 'Subiculum, dorsal part, stratum radiatum', '834': 'Superior colliculus, zonal layer', '835': 'Pallidum, ventral region', '490': 'bulbocerebellar tract', '838': 'Primary somatosensory area, nose, layer 2/3', '839': 'Dorsal motor nucleus of the vagus nerve', '491': 'Medial mammillary nucleus', '443': 'dorsal hippocampal commissure', '3': 'secondary fissure', '203': 'Linear nucleus of the medulla', '10697': 'Postsubiculum, layer 2', '368': 'Perirhinal area, layer 6b', '369': 'Primary somatosensory area, upper limb', '366': 'Submedial nucleus of the thalamus', '367': 'Bed nuclei of the stria terminalis, posterior division', '364': 'Parasubthalamic nucleus', '493': 'Striatum ventral region', '362': 'Mediodorsal nucleus of thalamus', '363': 'Prelimbic area, layer 5', '360': 'Dorsal peduncular area, layer 2/3', '361': 'Primary somatosensory area, trunk', '10700': 'Presubiculum, layer 2', '10707': 'Lingula (I), molecular layer', '46': 'mammillary related', '10706': 'Lingula (I), Purkinje layer', '10721': 'Lobules IV-V, Purkinje layer', '861': 'Subiculum, ventral part, stratum radiatum', '382': 'Field CA1', '383': 'Cortical amygdalar area, posterior part, medial zone, layers 1-3', '384': 'trochlear nerve decussation', '385': 'Primary visual area', '386': 'Medulla, sensory related', '387': 'Entorhinal area, lateral part, layer 5/6', '388': 'gracile fascicle', '389': 'ventral spinothalamic tract', '444': 'Medial group of the dorsal thalamus', '784': 'corticospinal tract', '785': 'Ventromedial hypothalamic nucleus, ventrolateral part', '786': 'Temporal association areas, layer 6b', '787': 'propriohypothalamic pathways, ventral', '780': 'Posterior amygdalar nucleus', '781': 'Nucleus y', '782': 'Dentate gyrus lateral blade, polymorph layer', '783': 'Agranular insular area, dorsal part, layer 6a', '11': 'posterolateral fissure', '788': 'Piriform-amygdalar area', '789': 'Nucleus z', '10720': 'Lobules IV-V, granular layer', '114': 'Superior olivary complex, lateral part', '808': 'glossopharyngeal nerve', '151': 'Accessory olfactory bulb', '579': 'external capsule', '578': 'Bed nuclei of the stria terminalis, posterior division, principal nucleus', '150': 'periventricular bundle of the hypothalamus', '573': 'Lateral visual area, layer 4', '572': 'Anterior cingulate area, layer 1', '571': 'Midline group of the dorsal thalamus', '570': 'dorsolateral fascicle', '577': 'Primary somatosensory area, upper limb, layer 4', '576': 'Accessory facial motor nucleus', '575': 'Central lateral nucleus of the thalamus', '574': 'Tegmental reticular nucleus', '60': 'Entorhinal area, lateral part, layer 6b', '61': 'Spinal nucleus of the trigeminal, oral part, middle dorsomedial part, ventral zone', '258': 'Lateral septal nucleus, rostral (rostroventral) part', '152': 'Piriform area, layers 1-3', '64': 'Anterodorsal nucleus', '65': 'parafloccular sulcus', '66': 'Lateral terminal nucleus of the accessory optic tract', '67': 'Interstitial nucleus of Cajal', '252': 'Dorsal auditory area, layer 5', '155': 'Lateral dorsal nucleus of thalamus', '250': 'Lateral septal nucleus, caudal (caudodorsal) part', '251': 'Primary auditory area, layer 2/3', '256': 'Cortical amygdalar area, posterior part, medial zone, layer 3', '257': 'posteromedial visual area, layer 6a', '254': 'Retrosplenial area', '255': 'Anteroventral nucleus of thalamus', '499': 'cuneocerebellar tract', '603': 'fimbria', '602': 'Bed nuclei of the stria terminalis, posterior division, strial extension', '405': 'ventrolateral hypothalamic tract', '731': 'Orbital area, medial part', '10673': 'Simple lobule, Purkinje layer', '1038': 'Primary somatosensory area, barrel field, layer 6a', '732': 'Medial mammillary nucleus, median part', '735': 'Primary auditory area, layer 1', '734': 'Dentate gyrus crest', '508': 'Entorhinal area, medial part, dorsal zone, layer 2b', '509': 'Subiculum, dorsal part', '739': 'Anterior cingulate area, layer 5', '738': 'Orbital area, ventral part', '1030': 'Primary somatosensory area, lower limb, layer 1', '1031': 'Globus pallidus, internal segment', '502': 'Subiculum', '1037': 'Postsubiculum', '1034': 'Taenia tecta, dorsal part, layer 1', '1035': 'Supplemental somatosensory area, layer 4', '630': 'Orbital area, lateral part, layer 5', '631': 'Cortical amygdalar area', '632': 'Dentate gyrus, granule cell layer', '633': 'inferior colliculus commissure', '469': 'posteromedial visual area, layer 6b', '635': 'Posterior parietal association areas, layer 4', '636': 'Mediodorsal nucleus of the thalamus, medial part', '637': 'Ventral group of the dorsal thalamus', '638': 'Gustatory areas, layer 6a', '639': 'Cortical amygdalar area, anterior part', '467': 'Hypothalamic medial zone', '466': 'alveus', '461': 'Primary somatosensory area, trunk, layer 6b', '460': 'Midbrain trigeminal nucleus', '463': 'Field CA3', '462': 'Superior salivatory nucleus', '901': 'trigeminal nerve', '168': 'Anterior olfactory nucleus, layer 2', '169': 'Nucleus prepositus', '164': 'central canal, spinal cord/medulla', '165': 'Midbrain raphe nuclei', '166': 'premammillary commissure', '167': 'Anterior olfactory nucleus, dorsal part', '160': 'Anterior olfactory nucleus, layer 1', '283': 'Lateral tegmental nucleus', '162': 'Laterodorsal tegmental nucleus', '163': 'Agranular insular area, posterior part, layer 2/3', '964': 'corpus callosum, extreme capsule', '965': 'Retrosplenial area, lateral agranular part, layer 2/3', '966': 'Endopiriform nucleus, ventral part', '967': 'cranial nerves', '960': 'cerebellum related fiber tracts', '961': 'Piriform area', '962': 'Secondary motor area, layer 2/3', '963': 'Lateral reticular nucleus, parvicellular part', '1129': 'Interbrain', '968': 'Nodulus (X)', '969': 'Orbital area, ventrolateral part, layer 1', '936': 'Declive (VI)', '1106': 'Visceral area, layer 2/3', '1107': 'Medullary reticular nucleus, ventral part', '1104': 'Anteromedial nucleus, ventral part', '1105': 'Intercalated amygdalar nucleus', '1102': 'Primary somatosensory area, mouth, layer 6a', '935': 'Anterior cingulate area, dorsal part, layer 1', '1100': 'Pretectal region', '1101': 'Agranular insular area, dorsal part, layer 5', '934': 'Entorhinal area, medial part, ventral zone', '908': 'anterior commissure, temporal limb', '1108': 'genu of corpus callosum', '1109': 'Parastrial nucleus', '30': 'Periventricular hypothalamic nucleus, anterior part', '994': 'corticobulbar tract', '584': 'Cortical amygdalar area, posterior part, lateral zone, layers 1-2', '678': 'Dorsal auditory area, layer 4', '1091': 'Lobules IV-V', '730': 'pineal stalk', '641': 'intermediate acoustic stria', '1041': 'Paraflocculus', '878': 'Primary somatosensory area, mouth, layer 1', '879': 'Retrosplenial area, dorsal part', '876': 'accessory optic tract', '877': 'tectospinal pathway', '874': 'Parabigeminal nucleus', '875': 'Parabrachial nucleus, lateral division, external lateral part', '872': 'Dorsal nucleus raphe', '873': 'Supplemental somatosensory area, layer 1', '870': 'Subiculum, ventral part, pyramidal layer', '871': 'spinothalamic tract', '642': 'Nucleus of the trapezoid body', '723': 'Orbital area, lateral part', '9': 'Primary somatosensory area, trunk, layer 6a', '890': 'Parabrachial nucleus, medial division', '891': 'Parabrachial nucleus, lateral division, ventral lateral part', '892': 'ansa peduncularis', '893': 'Supplemental somatosensory area, layer 6b', '894': 'Retrosplenial area, lateral agranular part', '895': 'Ectorhinal area', '896': 'thalamus related', '897': 'Visceral area, layer 1', '898': 'Pontine central gray', '899': 'Parabrachial nucleus, medial division, external medial part', '1087': 'precentral fissure', '439': 'Paraventricular hypothalamic nucleus, descending division, dorsal parvicellular part', '1116': 'genu of the facial nerve', '884': 'amygdalar capsule', '1099': 'fornix system', '436': 'columns of the fornix', '648': 'Primary motor area, Layer 5', '261': 'spino-olivary pathway', '357': 'tectothalamic pathway', '356': 'Preparasubthalamic nucleus', '355': 'Agranular insular area, posterior part, layer 6b', '354': 'Medulla', '353': 'Primary somatosensory area, nose', '352': 'Orbital area, layer 5', '351': 'Bed nuclei of the stria terminalis', '47': 'Paraventricular hypothalamic nucleus, magnocellular division, anterior magnocellular part', '803': 'Pallidum', '802': 'stria medullaris', '801': 'Visual areas, layer 1', '800': 'Agranular insular area, ventral part, layer 5', '807': 'Dentate gyrus medial blade, molecular layer', '806': 'Supplemental somatosensory area, layer 2/3', '805': 'posteromedial visual area, layer 1', '804': 'Fields of Forel', '216': 'Cortical amygdalar area, posterior part, lateral zone, layer 1', '217': 'Superior vestibular nucleus', '214': 'Red nucleus', '769': 'Ventromedial hypothalamic nucleus, central part', '212': 'Main olfactory bulb, glomerular layer', '213': 'retriculospinal tract, medial part', '210': 'Lateral mammillary nucleus', '211': 'Anterior cingulate area, dorsal part, layer 2/3', '762': 'propriohypothalamic pathways, dorsal', '763': 'Vascular organ of the lamina terminalis', '760': 'cerebral nuclei related', '761': 'Ventromedial hypothalamic nucleus, anterior part', '766': 'Dentate gyrus lateral blade', '767': 'Secondary motor area, layer 5', '764': 'Entorhinal area, lateral part, layer 2b', '219': 'Somatomotor areas, Layer 2/3', '956': 'corpus callosum, anterior forceps', '1033': 'Copula pyramidis', '338': 'Subfornical organ', '438': 'Field CA2, stratum oriens', '1078': 'rhinal incisure', '1079': 'Medial geniculate complex, ventral part', '1076': 'efferent cochleovestibular bundle', '1077': 'Perireunensis nucleus', '1074': 'Anterolateral visual area, layer 1', '1075': 'Taenia tecta, ventral part, layer 2', '1072': 'Medial geniculate complex, dorsal part', '1073': 'Hemispheric regions', '1070': 'Primary somatosensory area, barrel field, layer 5', '1071': 'rhinal fissure', '289': 'Temporal association areas, layer 5', '288': 'Orbital area, ventrolateral part, layer 2/3', '1003': 'corticopontine tract', '4': 'Inferior colliculus', '281': 'Anteromedial visual area, layer 1', '280': \"Barrington's nucleus\", '1120': 'Interanteromedial nucleus of the thalamus', '285': 'spinotelenchephalic pathway', '284': 'Piriform area, pyramidal layer', '287': 'Bed nucleus of the anterior commissure', '286': 'Suprachiasmatic nucleus', '1094': 'Primary somatosensory area, lower limb, layer 4', '1095': 'preculminate fissure', '1096': 'Anteromedial nucleus, dorsal part', '1097': 'Hypothalamus', '1090': 'Supplemental somatosensory area, layer 5', '679': 'Superior central nucleus raphe', '1092': 'external medullary lamina of the thalamus', '1093': 'Pontine reticular nucleus, caudal part', '674': 'Nucleus of the solitary tract, gelatinous part', '675': 'Agranular insular area, ventral part, layer 6a', '676': 'Dorsomedial nucleus of the hypothalamus, posterior part', '677': 'Visceral area', '670': 'Primary somatosensory area, trunk, layer 2/3', '671': 'Retrosplenial area, lateral agranular part, layer 1', '672': 'Caudoputamen', '673': 'mammillary peduncle', '263': 'Anteroventral preoptic nucleus', '262': 'Reticular nucleus of the thalamus', '182305693': 'Primary somatosensory area, unassigned, layer 1', '260': 'Nucleus of the lateral olfactory tract, molecular layer', '267': 'Dorsal peduncular area, layer 6a', '266': 'Lateral septal nucleus, ventral part', '182305697': 'Primary somatosensory area, unassigned, layer 2/3', '264': 'Orbital area, layer 1', '269': 'Posterolateral visual area, layer 2/3', '268': 'Nucleus of the lateral olfactory tract, pyramidal layer', '182': 'propriohypothalamic pathways', '986': 'corpus callosum, splenium', '59': 'Intermediodorsal nucleus of the thalamus', '58': 'Medial terminal nucleus of the accessory optic tract', '55': 'Paraventricular hypothalamic nucleus, parvicellular division, anterior parvicellular part', '54': 'medial forebrain bundle', '57': 'paramedian sulcus', '56': 'Nucleus accumbens', '51': 'Intralaminar nuclei of the dorsal thalamus', '50': 'Precommissural nucleus', '53': 'Spinal nucleus of the trigeminal, oral part, middle dorsomedial part, dorsal zone', '52': 'Entorhinal area, lateral part, layer 3', '537': 'Bed nuclei of the stria terminalis, anterior division, anterolateral area', '536': 'Central amygdalar nucleus', '535': 'Dorsal peduncular area, layer 2', '259': 'Entorhinal area, medial part, ventral zone, layer 1', '533': 'posteromedial visual area', '532': 'Posterior parietal association areas, layer 1', '531': 'Medial pretectal area', '530': 'dorsal fornix', '437': 'Spinal nucleus of the trigeminal, interpolar part', '539': 'Midbrain reticular nucleus, magnocellular part', '538': 'dorsal limb', '775': 'Dentate gyrus lateral blade, molecular layer', '988': 'Ectorhinal area/Layer 5', '989': 'Fastigial nucleus', '200': 'Cortical amygdalar area, anterior part, layer 2', '982': 'Fasciola cinerea', '10737': 'Nodulus (X), molecular layer', '980': 'Dorsal premammillary nucleus', '981': 'Primary somatosensory area, barrel field, layer 1', '10732': 'Uvula (IX), granular layer', '987': 'Pons, motor related', '984': 'Lobule III', '985': 'Primary motor area', '115': 'Trochlear nucleus', '68': 'Frontal pole, layer 1', '117': 'optic chiasm', '776': 'corpus callosum', '111': 'Agranular insular area, posterior part', '110': 'Paraventricular hypothalamic nucleus, parvicellular division, periventricular part', '113': 'Primary somatosensory area, lower limb, layer 2/3', '112': 'Granular lamina of the cochlear nuclei', '205': 'retriculospinal tract, lateral part', '119': 'Agranular insular area, ventral part', '118': 'Periventricular hypothalamic nucleus, intermediate part', '770': 'propriohypothalamic pathways, lateral', '773': 'Hypoglossal nucleus', '206': 'Nucleus raphe magnus', '953': 'Pineal body', '429': 'Spinal nucleus of the trigeminal, caudal part', '428': 'medial corticohypothalmic tract', '534': 'Supratrigeminal nucleus', '919': 'Anterior cingulate area, dorsal part, layer 6a', '918': 'Entorhinal area, lateral part', '421': 'Lateral visual area, layer 1', '914': 'Posterodorsal preoptic nucleus', '423': 'Field CA2', '422': 'Subparafascicular nucleus, parvicellular part', '425': 'Posterolateral visual area', '910': 'Orbital area, medial part, layer 6a', '427': 'Ectorhinal area/Layer 2/3', '426': 'Medial amygdalar nucleus, posterodorsal part', '308': 'Posterior parietal association areas, layer 6a', '309': 'striatonigral pathway', '855': 'retriculospinal tract', '300': 'Ventral part of the lateral geniculate complex, lateral zone', '301': 'stria terminalis', '302': 'Superior colliculus, sensory related', '303': 'Basolateral amygdalar nucleus, anterior part', '304': 'Prelimbic area, layer 2/3', '305': 'Primary visual area, layer 6b', '306': 'Taenia tecta, ventral part, layers 1-3', '307': 'Magnocellular reticular nucleus', '825': 'supraoptic commissures, dorsal', '246': 'Midbrain reticular nucleus, retrorubral area', '824': 'hypothalamus related', '373': 'trigeminocerebellar tract', '138': 'Lateral group of the dorsal thalamus', '847': 'Primary auditory area, layer 5', '846': 'Dentate nucleus', '845': 'Subiculum, dorsal part, pyramidal layer', '844': 'Primary motor area, Layer 6a', '843': 'Parasubiculum', '842': 'Superior colliculus, superficial gray layer', '841': 'trapezoid body', '840': 'olfactory nerve', '375': \"Ammon's horn\", '853': 'Subiculum, ventral part, molecular layer', '849': 'Visceral area, layer 6b', '374': 'Substantia nigra, compact part', '823': 'Dentate gyrus medial blade, granule cell layer', '822': 'Retrohippocampal region', '1119': 'prepyramidal fissure', '489': 'Major island of Calleja', '62': 'medial longitudinal fascicle', '10681': 'Paramedian lobule, granular layer', '485': 'Striatum dorsal region', '1068': 'dorsal thalamus related', '733': 'Ventral posteromedial nucleus of the thalamus', '145': 'fourth ventricle', '431': 'Field CA2, stratum lacunosum-moleculare', '10736': 'Nodulus (X), Purkinje layer', '1039': 'Gracile nucleus', '983': 'lateral forebrain bundle system', '10734': 'Uvula (IX), molecular layer', '547': 'dorsal longitudinal fascicle', '568': 'Accessory abducens nucleus', '569': 'Bed nuclei of the stria terminalis, posterior division, dorsal nucleus', '751': 'Dentate gyrus crest, polymorph layer', '750': 'Posterolateral visual area, layer 1', '757': 'Ventral tegmental nucleus', '756': 'Medial preoptic nucleus, medial part', '755': 'Ventral auditory area, layer 2/3', '754': 'Olfactory tubercle', '560': 'Cochlear nucleus, subpedunclular granular region', '561': 'Visual areas, layer 2/3', '759': 'Posterior auditory area, layer 4', '758': 'Dentate gyrus crest, granule cell layer', '564': 'Medial septal nucleus', '565': 'posteromedial visual area, layer 5', '566': 'Postpiriform transition area', '567': 'Cerebrum', '506': 'dorsal acoustic stria', '10730': 'Pyramus (VIII), Purkinje layer', '229': 'sensory root of the trigeminal nerve', '228': 'Main olfactory bulb, inner plexiform layer', '227': 'Anterior cingulate area, layer 6b', '226': 'Lateral preoptic area', '225': 'Spinal vestibular nucleus', '224': 'Cortical amygdalar area, posterior part, lateral zone, layer 2', '223': 'Arcuate hypothalamic nucleus', '504': 'Field CA3, stratum radiatum', '10705': 'Lingula (I), granular layer', '220': 'Main olfactory bulb, granule layer', '1001': 'Lobule V', '1024': 'grooves', '1027': 'Posterior auditory area', '1026': 'Primary somatosensory area, upper limb, layer 6b', '1021': 'Secondary motor area, layer 6a', '1020': 'Posterior complex of the thalamus', '1023': 'Ventral auditory area, layer 5', '1022': 'Globus pallidus, external segment', '1036': 'corticotectal tract', '1029': 'Posterior limiting nucleus of the thalamus', '88': 'Anterior hypothalamic nucleus', '503': 'Superior colliculus, motor related, intermediate gray layer, sublayer b', '726': 'Dentate gyrus', '727': 'Entorhinal area, medial part, dorsal zone, layer 5', '724': 'Anterior hypothalamic nucleus, posterior part', '725': 'Ventral posterolateral nucleus of the thalamus, parvicellular part', '722': 'periventricular bundle of the thalamus', '500': 'Somatomotor areas', '720': 'Dorsal column nuclei', '721': 'Primary visual area, layer 4', '372': 'Infracerebellar nucleus', '501': 'posteromedial visual area, layer 4', '728': 'arbor vitae', '729': 'Temporal association areas, layer 6a', '605': 'Taenia tecta, ventral part', '604': 'Nucleus incertus', '607': 'Cochlear nuclei', '606': 'Retrosplenial area, ventral part, layer 2', '601': 'Anterolateral visual area, layer 6a', '600': 'Dorsal auditory area, layer 2/3', '157': 'Periventricular zone', '156': 'Dorsal auditory area, layer 6a', '159': 'Anterior olfactory nucleus', '10672': 'Simple lobule, granular layer', '10671': 'Median eminence', '609': 'Subparafascicular area', '608': 'Orbital area, ventrolateral part, layer 6a', '10675': 'Crus 1, granular layer', '10674': 'Simple lobule, molecular layer', '83': 'Inferior olivary complex', '634': 'Nucleus of the posterior commissure', '10702': 'Dentate gyrus, subgranular zone', '80': 'Anterior hypothalamic area', '468': 'Entorhinal area, medial part, dorsal zone, layer 2a', '959': 'Ventral auditory area, layer 1', '958': 'Epithalamus', '81': 'lateral ventricle', '48': 'Anterior cingulate area, ventral part', '49': 'intraparafloccular fissure', '951': 'Pyramus (VIII)', '950': 'Primary somatosensory area, mouth, layer 4', '44': 'Infralimbic area', '952': 'Endopiriform nucleus, dorsal part', '42': 'Superior colliculus, motor related, deep white layer', '954': 'Primary auditory area, layer 6a', '957': 'Uvula (IX)', '41': 'posteromedial visual area, layer 2/3', '1111': 'Primary somatosensory area, trunk, layer 5', '465': 'Olfactory tubercle, pyramidal layer', '1113': 'Interanterodorsal nucleus of the thalamus', '1112': 'posterior superior fissure', '1114': 'Anterolateral visual area, layer 4', '1117': 'Pons, behavioral state related', '464': 'Paraventricular hypothalamic nucleus, descending division, medial parvicellular part, ventral zone', '10701': 'Presubiculum, layer 3', '1118': 'Supramammillary nucleus, medial part', '474': 'angular path', '591': 'Central linear nucleus raphe', '182305701': 'Primary somatosensory area, unassigned, layer 4', '182305705': 'Primary somatosensory area, unassigned, layer 5', '488': 'Orbital area, lateral part, layer 6b', '487': 'Medial amygdalar nucleus, posterodorsal part, sublayer c', '486': 'Field CA3, stratum oriens', '182305709': 'Primary somatosensory area, unassigned, layer 6a', '484': 'Orbital area, medial part, layer 1', '483': 'Medial habenula', '482': 'brachium of the inferior colliculus', '481': 'Islands of Calleja', '480': 'Medial amygdalar nucleus, posterodorsal part, sublayer b', '991': 'medial forebrain bundle system', '955': 'Lateral reticular nucleus, magnocellular part', '790': 'Dentate gyrus lateral blade, granule cell layer', '472': 'Medial amygdalar nucleus, posterodorsal part, sublayer a', '473': 'Olfactory tubercle, polymorph layer', '470': 'Subthalamic nucleus', '471': 'Field CA3, stratum lacunosum-moleculare', '476': 'Orbital area, layer 6a', '477': 'Striatum', '1000': 'extrapyramidal fiber systems', '475': 'Medial geniculate complex', '478': 'Primary somatosensory area, lower limb, layer 6a', '479': 'Field CA3, stratum lucidum', '10679': 'Crus 2, Purkinje layer'}\n"
     ]
    }
   ],
   "source": [
    "# Debugging:\n",
    "print ccf"
   ]
  },
  {
   "cell_type": "code",
   "execution_count": 9,
   "metadata": {
    "collapsed": false
   },
   "outputs": [
    {
     "name": "stdout",
     "output_type": "stream",
     "text": [
      "Red nucleus\n",
      "Tuberomammillary nucleus, ventral part\n"
     ]
    }
   ],
   "source": [
    "# Sanity check:\n",
    "print ccf['214']\n",
    "print ccf['1']"
   ]
  },
  {
   "cell_type": "code",
   "execution_count": 10,
   "metadata": {
    "collapsed": false
   },
   "outputs": [
    {
     "name": "stdout",
     "output_type": "stream",
     "text": [
      "<type 'numpy.ndarray'>\n",
      "(41, 505, 370, 527)\n"
     ]
    }
   ],
   "source": [
    "# Sanity check:\n",
    "print type(data)\n",
    "print data[3]"
   ]
  },
  {
   "cell_type": "code",
   "execution_count": 7,
   "metadata": {
    "collapsed": false
   },
   "outputs": [
    {
     "name": "stdout",
     "output_type": "stream",
     "text": [
      "[   1    2    7    8    9   10   12   15   17   19   20   23   26  257  258\n",
      "  259  260  262  263  266  267  268  269  271  272  274  276  278  279  280\n",
      "  281  513  515  520  521  523  524  526  527  529  531  532  534  537  769\n",
      "  771  772  773  774  777  778  780  781  783  785  786  791 1026 1029 1030\n",
      " 1031 1034 1035 1038 1042 1044 1045 1046 1047 1048 1050]\n",
      "71\n"
     ]
    }
   ],
   "source": [
    "# Find all unique regions of brightest points\n",
    "unique = [];\n",
    "\n",
    "for l in data:\n",
    "    unique.append(l[3])\n",
    "\n",
    "uniqueNP = np.asarray(unique)\n",
    "allUnique = np.unique(uniqueNP)\n",
    "numRegionsA = len(allUnique)\n",
    "\n",
    "print allUnique\n",
    "print numRegionsA  ## number of regions"
   ]
  },
  {
   "cell_type": "code",
   "execution_count": 8,
   "metadata": {
    "collapsed": false
   },
   "outputs": [],
   "source": [
    "# Store and count the bright regions in each unique region\n",
    "dictNumElementsRegion = {}\n",
    "\n",
    "for i in range(numRegionsA):\n",
    "    counter = 0;\n",
    "    for l in data:\n",
    "        if l[3] == allUnique[i]:\n",
    "            counter = counter + 1;\n",
    "            dictNumElementsRegion[ccf[str(l[3])]] = counter;"
   ]
  },
  {
   "cell_type": "code",
   "execution_count": 9,
   "metadata": {
    "collapsed": false
   },
   "outputs": [],
   "source": [
    "region_names = dictNumElementsRegion.keys()\n",
    "number_repetitions = dictNumElementsRegion.values()"
   ]
  },
  {
   "cell_type": "code",
   "execution_count": 14,
   "metadata": {
    "collapsed": false
   },
   "outputs": [
    {
     "name": "stdout",
     "output_type": "stream",
     "text": [
      "{'Superior colliculus, motor related, intermediate gray layer': 352, 'Bed nuclei of the stria terminalis, anterior division, fusiform nucleus': 2, 'Primary somatosensory area, upper limb, layer 6b': 31, 'Posterior parietal association areas, layer 1': 183, 'posteromedial visual area, layer 6a': 46, 'Superior colliculus, motor related, deep gray layer': 324, 'Taenia tecta, dorsal part, layer 2': 50, 'Supratrigeminal nucleus': 48, 'Posterolateral visual area, layer 2/3': 48, 'Taenia tecta, dorsal part, layer 1': 37, 'Anterior amygdalar area': 177, 'Principal sensory nucleus of the trigeminal': 327, 'Posterior amygdalar nucleus': 93, 'Orbital area, medial part, layer 2': 7, 'Lateral septal nucleus, ventral part': 14, 'Dorsal auditory area, layer 1': 65, 'Taenia tecta, dorsal part, layer 3': 33, 'Primary somatosensory area, barrel field, layer 6a': 395, 'Parataenial nucleus': 24, 'Retrosplenial area, lateral agranular part, layer 6b': 7, 'Reticular nucleus of the thalamus': 271, 'Primary somatosensory area, lower limb, layer 1': 136, 'Entorhinal area, lateral part, layer 2': 15, 'Ventral auditory area, layer 6a': 75, 'Medial pretectal area': 22, 'Superior colliculus, motor related, intermediate white layer': 227, 'Medial preoptic area': 311, 'Primary somatosensory area, mouth, layer 6b': 23, 'Ventromedial hypothalamic nucleus, central part': 53, 'Anteromedial visual area, layer 6a': 59, 'Anteromedial visual area, layer 1': 52, 'Tuberomammillary nucleus, ventral part': 17, 'Bed nuclei of the stria terminalis, anterior division, magnocellular nucleus': 27, 'Retrosplenial area, dorsal part, layer 6a': 124, 'Ventromedial hypothalamic nucleus, dorsomedial part': 45, 'Anteroventral preoptic nucleus': 25, 'Temporal association areas, layer 6b': 40, 'Medial preoptic nucleus': 8, 'Anteroventral periventricular nucleus': 29, 'Interfascicular nucleus raphe': 14, 'Nucleus of the lateral olfactory tract, pyramidal layer': 42, 'Ectorhinal area/Layer 6b': 28, 'Primary somatosensory area, trunk, layer 6a': 168, 'Bed nuclei of the stria terminalis, anterior division, ventral nucleus': 16, 'Gigantocellular reticular nucleus': 740, 'Dorsal peduncular area, layer 6a': 3, 'Striatum-like amygdalar nuclei': 83, 'Piriform area, molecular layer': 1610, 'Nucleus of the lateral olfactory tract, molecular layer': 67, 'Basic cell groups and regions': 4804, 'Induseum griseum': 2, 'Agranular insular area, dorsal part, layer 6a': 37, 'Hypoglossal nucleus': 33, \"Barrington's nucleus\": 9, 'Globus pallidus, internal segment': 61, 'Entorhinal area, medial part, dorsal zone, layer 1': 249, 'Retrosplenial area, lateral agranular part, layer 5': 75, 'Nucleus sagulum': 25, 'Primary somatosensory area, barrel field, layer 4': 281, 'Primary visual area, layer 5': 346, 'Pons': 1863, 'Ventromedial hypothalamic nucleus, ventrolateral part': 69, 'Bed nuclei of the stria terminalis, anterior division, anterolateral area': 39, 'Supplemental somatosensory area, layer 4': 144, 'Peripeduncular nucleus': 36, 'Anterior cingulate area, ventral part, layer 5': 58, 'Entorhinal area, medial part, ventral zone, layer 1': 34, 'Nucleus y': 6, 'Posterior limiting nucleus of the thalamus': 28, 'Lateral septal nucleus, rostral (rostroventral) part': 166, 'Posterior auditory area, layer 5': 14}\n"
     ]
    }
   ],
   "source": [
    "print dictNumElementsRegion"
   ]
  },
  {
   "cell_type": "code",
   "execution_count": 15,
   "metadata": {
    "collapsed": false
   },
   "outputs": [
    {
     "name": "stdout",
     "output_type": "stream",
     "text": [
      "['Superior colliculus, motor related, intermediate gray layer', 'Bed nuclei of the stria terminalis, anterior division, fusiform nucleus', 'Primary somatosensory area, upper limb, layer 6b', 'Posterior parietal association areas, layer 1', 'posteromedial visual area, layer 6a', 'Superior colliculus, motor related, deep gray layer', 'Taenia tecta, dorsal part, layer 2', 'Supratrigeminal nucleus', 'Posterolateral visual area, layer 2/3', 'Taenia tecta, dorsal part, layer 1', 'Anterior amygdalar area', 'Principal sensory nucleus of the trigeminal', 'Posterior amygdalar nucleus', 'Orbital area, medial part, layer 2', 'Lateral septal nucleus, ventral part', 'Dorsal auditory area, layer 1', 'Taenia tecta, dorsal part, layer 3', 'Primary somatosensory area, barrel field, layer 6a', 'Parataenial nucleus', 'Retrosplenial area, lateral agranular part, layer 6b', 'Reticular nucleus of the thalamus', 'Primary somatosensory area, lower limb, layer 1', 'Entorhinal area, lateral part, layer 2', 'Ventral auditory area, layer 6a', 'Medial pretectal area', 'Superior colliculus, motor related, intermediate white layer', 'Medial preoptic area', 'Primary somatosensory area, mouth, layer 6b', 'Ventromedial hypothalamic nucleus, central part', 'Anteromedial visual area, layer 6a', 'Anteromedial visual area, layer 1', 'Tuberomammillary nucleus, ventral part', 'Bed nuclei of the stria terminalis, anterior division, magnocellular nucleus', 'Retrosplenial area, dorsal part, layer 6a', 'Ventromedial hypothalamic nucleus, dorsomedial part', 'Anteroventral preoptic nucleus', 'Temporal association areas, layer 6b', 'Medial preoptic nucleus', 'Anteroventral periventricular nucleus', 'Interfascicular nucleus raphe', 'Nucleus of the lateral olfactory tract, pyramidal layer', 'Ectorhinal area/Layer 6b', 'Primary somatosensory area, trunk, layer 6a', 'Bed nuclei of the stria terminalis, anterior division, ventral nucleus', 'Gigantocellular reticular nucleus', 'Dorsal peduncular area, layer 6a', 'Striatum-like amygdalar nuclei', 'Piriform area, molecular layer', 'Nucleus of the lateral olfactory tract, molecular layer', 'Basic cell groups and regions', 'Induseum griseum', 'Agranular insular area, dorsal part, layer 6a', 'Hypoglossal nucleus', \"Barrington's nucleus\", 'Globus pallidus, internal segment', 'Entorhinal area, medial part, dorsal zone, layer 1', 'Retrosplenial area, lateral agranular part, layer 5', 'Nucleus sagulum', 'Primary somatosensory area, barrel field, layer 4', 'Primary visual area, layer 5', 'Pons', 'Ventromedial hypothalamic nucleus, ventrolateral part', 'Bed nuclei of the stria terminalis, anterior division, anterolateral area', 'Supplemental somatosensory area, layer 4', 'Peripeduncular nucleus', 'Anterior cingulate area, ventral part, layer 5', 'Entorhinal area, medial part, ventral zone, layer 1', 'Nucleus y', 'Posterior limiting nucleus of the thalamus', 'Lateral septal nucleus, rostral (rostroventral) part', 'Posterior auditory area, layer 5']\n",
      "[352, 2, 31, 183, 46, 324, 50, 48, 48, 37, 177, 327, 93, 7, 14, 65, 33, 395, 24, 7, 271, 136, 15, 75, 22, 227, 311, 23, 53, 59, 52, 17, 27, 124, 45, 25, 40, 8, 29, 14, 42, 28, 168, 16, 740, 3, 83, 1610, 67, 4804, 2, 37, 33, 9, 61, 249, 75, 25, 281, 346, 1863, 69, 39, 144, 36, 58, 34, 6, 28, 166, 14]\n"
     ]
    }
   ],
   "source": [
    "print region_names\n",
    "print number_repetitions"
   ]
  },
  {
   "cell_type": "code",
   "execution_count": 16,
   "metadata": {
    "collapsed": false
   },
   "outputs": [],
   "source": [
    "from itertools import izip\n",
    "\n",
    "with open('Aut1367Counts.csv', 'wb') as write:\n",
    "    writer = csv.writer(write)\n",
    "    writer.writerows(izip(region_names, number_repetitions))"
   ]
  },
  {
   "cell_type": "markdown",
   "metadata": {},
   "source": [
    "Since we know the dimensions from GetSpacing on the img (run on the Google server) we know: \n",
    "\n",
    "Aut1367:  \n",
    "Raw is X, Y, Z:  \n",
    "shape = (595, 912, 1225)  \n",
    "resolution = (0.01872, 0.01872, 0.005)  \n",
    "(and do we need this?)  \n",
    "Final is Z, Y, X  \n",
    "(1225, 912, 595)  \n",
    "(1.0, 1.0, 1.0)  \n",
    "\n",
    "Thus I scale each x, y by multiplying w/ 0.01872 to get mm accuracy.  \n",
    "I do the same for z."
   ]
  },
  {
   "cell_type": "code",
   "execution_count": 10,
   "metadata": {
    "collapsed": false
   },
   "outputs": [],
   "source": [
    "def generate_atlas_region_graph(data, path=None, numRegions = 71):\n",
    "    font = {'weight' : 'bold',\n",
    "        'size' : 18}\n",
    "\n",
    "    matplotlib.rc('font', **font)\n",
    "\n",
    "    region_dict = OrderedDict()\n",
    "\n",
    "    for l in data:\n",
    "\n",
    "        trace = ccf[str(l[3])]\n",
    "        #trace = 'trace' + str(l[3])\n",
    "        if trace not in region_dict:\n",
    "            region_dict[trace] = np.array([[l[0], l[1], l[2], l[3]]])\n",
    "            #print 'yay'\n",
    "        else:\n",
    "            tmp = np.array([[l[0], l[1], l[2], l[3]]])\n",
    "            region_dict[trace] = np.concatenate((region_dict.get(trace, np.zeros((1,4))), tmp), axis=0)\n",
    "            #print 'nay'\n",
    "\n",
    "    current_palette = sns.color_palette(\"husl\", numRegions)\n",
    "    # print current_palette\n",
    "\n",
    "    data = []\n",
    "    for i, key in enumerate(region_dict):\n",
    "        trace = region_dict[key]\n",
    "        tmp_col = current_palette[i]\n",
    "        tmp_col_lit = 'rgb' + str(tmp_col)\n",
    "        temp = str(np.unique(trace[:,3])).replace(\"[\", \"\")\n",
    "        final = temp.replace(\"]\", \"\")\n",
    "    \n",
    "        trace_scatter = Scatter3d(\n",
    "            x = trace[:,0] * 0.01872, \n",
    "            y = trace[:,1] * 0.01872,\n",
    "            z = trace[:,2] * 0.005,\n",
    "            mode='markers',\n",
    "            name=ccf[final],\n",
    "            marker=dict(\n",
    "                size=1.2,\n",
    "                color=tmp_col_lit, #'purple',                # set color to an array/list of desired values\n",
    "                colorscale='Viridis',   # choose a colorscale\n",
    "                opacity=0.15\n",
    "            )\n",
    "        )\n",
    "\n",
    "        data.append(trace_scatter)\n",
    "\n",
    "\n",
    "    layout = Layout(\n",
    "        margin=dict(\n",
    "            l=0,\n",
    "            r=0,\n",
    "            b=0,\n",
    "            t=0\n",
    "        ),\n",
    "        paper_bgcolor='rgb(0,0,0)',\n",
    "        plot_bgcolor='rgb(0,0,0)'\n",
    "    )\n",
    "\n",
    "    fig = Figure(data=data, layout=layout)\n",
    "    plotly.offline.plot(fig, filename= 'Aut1367' + \"_region_color_spaced.html\")"
   ]
  },
  {
   "cell_type": "code",
   "execution_count": 18,
   "metadata": {
    "collapsed": false
   },
   "outputs": [],
   "source": [
    "generate_atlas_region_graph(data, path=None, numRegions = numRegionsA);"
   ]
  },
  {
   "cell_type": "code",
   "execution_count": 13,
   "metadata": {
    "collapsed": false
   },
   "outputs": [],
   "source": [
    "    region_dict = OrderedDict()\n",
    "\n",
    "    for l in data:\n",
    "\n",
    "        trace = ccf[str(l[3])]\n",
    "        #trace = 'trace' + str(l[3])\n",
    "        if trace not in region_dict:\n",
    "            region_dict[trace] = np.array([[l[0], l[1], l[2], l[3]]])\n",
    "            #print 'yay'\n",
    "        else:\n",
    "            tmp = np.array([[l[0], l[1], l[2], l[3]]])\n",
    "            region_dict[trace] = np.concatenate((region_dict.get(trace, np.zeros((1,4))), tmp), axis=0)\n",
    "            #print 'nay'\n",
    "\n",
    "    current_palette = sns.color_palette(\"husl\", numRegionsA)\n",
    "    # print current_palette\n",
    "\n",
    "    data = []\n",
    "    for i, key in enumerate(region_dict):\n",
    "        trace = region_dict[key]\n",
    "        tmp_col = current_palette[i]\n",
    "        tmp_col_lit = 'rgb' + str(tmp_col)\n",
    "        temp = str(np.unique(trace[:,3])).replace(\"[\", \"\")\n",
    "        final = temp.replace(\"]\", \"\")\n",
    "    \n",
    "        trace_scatter = Scatter3d(\n",
    "            x = trace[:,0] * 0.01872, \n",
    "            y = trace[:,1] * 0.01872,\n",
    "            z = trace[:,2] * 0.005,\n",
    "            mode='markers',\n",
    "            name=ccf[final],\n",
    "            marker=dict(\n",
    "                size=1.2,\n",
    "                color=tmp_col_lit, #'purple',                # set color to an array/list of desired values\n",
    "                colorscale='Viridis',   # choose a colorscale\n",
    "                opacity=0.15\n",
    "            )\n",
    "        )\n",
    "\n",
    "        data.append(trace_scatter)"
   ]
  },
  {
   "cell_type": "code",
   "execution_count": 20,
   "metadata": {
    "collapsed": false
   },
   "outputs": [
    {
     "name": "stdout",
     "output_type": "stream",
     "text": [
      "[343 347]\n",
      "[ 6.42096  6.49584]\n"
     ]
    }
   ],
   "source": [
    "print trace[:,0]\n",
    "print trace[:,0] * 0.01872"
   ]
  },
  {
   "cell_type": "code",
   "execution_count": null,
   "metadata": {
    "collapsed": true
   },
   "outputs": [],
   "source": []
  }
 ],
 "metadata": {
  "anaconda-cloud": {},
  "kernelspec": {
   "display_name": "Python [Root]",
   "language": "python",
   "name": "Python [Root]"
  },
  "language_info": {
   "codemirror_mode": {
    "name": "ipython",
    "version": 2
   },
   "file_extension": ".py",
   "mimetype": "text/x-python",
   "name": "python",
   "nbconvert_exporter": "python",
   "pygments_lexer": "ipython2",
   "version": "2.7.12"
  }
 },
 "nbformat": 4,
 "nbformat_minor": 0
}

{
 "cells": [
  {
   "cell_type": "code",
   "execution_count": null,
   "metadata": {
    "collapsed": true
   },
   "outputs": [],
   "source": [
    "## Updated to include labels from CCF v3\n",
    "## CSV of labels from https://github.com/NeuroDataDesign/seelviz/blob/gh-pages/ccrf/ccrfCSV.csv"
   ]
  },
  {
   "cell_type": "code",
   "execution_count": null,
   "metadata": {
    "collapsed": true
   },
   "outputs": [],
   "source": [
    "from plotly.offline import download_plotlyjs\n",
    "from plotly.graph_objs import *\n",
    "from plotly import tools\n",
    "import plotly\n",
    "\n",
    "import os\n",
    "os.chdir('C:/Users/L/Documents/Homework/BME/Neuro Data I/Data/')\n",
    "\n",
    "import csv,gc  # garbage memory collection :)\n",
    "\n",
    "import numpy as np\n",
    "# import matplotlib.pyplot as plt\n",
    "# from mpl_toolkits.mplot3d import axes3d\n",
    "\n",
    "# from mpl_toolkits.mplot3d import axes3d\n",
    "# from collections import namedtuple\n",
    "\n",
    "import csv\n",
    "import re\n",
    "import matplotlib\n",
    "import time\n",
    "import seaborn as sns\n",
    "\n",
    "from collections import OrderedDict"
   ]
  },
  {
   "cell_type": "code",
   "execution_count": null,
   "metadata": {
    "collapsed": true
   },
   "outputs": [],
   "source": [
    "token = 'Aut1367'"
   ]
  },
  {
   "cell_type": "code",
   "execution_count": null,
   "metadata": {
    "collapsed": true
   },
   "outputs": [],
   "source": [
    "\"\"\"Script for generating the color coded atlas region graphs\"\"\"\n",
    "\n",
    "path1 = os.getcwd() + './csv' + '/' + token + '.csv'\n",
    "path2 = os.getcwd() + './ccf/'\n",
    "\n",
    "data_txt = path1 + '/' + token + '.csv'\n",
    "self._data = np.genfromtxt(data_txt, delimiter=',', dtype='int', usecols = (0,1,2,4), names=['x','y','z','region'])\n",
    "\n",
    "ccf_txt = path2 + 'ccfCSVedited.csv'\n",
    "ccf_data = np.genfromtext(ccf_txt, delimiter=',', dtype='int', usecols = (0, 1), names=['ID','Name'])"
   ]
  },
  {
   "cell_type": "code",
   "execution_count": null,
   "metadata": {
    "collapsed": true
   },
   "outputs": [],
   "source": [
    "def generate_atlas_region_graph(self, path=None, numRegions = 10):\n",
    "    font = {'weight' : 'bold',\n",
    "        'size'   : 18}\n",
    "\n",
    "    matplotlib.rc('font', **font)\n",
    "    thedata = self._data\n",
    "    if path == None:\n",
    "        thedata = self._data\n",
    "    else:\n",
    "    ### load data\n",
    "        thedata = np.genfromtxt(self._token + '/' + self._token + '.csv', delimiter=',', dtype='int', usecols = (0,1,2,4), names=['x','y','z','region'])\n",
    "\n",
    "    region_dict = OrderedDict()\n",
    "\n",
    "\n",
    "    for l in thedata:\n",
    "\n",
    "\n",
    "        #trace = atlasCCF[str(l[3])]\n",
    "        trace = 'trace' + str(l[3])\n",
    "        if trace not in region_dict:\n",
    "            region_dict[trace] = np.array([[l[0], l[1], l[2], l[3]]])\n",
    "        else:\n",
    "            tmp = np.array([[l[0], l[1], l[2], l[3]]])\n",
    "            region_dict[trace] = np.concatenate((region_dict.get(trace, np.zeros((1,4))), tmp), axis=0)\n",
    "\n",
    "    current_palette = sns.color_palette(\"husl\", numRegions)\n",
    "    # print current_palette\n",
    "\n",
    "    data = []\n",
    "    for i, key in enumerate(region_dict):\n",
    "        trace = region_dict[key]\n",
    "        tmp_col = current_palette[i]\n",
    "        tmp_col_lit = 'rgb' + str(tmp_col)\n",
    "        trace_scatter = Scatter3d(\n",
    "            x = trace[:,0], \n",
    "            y = trace[:,1],\n",
    "            z = trace[:,2],\n",
    "            mode='markers',\n",
    "            marker=dict(\n",
    "                size=1.2,\n",
    "                color=tmp_col_lit, #'purple',                # set color to an array/list of desired values\n",
    "                colorscale='Viridis',   # choose a colorscale\n",
    "                opacity=0.15\n",
    "            )\n",
    "        )\n",
    "\n",
    "        data.append(trace_scatter)\n",
    "\n",
    "\n",
    "    layout = Layout(\n",
    "        margin=dict(\n",
    "            l=0,\n",
    "            r=0,\n",
    "            b=0,\n",
    "            t=0\n",
    "        ),\n",
    "        paper_bgcolor='rgb(0,0,0)',\n",
    "        plot_bgcolor='rgb(0,0,0)'\n",
    "    )\n",
    "\n",
    "    fig = Figure(data=data, layout=layout)\n",
    "    plotly.offline.plot(fig, filename= self._path + '/' + self._token + \"_region_color.html\")"
   ]
  },
  {
   "cell_type": "code",
   "execution_count": null,
   "metadata": {
    "collapsed": true
   },
   "outputs": [],
   "source": []
  },
  {
   "cell_type": "code",
   "execution_count": null,
   "metadata": {
    "collapsed": true
   },
   "outputs": [],
   "source": []
  },
  {
   "cell_type": "code",
   "execution_count": null,
   "metadata": {
    "collapsed": true
   },
   "outputs": [],
   "source": []
  }
 ],
 "metadata": {
  "kernelspec": {
   "display_name": "Python [Root]",
   "language": "python",
   "name": "Python [Root]"
  },
  "language_info": {
   "codemirror_mode": {
    "name": "ipython",
    "version": 2
   },
   "file_extension": ".py",
   "mimetype": "text/x-python",
   "name": "python",
   "nbconvert_exporter": "python",
   "pygments_lexer": "ipython2",
   "version": "2.7.12"
  }
 },
 "nbformat": 4,
 "nbformat_minor": 0
}

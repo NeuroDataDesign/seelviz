{
 "cells": [
  {
   "cell_type": "code",
   "execution_count": 1,
   "metadata": {
    "collapsed": true
   },
   "outputs": [],
   "source": [
    "from plotly.offline import download_plotlyjs\n",
    "from plotly.graph_objs import *\n",
    "from plotly import tools\n",
    "import plotly\n",
    "\n",
    "import os\n",
    "#os.chdir('C:/Users/L/Documents/Homework/BME/Neuro Data I/Data/')\n",
    "\n",
    "import csv,gc  # garbage memory collection :)\n",
    "\n",
    "import numpy as np\n",
    "# import matplotlib.pyplot as plt\n",
    "# from mpl_toolkits.mplot3d import axes3d\n",
    "\n",
    "# from mpl_toolkits.mplot3d import axes3d\n",
    "# from collections import namedtuple\n",
    "\n",
    "import csv\n",
    "import re\n",
    "import matplotlib\n",
    "import time\n",
    "import seaborn as sns\n",
    "\n",
    "from collections import OrderedDict"
   ]
  },
  {
   "cell_type": "code",
   "execution_count": 37,
   "metadata": {
    "collapsed": true
   },
   "outputs": [],
   "source": [
    "import networkx as nx\n",
    "import math"
   ]
  },
  {
   "cell_type": "code",
   "execution_count": 3,
   "metadata": {
    "collapsed": false
   },
   "outputs": [],
   "source": [
    "token = 'Aut1367'\n",
    "data_txt = 'Aut1367reorient_atlas.region.csv'\n",
    "data = np.genfromtxt(data_txt, delimiter=',', dtype='int', usecols = (0,1,2,4), names=['x','y','z','region'])"
   ]
  },
  {
   "cell_type": "code",
   "execution_count": 9,
   "metadata": {
    "collapsed": false
   },
   "outputs": [
    {
     "data": {
      "text/plain": [
       "5.6747181832754476"
      ]
     },
     "execution_count": 9,
     "metadata": {},
     "output_type": "execute_result"
    }
   ],
   "source": [
    "np.mean(data['x'])*0.01872"
   ]
  },
  {
   "cell_type": "code",
   "execution_count": 4,
   "metadata": {
    "collapsed": false
   },
   "outputs": [
    {
     "name": "stdout",
     "output_type": "stream",
     "text": [
      "Red nucleus\n",
      "Tuberomammillary nucleus, ventral part\n"
     ]
    }
   ],
   "source": [
    "ccf_txt = 'natureCCFOhedited.csv'\n",
    "ccf = {}\n",
    "\n",
    "with open(ccf_txt, 'rU') as csvfile:\n",
    "    csvreader = csv.reader(csvfile)\n",
    "    for row in csvreader:\n",
    "        # row[0] is ccf atlas index, row[4] is string of full name\n",
    "        ccf[row[0]] = row[4]\n",
    "        \n",
    "print ccf['214']\n",
    "print ccf['1']"
   ]
  },
  {
   "cell_type": "code",
   "execution_count": 5,
   "metadata": {
    "collapsed": false
   },
   "outputs": [
    {
     "name": "stdout",
     "output_type": "stream",
     "text": [
      "[   1    2    7    8    9   10   12   15   17   19   20   23   26  257  258\n",
      "  259  260  262  263  266  267  268  269  271  272  274  276  278  279  280\n",
      "  281  513  515  520  521  523  524  526  527  529  531  532  534  537  769\n",
      "  771  772  773  774  777  778  780  781  783  785  786  791 1026 1029 1030\n",
      " 1031 1034 1035 1038 1042 1044 1045 1046 1047 1048 1050]\n",
      "71\n"
     ]
    }
   ],
   "source": [
    "unique = [];\n",
    "\n",
    "for l in data:\n",
    "    unique.append(l[3])\n",
    "\n",
    "uniqueNP = np.asarray(unique)\n",
    "allUnique = np.unique(uniqueNP)\n",
    "numRegionsA = len(allUnique)\n",
    "\n",
    "print allUnique\n",
    "print numRegionsA  ## number of regions"
   ]
  },
  {
   "cell_type": "code",
   "execution_count": 6,
   "metadata": {
    "collapsed": true
   },
   "outputs": [],
   "source": [
    "dictNumElementsRegion = {}\n",
    "\n",
    "for i in range(numRegionsA):\n",
    "    counter = 0\n",
    "    for l in data:\n",
    "        if l[3] == allUnique[i]:\n",
    "            counter = counter + 1\n",
    "            dictNumElementsRegion[ccf[str(l[3])]] = counter"
   ]
  },
  {
   "cell_type": "code",
   "execution_count": 7,
   "metadata": {
    "collapsed": true
   },
   "outputs": [],
   "source": [
    "region_names = dictNumElementsRegion.keys()\n",
    "number_repetitions = dictNumElementsRegion.values()"
   ]
  },
  {
   "cell_type": "code",
   "execution_count": 71,
   "metadata": {
    "collapsed": true
   },
   "outputs": [],
   "source": [
    "def generate_atlas_region_graph(data, path=None, numRegions = 71*3):\n",
    "    font = {'weight' : 'bold',\n",
    "        'size' : 18}\n",
    "\n",
    "    matplotlib.rc('font', **font)\n",
    "\n",
    "    region_dict = OrderedDict()\n",
    "    midpoint = 5.6/0.01876\n",
    "    for l in data:\n",
    "        trace = ccf[str(l[3])]\n",
    "#         trace = 'trace' + str(l[3])\n",
    "#         print l[0]\n",
    "        if l[0] > midpoint:\n",
    "            trace = trace + '_Left'\n",
    "        else:\n",
    "            trace = trace + '_Right'\n",
    "        if trace not in region_dict:\n",
    "            region_dict[trace] = np.array([[l[0], l[1], l[2], l[3]]])\n",
    "            #print 'yay'\n",
    "        else:\n",
    "            tmp = np.array([[l[0], l[1], l[2], l[3]]])\n",
    "            region_dict[trace] = np.concatenate((region_dict.get(trace, np.zeros((1,4))), tmp), axis=0)\n",
    "            #print 'nay'\n",
    "\n",
    "    current_palette = sns.color_palette(\"husl\", numRegions)\n",
    "    # print current_palette\n",
    "\n",
    "    avg_pt = OrderedDict()\n",
    "    data = []\n",
    "    for i, key in enumerate(region_dict):\n",
    "        trace = region_dict[key]\n",
    "        tmp_col = current_palette[i]\n",
    "        tmp_col_lit = 'rgb' + str(tmp_col)\n",
    "        temp = str(np.unique(trace[:,3])).replace(\"[\", \"\")\n",
    "        final = temp.replace(\"]\", \"\")\n",
    "    \n",
    "        trace_scatter = Scatter3d(\n",
    "            x = trace[:,0] * 0.01872, \n",
    "            y = trace[:,1] * 0.01872,\n",
    "            z = trace[:,2] * 0.005,\n",
    "            mode='markers',\n",
    "            name=ccf[final],\n",
    "            marker=dict(\n",
    "                size=1.2,\n",
    "                color=tmp_col_lit, #'purple',                # set color to an array/list of desired values\n",
    "                colorscale='Viridis',   # choose a colorscale\n",
    "                opacity=0.15\n",
    "            )\n",
    "        )\n",
    "\n",
    "        data.append(trace_scatter)\n",
    "\n",
    "        avg_pt[key] = [np.mean(trace[:,0])*0.01872, np.mean(trace[:,1])*0.01872, np.mean(trace[:,2])*0.005]\n",
    "\n",
    "    layout = Layout(\n",
    "        margin=dict(\n",
    "            l=0,\n",
    "            r=0,\n",
    "            b=0,\n",
    "            t=0\n",
    "        ),\n",
    "        paper_bgcolor='rgb(0,0,0)',\n",
    "        plot_bgcolor='rgb(0,0,0)'\n",
    "    )\n",
    "    Xe = []\n",
    "    Ye = []\n",
    "    Ze = []\n",
    "    locations = avg_pt.keys()\n",
    "    avg = {}\n",
    "    for i, key in enumerate(locations):\n",
    "        if i > 139:\n",
    "            continue\n",
    "        print i\n",
    "        tmp = []\n",
    "        for j in range(i+1,len(locations)):\n",
    "            dist = (math.pow(avg_pt[key][0]-avg_pt[locations[j]][0],2) + \n",
    "                       math.pow(avg_pt[key][1]-avg_pt[locations[j]][1],2) + \n",
    "                       math.pow(avg_pt[key][2]-avg_pt[locations[j]][2],2))\n",
    "            tmp.append(dist)\n",
    "#             print dist\n",
    "        tmp2 = avg_pt.keys()[tmp.index(min(tmp))]\n",
    "        Xe+=[avg_pt[key][0],avg_pt[tmp2][0],None]\n",
    "        Ye+=[avg_pt[key][1],avg_pt[tmp2][1],None]\n",
    "        Ze+=[avg_pt[key][2],avg_pt[tmp2][2],None]\n",
    "    \n",
    "    trace_edge = Scatter3d(x=Xe,\n",
    "               y=Ye,\n",
    "               z=Ze,\n",
    "               mode='lines',\n",
    "               line=Line(color='rgb(190,190,190)', width=3),\n",
    "               hoverinfo='none'\n",
    "               )\n",
    "    data.append(trace_edge)\n",
    "#     print trace_edge['x']\n",
    "    fig = Figure(data=data, layout=layout)\n",
    "    plotly.offline.plot(fig, filename= 'Aut1367' + \"_region_color_spaced.html\")"
   ]
  },
  {
   "cell_type": "code",
   "execution_count": null,
   "metadata": {
    "collapsed": false
   },
   "outputs": [],
   "source": [
    "generate_atlas_region_graph(data, path=None, numRegions = 71*2)"
   ]
  },
  {
   "cell_type": "code",
   "execution_count": 54,
   "metadata": {
    "collapsed": false
   },
   "outputs": [
    {
     "name": "stdout",
     "output_type": "stream",
     "text": [
      "8.25552\n"
     ]
    }
   ],
   "source": [
    "print 441 * 0.01872"
   ]
  },
  {
   "cell_type": "code",
   "execution_count": null,
   "metadata": {
    "collapsed": true
   },
   "outputs": [],
   "source": []
  }
 ],
 "metadata": {
  "kernelspec": {
   "display_name": "Python 2",
   "language": "python",
   "name": "python2"
  },
  "language_info": {
   "codemirror_mode": {
    "name": "ipython",
    "version": 2
   },
   "file_extension": ".py",
   "mimetype": "text/x-python",
   "name": "python",
   "nbconvert_exporter": "python",
   "pygments_lexer": "ipython2",
   "version": "2.7.12"
  }
 },
 "nbformat": 4,
 "nbformat_minor": 1
}

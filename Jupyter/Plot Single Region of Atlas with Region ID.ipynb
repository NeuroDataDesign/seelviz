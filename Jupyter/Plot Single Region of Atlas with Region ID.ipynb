{
 "cells": [
  {
   "cell_type": "code",
   "execution_count": null,
   "metadata": {
    "collapsed": true
   },
   "outputs": [],
   "source": [
    "## Plotting just the \"Basic cell groups and regions\" by itself"
   ]
  },
  {
   "cell_type": "code",
   "execution_count": 1,
   "metadata": {
    "collapsed": true
   },
   "outputs": [],
   "source": [
    "from plotly.offline import download_plotlyjs\n",
    "from plotly.graph_objs import *\n",
    "from plotly import tools\n",
    "import plotly\n",
    "\n",
    "import os\n",
    "#os.chdir('C:/Users/L/Documents/Homework/BME/Neuro Data I/Data/')\n",
    "\n",
    "import csv,gc  # garbage memory collection :)\n",
    "\n",
    "import numpy as np\n",
    "# import matplotlib.pyplot as plt\n",
    "# from mpl_toolkits.mplot3d import axes3d\n",
    "\n",
    "# from mpl_toolkits.mplot3d import axes3d\n",
    "# from collections import namedtuple\n",
    "\n",
    "import csv\n",
    "import re\n",
    "import matplotlib\n",
    "import time\n",
    "import seaborn as sns\n",
    "\n",
    "from collections import OrderedDict"
   ]
  },
  {
   "cell_type": "code",
   "execution_count": 2,
   "metadata": {
    "collapsed": true
   },
   "outputs": [],
   "source": [
    "token = 'Aut1367'"
   ]
  },
  {
   "cell_type": "code",
   "execution_count": 3,
   "metadata": {
    "collapsed": true
   },
   "outputs": [],
   "source": [
    "\"\"\"Script for generating the color coded atlas region graphs\"\"\"\n",
    "\n",
    "path1 = os.getcwd() + '/../ccrf/'\n",
    "path2 = os.getcwd() + '/../ccf/'\n",
    "\n",
    "data_txt = path1 + 'Aut1367reorient_atlas.region.csv'\n",
    "ccf_txt = path2 + 'natureCCFOhedited.csv'\n",
    "\n",
    "data = np.genfromtxt(data_txt, delimiter=',', dtype='int', usecols = (0,1,2,4), names=['x','y','z','region'])"
   ]
  },
  {
   "cell_type": "code",
   "execution_count": 4,
   "metadata": {
    "collapsed": true
   },
   "outputs": [],
   "source": [
    "ccf = {}"
   ]
  },
  {
   "cell_type": "code",
   "execution_count": 5,
   "metadata": {
    "collapsed": true
   },
   "outputs": [],
   "source": [
    "with open(ccf_txt, 'rU') as csvfile:\n",
    "    csvreader = csv.reader(csvfile)\n",
    "    for row in csvreader:\n",
    "        # row[0] is ccf atlas index, row[4] is string of full name\n",
    "        ccf[row[0]] = row[4];\n",
    "        #print row[0]\n",
    "        #print row[4]\n",
    "        #print ', '.join(row)"
   ]
  },
  {
   "cell_type": "code",
   "execution_count": 6,
   "metadata": {
    "collapsed": false
   },
   "outputs": [
    {
     "name": "stdout",
     "output_type": "stream",
     "text": [
      "[   1    2    7    8    9   10   12   15   17   19   20   23   26  257  258\n",
      "  259  260  262  263  266  267  268  269  271  272  274  276  278  279  280\n",
      "  281  513  515  520  521  523  524  526  527  529  531  532  534  537  769\n",
      "  771  772  773  774  777  778  780  781  783  785  786  791 1026 1029 1030\n",
      " 1031 1034 1035 1038 1042 1044 1045 1046 1047 1048 1050]\n",
      "71\n"
     ]
    }
   ],
   "source": [
    "# Find all unique regions of brightest points\n",
    "unique = [];\n",
    "\n",
    "for l in data:\n",
    "    unique.append(l[3])\n",
    "\n",
    "uniqueNP = np.asarray(unique)\n",
    "allUnique = np.unique(uniqueNP)\n",
    "numRegionsA = len(allUnique)\n",
    "\n",
    "print allUnique\n",
    "print numRegionsA  ## number of regions"
   ]
  },
  {
   "cell_type": "code",
   "execution_count": 63,
   "metadata": {
    "collapsed": false
   },
   "outputs": [],
   "source": [
    "def generate_atlas_specific_region_graph(data, regionID, path=None, numRegions = 1):\n",
    "    font = {'weight' : 'bold',\n",
    "        'size' : 18}\n",
    "\n",
    "    matplotlib.rc('font', **font)\n",
    "\n",
    "    region_dict = OrderedDict()\n",
    "\n",
    "    for l in data:\n",
    "        trace = ccf[str(l[3])]\n",
    "        #trace = 'trace' + str(l[3])\n",
    "        if trace not in region_dict:\n",
    "            region_dict[trace] = np.array([[l[0], l[1], l[2], l[3]]])\n",
    "            #print 'yay'\n",
    "        else:\n",
    "            tmp = np.array([[l[0], l[1], l[2], l[3]]])\n",
    "            region_dict[trace] = np.concatenate((region_dict.get(trace, np.zeros((1,4))), tmp), axis=0)\n",
    "            #print 'nay'\n",
    "\n",
    "    current_palette = sns.color_palette(\"husl\", numRegions)\n",
    "    # print current_palette\n",
    "\n",
    "    data = []\n",
    "    key = ccf[str(regionID)];\n",
    "    trace = region_dict[key]\n",
    "    tmp_col = current_palette[0]\n",
    "    tmp_col_lit = 'rgb' + str(tmp_col)\n",
    "    temp = str(np.unique(trace[:,3])).replace(\"[\", \"\")\n",
    "    final = temp.replace(\"]\", \"\")\n",
    "\n",
    "    trace_scatter = Scatter3d(\n",
    "        x = trace[:,0], \n",
    "        y = trace[:,1],\n",
    "        z = trace[:,2],\n",
    "        mode='markers',\n",
    "        name=ccf[final],\n",
    "        marker=dict(\n",
    "            size=1.2,\n",
    "            color=tmp_col_lit, #'purple',                # set color to an array/list of desired values\n",
    "            colorscale='Viridis',   # choose a colorscale\n",
    "            opacity=0.3\n",
    "        )\n",
    "    )\n",
    "\n",
    "    data.append(trace_scatter)\n",
    "\n",
    "\n",
    "    layout = Layout(\n",
    "        margin=dict(\n",
    "            l=0,\n",
    "            r=0,\n",
    "            b=0,\n",
    "            t=0\n",
    "        ),\n",
    "        paper_bgcolor='rgb(0,0,0)',\n",
    "        plot_bgcolor='rgb(0,0,0)'\n",
    "    )\n",
    "\n",
    "    fig = Figure(data=data, layout=layout)\n",
    "    plotly.offline.plot(fig, filename= 'Aut1367' + ccf[str(regionID)] + \".html\")"
   ]
  },
  {
   "cell_type": "code",
   "execution_count": 95,
   "metadata": {
    "collapsed": false
   },
   "outputs": [],
   "source": [
    "generate_atlas_specific_region_graph(data, regionID = 8, path=None, numRegions = 1);"
   ]
  },
  {
   "cell_type": "code",
   "execution_count": 35,
   "metadata": {
    "collapsed": true
   },
   "outputs": [],
   "source": [
    "    region_dict = OrderedDict()\n",
    "\n",
    "    for l in data:\n",
    "        trace = ccf[str(l[3])]\n",
    "        #trace = 'trace' + str(l[3])\n",
    "        if trace not in region_dict:\n",
    "            region_dict[trace] = np.array([[l[0], l[1], l[2], l[3]]])\n",
    "            #print 'yay'\n",
    "        else:\n",
    "            tmp = np.array([[l[0], l[1], l[2], l[3]]])\n",
    "            region_dict[trace] = np.concatenate((region_dict.get(trace, np.zeros((1,4))), tmp), axis=0)\n",
    "            #print 'nay'"
   ]
  },
  {
   "cell_type": "code",
   "execution_count": 84,
   "metadata": {
    "collapsed": true
   },
   "outputs": [],
   "source": [
    "regionID = 7"
   ]
  },
  {
   "cell_type": "code",
   "execution_count": 85,
   "metadata": {
    "collapsed": false
   },
   "outputs": [
    {
     "data": {
      "text/plain": [
       "'Principal sensory nucleus of the trigeminal'"
      ]
     },
     "execution_count": 85,
     "metadata": {},
     "output_type": "execute_result"
    }
   ],
   "source": [
    "ccf['7']"
   ]
  },
  {
   "cell_type": "code",
   "execution_count": 86,
   "metadata": {
    "collapsed": false
   },
   "outputs": [
    {
     "name": "stdout",
     "output_type": "stream",
     "text": [
      "7\n"
     ]
    }
   ],
   "source": [
    "print str(regionID)"
   ]
  },
  {
   "cell_type": "code",
   "execution_count": 87,
   "metadata": {
    "collapsed": false
   },
   "outputs": [
    {
     "data": {
      "text/plain": [
       "'Principal sensory nucleus of the trigeminal'"
      ]
     },
     "execution_count": 87,
     "metadata": {},
     "output_type": "execute_result"
    }
   ],
   "source": [
    "ccf[str(regionID)]"
   ]
  },
  {
   "cell_type": "code",
   "execution_count": 88,
   "metadata": {
    "collapsed": false
   },
   "outputs": [
    {
     "data": {
      "text/plain": [
       "array([[175, 337, 785,   7],\n",
       "       [176, 333, 761,   7],\n",
       "       [176, 335, 768,   7],\n",
       "       ..., \n",
       "       [432, 347, 912,   7],\n",
       "       [433, 318, 977,   7],\n",
       "       [434, 332, 856,   7]])"
      ]
     },
     "execution_count": 88,
     "metadata": {},
     "output_type": "execute_result"
    }
   ],
   "source": [
    "region_dict[ccf[str(regionID)]]"
   ]
  },
  {
   "cell_type": "code",
   "execution_count": 92,
   "metadata": {
    "collapsed": false
   },
   "outputs": [
    {
     "ename": "KeyError",
     "evalue": "'Superior colliculus'",
     "output_type": "error",
     "traceback": [
      "\u001b[0;31m---------------------------------------------------------------------------\u001b[0m",
      "\u001b[0;31mKeyError\u001b[0m                                  Traceback (most recent call last)",
      "\u001b[0;32m<ipython-input-92-29e67a461298>\u001b[0m in \u001b[0;36m<module>\u001b[0;34m()\u001b[0m\n\u001b[0;32m----> 1\u001b[0;31m \u001b[0mregion_dict\u001b[0m\u001b[0;34m[\u001b[0m\u001b[0;34m'Superior colliculus'\u001b[0m\u001b[0;34m]\u001b[0m\u001b[0;34m\u001b[0m\u001b[0m\n\u001b[0m",
      "\u001b[0;31mKeyError\u001b[0m: 'Superior colliculus'"
     ]
    }
   ],
   "source": [
    "region_dict['Superior colliculus']"
   ]
  },
  {
   "cell_type": "code",
   "execution_count": 93,
   "metadata": {
    "collapsed": false
   },
   "outputs": [
    {
     "data": {
      "text/plain": [
       "'Lateral septal nucleus, rostral (rostroventral) part'"
      ]
     },
     "execution_count": 93,
     "metadata": {},
     "output_type": "execute_result"
    }
   ],
   "source": [
    "ccf['258']"
   ]
  },
  {
   "cell_type": "code",
   "execution_count": null,
   "metadata": {
    "collapsed": true
   },
   "outputs": [],
   "source": []
  }
 ],
 "metadata": {
  "kernelspec": {
   "display_name": "Python [Root]",
   "language": "python",
   "name": "Python [Root]"
  },
  "language_info": {
   "codemirror_mode": {
    "name": "ipython",
    "version": 2
   },
   "file_extension": ".py",
   "mimetype": "text/x-python",
   "name": "python",
   "nbconvert_exporter": "python",
   "pygments_lexer": "ipython2",
   "version": "2.7.12"
  }
 },
 "nbformat": 4,
 "nbformat_minor": 0
}

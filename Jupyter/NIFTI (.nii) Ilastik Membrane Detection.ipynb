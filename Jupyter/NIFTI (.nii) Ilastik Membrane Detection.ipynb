{
 "cells": [
  {
   "cell_type": "code",
   "execution_count": 90,
   "metadata": {
    "collapsed": false
   },
   "outputs": [],
   "source": [
    "import os\n",
    "import numpy as np\n",
    "from PIL import Image"
   ]
  },
  {
   "cell_type": "code",
   "execution_count": 91,
   "metadata": {
    "collapsed": true
   },
   "outputs": [],
   "source": [
    "import nibabel as nib\n",
    "import scipy.misc"
   ]
  },
  {
   "cell_type": "code",
   "execution_count": 93,
   "metadata": {
    "collapsed": false
   },
   "outputs": [],
   "source": [
    "TokenName = 'Fear197ds10.nii'\n",
    "img = nib.load(TokenName)"
   ]
  },
  {
   "cell_type": "code",
   "execution_count": 94,
   "metadata": {
    "collapsed": false
   },
   "outputs": [
    {
     "data": {
      "text/plain": [
       "(61, 80, 1097)"
      ]
     },
     "execution_count": 94,
     "metadata": {},
     "output_type": "execute_result"
    }
   ],
   "source": [
    "## Sanity check for shape\n",
    "img.shape"
   ]
  },
  {
   "cell_type": "code",
   "execution_count": 95,
   "metadata": {
    "collapsed": false
   },
   "outputs": [
    {
     "name": "stdout",
     "output_type": "stream",
     "text": [
      "(61, 80, 1097)\n",
      "<class 'numpy.core.memmap.memmap'>\n"
     ]
    }
   ],
   "source": [
    "## Convert into np array (or memmap in this case)\n",
    "data = img.get_data()\n",
    "print data.shape\n",
    "print type(data)"
   ]
  },
  {
   "cell_type": "markdown",
   "metadata": {},
   "source": [
    "From documentation, 3D grayscale is organized such that we effectively have (pln, row, col),where pln is plane, row is row and column is column.  Elements at the top left have the lowest brightness value,while elements in the bottom right have the highest brightness values.\n",
    "\n",
    "I'm going to take one plane (plane 0) and then convert it into a TIFF."
   ]
  },
  {
   "cell_type": "code",
   "execution_count": 96,
   "metadata": {
    "collapsed": false
   },
   "outputs": [
    {
     "data": {
      "text/plain": [
       "memmap([[  0,   0,   0, ...,   0,   0,   0],\n",
       "       [106,  99,  99, ..., 111, 101, 101],\n",
       "       [101, 101, 100, ..., 102, 101, 101],\n",
       "       ..., \n",
       "       [  0,   0,   0, ...,   0,   0,   0],\n",
       "       [  0,   0,   0, ...,   0,   0,   0],\n",
       "       [  0,   0,   0, ...,   0,   0,   0]], dtype=uint16)"
      ]
     },
     "execution_count": 96,
     "metadata": {},
     "output_type": "execute_result"
    }
   ],
   "source": [
    "data[0]"
   ]
  },
  {
   "cell_type": "code",
   "execution_count": 97,
   "metadata": {
    "collapsed": false
   },
   "outputs": [],
   "source": [
    "plane = 0;\n",
    "\n",
    "##Iterate through all planes to get slices\n",
    "for plane in range(data.shape[0]):\n",
    "    ## Convert memmap array into ndarray for toimage process\n",
    "    output = np.asarray(data[plane])\n",
    "    ## Save as TIFF for Ilastik\n",
    "    scipy.misc.toimage(output).save('outfile' + TokenName + str(plane) + '.tiff')"
   ]
  },
  {
   "cell_type": "code",
   "execution_count": null,
   "metadata": {
    "collapsed": true
   },
   "outputs": [],
   "source": []
  }
 ],
 "metadata": {
  "anaconda-cloud": {},
  "kernelspec": {
   "display_name": "Python [Root]",
   "language": "python",
   "name": "Python [Root]"
  },
  "language_info": {
   "codemirror_mode": {
    "name": "ipython",
    "version": 2
   },
   "file_extension": ".py",
   "mimetype": "text/x-python",
   "name": "python",
   "nbconvert_exporter": "python",
   "pygments_lexer": "ipython2",
   "version": "2.7.12"
  }
 },
 "nbformat": 4,
 "nbformat_minor": 0
}

{
 "cells": [
  {
   "cell_type": "markdown",
   "metadata": {},
   "source": [
    "# ClarityViz\n",
    "\n",
    "## Pipeline: .img -> histogram .nii -> graph represented as csv -> graph as graphml -> plotly\n",
    "\n",
    "### To run:\n",
    "\n",
    "### Step 1:\n",
    "\n",
    "First, run the following.  This takes the .img, generates the localeq histogram as an nii file, gets the nodes and edges as a csv and converts the csv into a graphml\n",
    "\n",
    "\n",
    "\n",
    "\n",
    "\n",
    "python runclarityviz.py --token Fear199 --file-type img --source-directory /cis/home/alee/claritycontrol/code/data/raw\n",
    "\n",
    "\n"
   ]
  },
  {
   "cell_type": "code",
   "execution_count": null,
   "metadata": {
    "collapsed": true
   },
   "outputs": [],
   "source": [
    "python runclarityviz.py --token Fear199Coronal --file-type img --source-directory /cis/project/clarity/data/clarity/isoCoronal"
   ]
  },
  {
   "cell_type": "markdown",
   "metadata": {},
   "source": [
    "### Step 2: \n",
    "Then run this.  This just converts the graphml into a plotly"
   ]
  },
  {
   "cell_type": "raw",
   "metadata": {},
   "source": [
    "python runclarityviz.py --token Fear199Coronal --plotly yes"
   ]
  },
  {
   "cell_type": "markdown",
   "metadata": {},
   "source": [
    "## Results"
   ]
  },
  {
   "cell_type": "raw",
   "metadata": {},
   "source": [
    "Starting pipeline for Fear199.img\n",
    "Generating Histogram...\n",
    "FINISHED GENERATING HISTOGRAM\n",
    "Loading: Fear199/Fear199localeq.nii\n",
    "Image Loaded: Fear199/Fear199localeq.nii\n",
    "FINISHED LOADING NII\n",
    "Coverting to points...\n",
    "token=Fear199\n",
    "total=600735744\n",
    "max=255.000000\n",
    "threshold=0.300000\n",
    "sample=0.500000\n",
    "(This will take couple minutes)\n",
    "Above threshold=461409948\n",
    "Samples=230718301\n",
    "Finished\n",
    "FINISHED GETTING POINTS"
   ]
  },
  {
   "cell_type": "raw",
   "metadata": {},
   "source": [
    "~/clarityviztesting/Fear199Coronal$ ls\n",
    "Fear199Coronal.csv\t  Fear199Coronal.graphml     Fear199Coronal.nodes.csv\n",
    "Fear199Coronal.edges.csv  Fear199Coronallocaleq.nii  Fear199Coronalplotly.html"
   ]
  },
  {
   "cell_type": "markdown",
   "metadata": {},
   "source": [
    "# Code"
   ]
  },
  {
   "cell_type": "markdown",
   "metadata": {},
   "source": [
    "## runclarityviz.py:"
   ]
  },
  {
   "cell_type": "code",
   "execution_count": null,
   "metadata": {
    "collapsed": true
   },
   "outputs": [],
   "source": [
    "from clarityviz import clarityviz\n",
    "import ...\n",
    "\n",
    "def get_args():\n",
    "    parser = argparse.ArgumentParser(description=\"Description\")\n",
    "\n",
    "    parser.add_argument(\"--token\", type=str, required=True, help=\"The token.\")\n",
    "    parser.add_argument(\"--file-type\", type=str, required=False, help=\"The file type.\")\n",
    "    parser.add_argument(\"--source-directory\", type=str, required=False,\n",
    "                        help=\"Optional setting of the source directory.\")\n",
    "    parser.add_argument(\"--plotly\", type=str, required=False, help=\"Optional method to generate the plotly graphs.\")\n",
    "    parser.add_argument(\"--generate-nii-from-csv\", type=str, required=False, help=\"script to generate nii\")\n",
    "\n",
    "    args = parser.parse_args()\n",
    "\n",
    "    return args\n",
    "\n",
    "\n",
    "def main():\n",
    "    print('ayyooooo')\n",
    "    args = get_args()\n",
    "\n",
    "    if args.plotly == 'yes':\n",
    "        ## Type in the path to your csv file here\n",
    "        thedata = np.genfromtxt(args.token + '/' + args.token + '.csv',\n",
    "            delimiter=',', dtype='int', usecols = (0,1,2), names=['a','b','c'])\n",
    "\n",
    "        trace1 = go.Scatter3d(\n",
    "            x = thedata['a'],\n",
    "            y = thedata['b'],\n",
    "            z = thedata['c'],\n",
    "            mode='markers',\n",
    "            marker=dict(\n",
    "                size=1.2,\n",
    "                color='purple',                # set color to an array/list of desired values\n",
    "                colorscale='Viridis',   # choose a colorscale\n",
    "                opacity=0.15\n",
    "            )\n",
    "        )\n",
    "\n",
    "        data = [trace1]\n",
    "        layout = go.Layout(\n",
    "            margin=dict(\n",
    "                l=0,\n",
    "                r=0,\n",
    "                b=0,\n",
    "                t=0\n",
    "            )\n",
    "        )\n",
    "\n",
    "        fig = go.Figure(data=data, layout=layout)\n",
    "        print args.token + \"plotly\"\n",
    "        plotly.offline.plot(fig, filename= args.token + \"/\" + args.token + \"plotly.html\")\n",
    "    else:\n",
    "        print('Starting pipeline for %s' % (args.token + '.' + args.file_type))\n",
    "        if args.source_directory == None:\n",
    "            c = clarityviz(args.token)\n",
    "        else:\n",
    "            c = clarityviz(args.token, args.source_directory)\n",
    "\n",
    "        if args.file_type == 'img':\n",
    "            #c.loadEqImg()\n",
    "            c.generateHistogram()\n",
    "            print('FINISHED GENERATING HISTOGRAM')\n",
    "            c.loadNiiImg()\n",
    "            print('FINISHED LOADING NII')\n",
    "        elif args.file_type == 'nii':\n",
    "            c.loadNiiImg()\n",
    "            print('FINISHED LOADING NII')\n",
    "\n",
    "        c.imgToPoints(0.3, 0.5)\n",
    "        print(\"FINISHED GETTING POINTS\")\n",
    "\n",
    "        c.savePoints()\n",
    "\n",
    "        c.plot3d()\n",
    "        print(\"FINISHED PLOT3D\")\n",
    "\n",
    "        c.graphmlconvert()\n",
    "        print(\"FINISHED GRAPHMLCONVERT\")\n",
    "\n",
    "if __name__ == \"__main__\":\n",
    "    main()"
   ]
  }
 ],
 "metadata": {
  "kernelspec": {
   "display_name": "Python 3",
   "language": "python",
   "name": "python3"
  },
  "language_info": {
   "codemirror_mode": {
    "name": "ipython",
    "version": 3
   },
   "file_extension": ".py",
   "mimetype": "text/x-python",
   "name": "python",
   "nbconvert_exporter": "python",
   "pygments_lexer": "ipython3",
   "version": "3.5.2"
  }
 },
 "nbformat": 4,
 "nbformat_minor": 0
}

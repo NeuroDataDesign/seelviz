{
 "cells": [
  {
   "cell_type": "markdown",
   "metadata": {},
   "source": [
    "## Decision Tree and Random Forest\n",
    "Decision trees are a type of regression technique that aims to discern some set of discrete features from a data set.  Decision trees function are built from a subset of branches (specific features) and nodes (where the branches split).\n",
    "\n",
    "Random Forest ...\n",
    "\n",
    "To do membrane detection in Ilastik, I followed the carving technique.  Carving refers to separating individual objects by their boundaries (which is unlike what classification does -- classification looks at the individual brightness values to try to determine differences in the internal structure, while carving functions primarily by examining borders).\n",
    "\n",
    "I used their suggested mouse retina EM data courtesy Winfried Dink et al.\n",
    "\n"
   ]
  }
 ],
 "metadata": {
  "kernelspec": {
   "display_name": "Python [Root]",
   "language": "python",
   "name": "Python [Root]"
  },
  "language_info": {
   "codemirror_mode": {
    "name": "ipython",
    "version": 2
   },
   "file_extension": ".py",
   "mimetype": "text/x-python",
   "name": "python",
   "nbconvert_exporter": "python",
   "pygments_lexer": "ipython2",
   "version": "2.7.12"
  }
 },
 "nbformat": 4,
 "nbformat_minor": 0
}

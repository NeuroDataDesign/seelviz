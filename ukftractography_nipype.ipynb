{
 "cells": [
  {
   "cell_type": "markdown",
   "metadata": {},
   "source": [
    "UKF Tractography uses an unscented Kalman filter to perform tractography. At each point on the fiber the most consistent direction is found as a mixture of previous estimates and of the local model.\n",
    "\n",
    "It can tract fibers 1-, 2-, or 3-tensor methods which uses a mixture of Gaussian tensors. There are two methods: One limits the diffusion ellipsoids to a cylindrical shape (the second and third eigenvalue are assumed to be identical) and the other one uses a full tensor representation."
   ]
  },
  {
   "cell_type": "code",
   "execution_count": 1,
   "metadata": {
    "collapsed": false
   },
   "outputs": [],
   "source": [
    "import nipype.interfaces.semtools.diffusion as ukf"
   ]
  },
  {
   "cell_type": "code",
   "execution_count": 23,
   "metadata": {
    "collapsed": true
   },
   "outputs": [],
   "source": [
    "from nipype.interfaces.semtools.diffusion import tractography"
   ]
  },
  {
   "cell_type": "code",
   "execution_count": null,
   "metadata": {
    "collapsed": true
   },
   "outputs": [],
   "source": [
    "import nipype"
   ]
  },
  {
   "cell_type": "code",
   "execution_count": null,
   "metadata": {
    "collapsed": true
   },
   "outputs": [],
   "source": [
    "import nipype.interfaces.semtools as tools"
   ]
  },
  {
   "cell_type": "code",
   "execution_count": 2,
   "metadata": {
    "collapsed": false
   },
   "outputs": [],
   "source": [
    "test = ukf.dtiestim(dwi_image = \"Control258localeq.nii\")"
   ]
  },
  {
   "cell_type": "code",
   "execution_count": 21,
   "metadata": {
    "collapsed": false
   },
   "outputs": [
    {
     "data": {
      "text/plain": [
       "\n",
       "allowLossyConversion = True\n",
       "args = <undefined>\n",
       "conversionMode = <undefined>\n",
       "environ = {}\n",
       "fMRI = <undefined>\n",
       "fslNIFTIFile = <undefined>\n",
       "gradientVectorFile = <undefined>\n",
       "ignore_exception = False\n",
       "inputBValues = <undefined>\n",
       "inputBVectors = <undefined>\n",
       "inputDicomDirectory = <undefined>\n",
       "inputVolume = <undefined>\n",
       "outputBValues = <undefined>\n",
       "outputBVectors = <undefined>\n",
       "outputDirectory = <undefined>\n",
       "outputVolume = <undefined>\n",
       "smallGradientThreshold = <undefined>\n",
       "terminal_output = <undefined>\n",
       "transposeInputBVectors = <undefined>\n",
       "useBMatrixGradientDirections = <undefined>\n",
       "useIdentityMeaseurementFrame = <undefined>\n",
       "writeProtocolGradientsFile = <undefined>"
      ]
     },
     "execution_count": 21,
     "metadata": {},
     "output_type": "execute_result"
    }
   ],
   "source": [
    "convert = ukf.DWIConvert()\n",
    "convert.input_spec(allowLossyConversion=True, )"
   ]
  },
  {
   "cell_type": "code",
   "execution_count": 18,
   "metadata": {
    "collapsed": false
   },
   "outputs": [
    {
     "data": {
      "text/plain": [
       "\n",
       "gradientVectorFile = <undefined>\n",
       "outputBValues = <undefined>\n",
       "outputBVectors = <undefined>\n",
       "outputDirectory = <undefined>\n",
       "outputVolume = <undefined>"
      ]
     },
     "execution_count": 18,
     "metadata": {},
     "output_type": "execute_result"
    }
   ],
   "source": [
    "convert.output_spec()"
   ]
  },
  {
   "cell_type": "code",
   "execution_count": null,
   "metadata": {
    "collapsed": true
   },
   "outputs": [],
   "source": [
    "from nipype.interfaces.freesurfer import MRIConvert"
   ]
  },
  {
   "cell_type": "code",
   "execution_count": 22,
   "metadata": {
    "collapsed": false
   },
   "outputs": [
    {
     "ename": "ImportError",
     "evalue": "No module named MRIConvert",
     "output_type": "error",
     "traceback": [
      "\u001b[0;31m---------------------------------------------------------------------------\u001b[0m",
      "\u001b[0;31mImportError\u001b[0m                               Traceback (most recent call last)",
      "\u001b[0;32m<ipython-input-22-9e5a346ba86f>\u001b[0m in \u001b[0;36m<module>\u001b[0;34m()\u001b[0m\n\u001b[0;32m----> 1\u001b[0;31m \u001b[0;32mimport\u001b[0m \u001b[0mnipype\u001b[0m\u001b[0;34m.\u001b[0m\u001b[0minterfaces\u001b[0m\u001b[0;34m.\u001b[0m\u001b[0mfreesurfer\u001b[0m\u001b[0;34m.\u001b[0m\u001b[0mMRIConvert\u001b[0m\u001b[0;34m\u001b[0m\u001b[0m\n\u001b[0m",
      "\u001b[0;31mImportError\u001b[0m: No module named MRIConvert"
     ]
    }
   ],
   "source": [
    "import nipype.interfaces.freesurfer.MRIConvert"
   ]
  },
  {
   "cell_type": "code",
   "execution_count": 24,
   "metadata": {
    "collapsed": true
   },
   "outputs": [],
   "source": [
    "a = tractography.UKFTractography()"
   ]
  },
  {
   "cell_type": "code",
   "execution_count": 26,
   "metadata": {
    "collapsed": false
   },
   "outputs": [
    {
     "data": {
      "text/plain": [
       "\n",
       "Ql = <undefined>\n",
       "Qm = <undefined>\n",
       "Qw = <undefined>\n",
       "Rs = <undefined>\n",
       "args = <undefined>\n",
       "dwiFile = <undefined>\n",
       "environ = {}\n",
       "freeWater = <undefined>\n",
       "fullTensorModel = <undefined>\n",
       "ignore_exception = False\n",
       "labels = <undefined>\n",
       "maskFile = <undefined>\n",
       "maxBranchingAngle = <undefined>\n",
       "maxHalfFiberLength = <undefined>\n",
       "minBranchingAngle = <undefined>\n",
       "minFA = <undefined>\n",
       "minGA = <undefined>\n",
       "numTensor = <undefined>\n",
       "numThreads = <undefined>\n",
       "recordCovariance = <undefined>\n",
       "recordFA = <undefined>\n",
       "recordFreeWater = <undefined>\n",
       "recordLength = <undefined>\n",
       "recordNMSE = <undefined>\n",
       "recordState = <undefined>\n",
       "recordTensors = <undefined>\n",
       "recordTrace = <undefined>\n",
       "seedFALimit = <undefined>\n",
       "seedsFile = <undefined>\n",
       "seedsPerVoxel = <undefined>\n",
       "stepLength = <undefined>\n",
       "storeGlyphs = <undefined>\n",
       "terminal_output = <undefined>\n",
       "tracts = <undefined>\n",
       "tractsWithSecondTensor = <undefined>\n",
       "writeAsciiTracts = <undefined>\n",
       "writeUncompressedTracts = <undefined>"
      ]
     },
     "execution_count": 26,
     "metadata": {},
     "output_type": "execute_result"
    }
   ],
   "source": [
    "a.input_spec()"
   ]
  },
  {
   "cell_type": "code",
   "execution_count": null,
   "metadata": {
    "collapsed": true
   },
   "outputs": [],
   "source": []
  }
 ],
 "metadata": {
  "kernelspec": {
   "display_name": "Python 2",
   "language": "python",
   "name": "python2"
  },
  "language_info": {
   "codemirror_mode": {
    "name": "ipython",
    "version": 2
   },
   "file_extension": ".py",
   "mimetype": "text/x-python",
   "name": "python",
   "nbconvert_exporter": "python",
   "pygments_lexer": "ipython2",
   "version": "2.7.12"
  }
 },
 "nbformat": 4,
 "nbformat_minor": 2
}

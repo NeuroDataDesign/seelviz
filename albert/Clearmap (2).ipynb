{
 "cells": [
  {
   "cell_type": "code",
   "execution_count": 1,
   "metadata": {
    "collapsed": false
   },
   "outputs": [
    {
     "name": "stdout",
     "output_type": "stream",
     "text": [
      "Cloning into 'ClearMap'...\n",
      "remote: Counting objects: 813, done.\u001b[K\n",
      "remote: Total 813 (delta 0), reused 0 (delta 0), pack-reused 813\u001b[K\n",
      "Receiving objects: 100% (813/813), 30.97 MiB | 36.44 MiB/s, done.\n",
      "Resolving deltas: 100% (344/344), done.\n",
      "Checking connectivity... done.\n"
     ]
    }
   ],
   "source": [
    "!git clone https://github.com/ChristophKirst/ClearMap.git"
   ]
  },
  {
   "cell_type": "code",
   "execution_count": 1,
   "metadata": {
    "collapsed": false
   },
   "outputs": [
    {
     "name": "stdout",
     "output_type": "stream",
     "text": [
      "[u'1', u'0', u'3', u'2', u'5', u'4']\n"
     ]
    }
   ],
   "source": [
    "## Script used to download nii run on Docker\n",
    "from ndreg import *\n",
    "import matplotlib\n",
    "import ndio.remote.neurodata as neurodata\n",
    "import nibabel as nb\n",
    "inToken = \"Fear199\"\n",
    "nd = neurodata()\n",
    "print(nd.get_metadata(inToken)['dataset']['voxelres'].keys())\n",
    "inImg = imgDownload(inToken, resolution=5)\n",
    "imgWrite(inImg, \"./Fear199.nii\")"
   ]
  },
  {
   "cell_type": "code",
   "execution_count": 2,
   "metadata": {
    "collapsed": false
   },
   "outputs": [],
   "source": [
    "import os\n",
    "import numpy as np\n",
    "from PIL import Image\n",
    "import nibabel as nib\n",
    "import scipy.misc"
   ]
  },
  {
   "cell_type": "code",
   "execution_count": 3,
   "metadata": {
    "collapsed": false
   },
   "outputs": [
    {
     "name": "stdout",
     "output_type": "stream",
     "text": [
      "<type 'numpy.ndarray'>\n"
     ]
    }
   ],
   "source": [
    "rawData = sitk.GetArrayFromImage(inImg)  ## convert to simpleITK image to normal numpy ndarray\n",
    "print type(rawData)"
   ]
  },
  {
   "cell_type": "code",
   "execution_count": null,
   "metadata": {
    "collapsed": false
   },
   "outputs": [],
   "source": [
    "plane = 0;\n",
    "for plane in (0, 1, 2, 3, 4, 5, 6, 7, 8, 9, 10, 11, 12, 13, 14, 15):\n",
    "    output = np.asarray(rawData[plane])\n",
    "    ## Save as TIFF for Ilastik\n",
    "    scipy.misc.toimage(output).save('clarity'+str(plane).zfill(4)+'.tif')"
   ]
  },
  {
   "cell_type": "markdown",
   "metadata": {
    "collapsed": true
   },
   "source": [
    "/*\n",
    "apt-get install spyder\n",
    "apt-get install python-opencv\n",
    "apt-get install cython\n",
    "apt-get install python-tifffile\n",
    "apt-get install python-h5py\n",
    "apt-get install python-natsort\n",
    "pip install scikit-image\n",
    "*/\n",
    "\n",
    "//Files located at '/root/ClearMap_ressources/25um\\ Autofluo\\ Reference/template_25.tif\n",
    "'\n",
    "BaseDirectory = '/root/data'\n",
    "cFosFile = os.path.join(BaseDirectory, 'template25.tif');\n",
    "AutofluoFile = os.path.join(BaseDirectory, 'template25.tif');\n",
    "PathReg        = '/root/data';\n",
    "AtlasFile      = os.path.join(PathReg, 'regions.csv');\n",
    "AnnotationFile = os.path.join(PathReg, 'annotation_25_full.nrrd');\n",
    "\n",
    "/usr/local/lib/python2.7/dist-packages/ClearMap-0.9.2-py2.7-linux-x86_64.egg/ClearMap/\n",
    "/root/ClearMap/ClearMap/Scripts\n"
   ]
  }
 ],
 "metadata": {
  "kernelspec": {
   "display_name": "Python 2",
   "language": "python",
   "name": "python2"
  },
  "language_info": {
   "codemirror_mode": {
    "name": "ipython",
    "version": 2
   },
   "file_extension": ".py",
   "mimetype": "text/x-python",
   "name": "python",
   "nbconvert_exporter": "python",
   "pygments_lexer": "ipython2",
   "version": "2.7.12"
  }
 },
 "nbformat": 4,
 "nbformat_minor": 1
}

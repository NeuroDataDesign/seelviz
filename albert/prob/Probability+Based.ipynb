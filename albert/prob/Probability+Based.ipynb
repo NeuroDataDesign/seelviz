{
 "cells": [
  {
   "cell_type": "markdown",
   "metadata": {},
   "source": [
    "# Probability direction generator"
   ]
  },
  {
   "cell_type": "markdown",
   "metadata": {},
   "source": [
    "### Setup"
   ]
  },
  {
   "cell_type": "code",
   "execution_count": 8,
   "metadata": {
    "collapsed": true
   },
   "outputs": [],
   "source": [
    "%matplotlib inline\n",
    "import matplotlib.pyplot as plt"
   ]
  },
  {
   "cell_type": "code",
   "execution_count": 1,
   "metadata": {
    "collapsed": false,
    "scrolled": true
   },
   "outputs": [
    {
     "name": "stdout",
     "output_type": "stream",
     "text": [
      "Dataset is already in place. If you want to fetch it again please first remove the folder /root/.dipy/stanford_hardi \n",
      "Dataset is already in place. If you want to fetch it again please first remove the folder /root/.dipy/stanford_hardi \n",
      "Downloading \"label_info.txt\" to /root/.dipy/stanford_hardi\n",
      "Downloading \"aparc-reduced.nii.gz\" to /root/.dipy/stanford_hardi\n",
      "Files successfully downloaded to /root/.dipy/stanford_hardi\n"
     ]
    },
    {
     "name": "stderr",
     "output_type": "stream",
     "text": [
      "/usr/local/lib/python2.7/dist-packages/ipykernel/__main__.py:9: DeprecationWarning: get_affine method is deprecated.\n",
      "Please use the ``img.affine`` property instead.\n",
      "\n",
      "* deprecated from version: 2.1\n",
      "* Will raise <class 'nibabel.deprecator.ExpiredDeprecationError'> as of version: 4.0\n"
     ]
    }
   ],
   "source": [
    "from dipy.data import read_stanford_labels\n",
    "from dipy.reconst.csdeconv import ConstrainedSphericalDeconvModel\n",
    "from dipy.tracking import utils\n",
    "from dipy.tracking.local import (ThresholdTissueClassifier, LocalTracking)\n",
    "\n",
    "hardi_img, gtab, labels_img = read_stanford_labels()\n",
    "data = hardi_img.get_data()\n",
    "labels = labels_img.get_data()\n",
    "affine = hardi_img.get_affine()\n",
    "\n",
    "seed_mask = labels == 2\n",
    "white_matter = (labels == 1) | (labels == 2)\n",
    "seeds = utils.seeds_from_mask(seed_mask, density=1, affine=affine)\n",
    "\n",
    "csd_model = ConstrainedSphericalDeconvModel(gtab, None, sh_order=6)\n",
    "csd_fit = csd_model.fit(data, mask=white_matter)"
   ]
  },
  {
   "cell_type": "code",
   "execution_count": 2,
   "metadata": {
    "collapsed": true
   },
   "outputs": [],
   "source": [
    "from dipy.reconst.shm import CsaOdfModel\n",
    "\n",
    "csa_model = CsaOdfModel(gtab, sh_order=6)\n",
    "gfa = csa_model.fit(data, mask=white_matter).gfa\n",
    "classifier = ThresholdTissueClassifier(gfa, .25)"
   ]
  },
  {
   "cell_type": "markdown",
   "metadata": {},
   "source": [
    "## Simple Probability Model"
   ]
  },
  {
   "cell_type": "code",
   "execution_count": 3,
   "metadata": {
    "collapsed": true
   },
   "outputs": [],
   "source": [
    "from dipy.direction import ProbabilisticDirectionGetter\n",
    "from dipy.data import small_sphere\n",
    "from dipy.io.trackvis import save_trk\n",
    "\n",
    "fod = csd_fit.odf(small_sphere)\n",
    "pmf = fod.clip(min=0)\n",
    "prob_dg = ProbabilisticDirectionGetter.from_pmf(pmf, max_angle=30.,\n",
    "                                                sphere=small_sphere)\n",
    "streamlines = LocalTracking(prob_dg, classifier, seeds, affine, step_size=.5)\n",
    "save_trk(\"probabilistic_small_sphere.trk\", streamlines, affine, labels.shape)"
   ]
  },
  {
   "cell_type": "code",
   "execution_count": 9,
   "metadata": {
    "collapsed": false,
    "scrolled": false
   },
   "outputs": [
    {
     "data": {
      "text/plain": [
       "<matplotlib.image.AxesImage at 0x7f72321a5690>"
      ]
     },
     "execution_count": 9,
     "metadata": {},
     "output_type": "execute_result"
    },
    {
     "data": {
      "image/png": "[encoded data removed]",
      "text/plain": [
       "<matplotlib.figure.Figure at 0x7f72363f6ad0>"
      ]
     },
     "metadata": {},
     "output_type": "display_data"
    }
   ],
   "source": [
    "mask_fa = gfa.copy()\n",
    "mask_fa[mask_fa < 0.2] = 0\n",
    "plt.xticks([])\n",
    "plt.yticks([])\n",
    "plt.imshow(mask_fa[:, :, data.shape[2] / 2].T, cmap='gray', origin='lower',\n",
    "           interpolation='nearest')"
   ]
  },
  {
   "cell_type": "code",
   "execution_count": 11,
   "metadata": {
    "collapsed": true
   },
   "outputs": [],
   "source": [
    "all_streamlines_threshold_classifier = LocalTracking(prob_dg,\n",
    "                                                     classifier,\n",
    "                                                     seeds,\n",
    "                                                     affine,\n",
    "                                                     step_size=.5,\n",
    "                                                     return_all=True)\n",
    "streamlines = [sl for sl in all_streamlines_threshold_classifier]"
   ]
  },
  {
   "cell_type": "code",
   "execution_count": 10,
   "metadata": {
    "collapsed": true
   },
   "outputs": [],
   "source": [
    "from dipy.viz import fvtk\n",
    "from dipy.viz.colormap import line_colors\n",
    "\n",
    "ren = fvtk.ren()\n",
    "\n",
    "fvtk.clear(ren)\n",
    "fvtk.add(ren, fvtk.line(streamlines, line_colors(streamlines)))\n",
    "fvtk.show(ren)"
   ]
  },
  {
   "cell_type": "markdown",
   "metadata": {},
   "source": [
    "![](https://github.com/NeuroDataDesign/seelviz/blob/gh-pages/albert/prob/probability1.png?raw=true)"
   ]
  },
  {
   "cell_type": "markdown",
   "metadata": {},
   "source": [
    "The above model is the simplest probabilistic model that Dipy offers. It estimates the distribution of fiber bundles within each individual voxel. This fiber orientation distribution (FOD) is used to genereate a discrete sphere. This distribution is then used to sample possible directions."
   ]
  },
  {
   "cell_type": "markdown",
   "metadata": {},
   "source": [
    "## Reduced RAM Implementation"
   ]
  },
  {
   "cell_type": "code",
   "execution_count": 12,
   "metadata": {
    "collapsed": true
   },
   "outputs": [],
   "source": [
    "from dipy.data import default_sphere\n",
    "\n",
    "prob_dg = ProbabilisticDirectionGetter.from_shcoeff(csd_fit.shm_coeff,\n",
    "                                                    max_angle=30.,\n",
    "                                                    sphere=default_sphere)\n",
    "streamlines = LocalTracking(prob_dg, classifier, seeds, affine, step_size=.5)\n",
    "\n",
    "save_trk(\"probabilistic_shm_coeff.trk\", streamlines, affine, labels.shape)"
   ]
  },
  {
   "cell_type": "markdown",
   "metadata": {},
   "source": [
    "A spherical harmonic representation of the FOD can be used to reduce the amount of RAM necessary for computation. A larger sphere thus can be used to increase accuracy and probabilistic rigor."
   ]
  },
  {
   "cell_type": "code",
   "execution_count": 13,
   "metadata": {
    "collapsed": false
   },
   "outputs": [
    {
     "data": {
      "text/plain": [
       "<matplotlib.image.AxesImage at 0x7f72320ec710>"
      ]
     },
     "execution_count": 13,
     "metadata": {},
     "output_type": "execute_result"
    },
    {
     "data": {
      "image/png": "[encoded data removed]",
      "text/plain": [
       "<matplotlib.figure.Figure at 0x7f7260e4d850>"
      ]
     },
     "metadata": {},
     "output_type": "display_data"
    }
   ],
   "source": [
    "mask_fa = gfa.copy()\n",
    "mask_fa[mask_fa < 0.2] = 0\n",
    "plt.xticks([])\n",
    "plt.yticks([])\n",
    "plt.imshow(mask_fa[:, :, data.shape[2] / 2].T, cmap='gray', origin='lower',\n",
    "           interpolation='nearest')"
   ]
  },
  {
   "cell_type": "code",
   "execution_count": 14,
   "metadata": {
    "collapsed": true
   },
   "outputs": [],
   "source": [
    "all_streamlines_threshold_classifier = LocalTracking(prob_dg,\n",
    "                                                     classifier,\n",
    "                                                     seeds,\n",
    "                                                     affine,\n",
    "                                                     step_size=.5,\n",
    "                                                     return_all=True)\n",
    "streamlines = [sl for sl in all_streamlines_threshold_classifier]"
   ]
  },
  {
   "cell_type": "code",
   "execution_count": null,
   "metadata": {
    "collapsed": true
   },
   "outputs": [],
   "source": [
    "from dipy.viz import fvtk\n",
    "from dipy.viz.colormap import line_colors\n",
    "\n",
    "ren = fvtk.ren()\n",
    "\n",
    "fvtk.clear(ren)\n",
    "fvtk.add(ren, fvtk.line(streamlines, line_colors(streamlines)))\n",
    "fvtk.show(ren)"
   ]
  },
  {
   "cell_type": "markdown",
   "metadata": {},
   "source": [
    "![](https://github.com/NeuroDataDesign/seelviz/blob/gh-pages/albert/prob/probability2.png?raw=true)"
   ]
  },
  {
   "cell_type": "markdown",
   "metadata": {},
   "source": [
    "## Peaks from Model Implementation"
   ]
  },
  {
   "cell_type": "code",
   "execution_count": 15,
   "metadata": {
    "collapsed": true
   },
   "outputs": [],
   "source": [
    "from dipy.direction import peaks_from_model\n",
    "\n",
    "peaks = peaks_from_model(csd_model, data, default_sphere, .5, 25,\n",
    "                         mask=white_matter, return_sh=True, parallel=True)\n",
    "fod_coeff = peaks.shm_coeff\n",
    "prob_dg = ProbabilisticDirectionGetter.from_shcoeff(fod_coeff, max_angle=30.,\n",
    "                                                    sphere=default_sphere)\n",
    "streamlines = LocalTracking(prob_dg, classifier, seeds, affine, step_size=.5)\n",
    "save_trk(\"probabilistic_peaks_from_model.trk\", streamlines, affine,\n",
    "         labels.shape)"
   ]
  },
  {
   "cell_type": "code",
   "execution_count": 16,
   "metadata": {
    "collapsed": false
   },
   "outputs": [
    {
     "data": {
      "text/plain": [
       "<matplotlib.image.AxesImage at 0x7f723206b910>"
      ]
     },
     "execution_count": 16,
     "metadata": {},
     "output_type": "execute_result"
    },
    {
     "data": {
      "image/png": "[encoded data removed]",
      "text/plain": [
       "<matplotlib.figure.Figure at 0x7f723246bfd0>"
      ]
     },
     "metadata": {},
     "output_type": "display_data"
    }
   ],
   "source": [
    "mask_fa = gfa.copy()\n",
    "mask_fa[mask_fa < 0.2] = 0\n",
    "plt.xticks([])\n",
    "plt.yticks([])\n",
    "plt.imshow(mask_fa[:, :, data.shape[2] / 2].T, cmap='gray', origin='lower',\n",
    "           interpolation='nearest')"
   ]
  },
  {
   "cell_type": "markdown",
   "metadata": {},
   "source": [
    "A dataset needs to have a shm_coeff attribute in order to use spherical probabilistic representation. In this case it is best to use the spherical harmonic basis to fit the original ODF."
   ]
  },
  {
   "cell_type": "code",
   "execution_count": 17,
   "metadata": {
    "collapsed": true
   },
   "outputs": [],
   "source": [
    "all_streamlines_threshold_classifier = LocalTracking(prob_dg,\n",
    "                                                     classifier,\n",
    "                                                     seeds,\n",
    "                                                     affine,\n",
    "                                                     step_size=.5,\n",
    "                                                     return_all=True)\n",
    "streamlines = [sl for sl in all_streamlines_threshold_classifier]"
   ]
  },
  {
   "cell_type": "code",
   "execution_count": null,
   "metadata": {
    "collapsed": true
   },
   "outputs": [],
   "source": [
    "from dipy.viz import fvtk\n",
    "from dipy.viz.colormap import line_colors\n",
    "\n",
    "ren = fvtk.ren()\n",
    "\n",
    "fvtk.clear(ren)\n",
    "fvtk.add(ren, fvtk.line(streamlines, line_colors(streamlines)))\n",
    "fvtk.show(ren)"
   ]
  },
  {
   "cell_type": "markdown",
   "metadata": {},
   "source": [
    "![](https://github.com/NeuroDataDesign/seelviz/blob/gh-pages/albert/prob/probability3.png?raw=true)"
   ]
  }
 ],
 "metadata": {
  "kernelspec": {
   "display_name": "Python 2",
   "language": "python",
   "name": "python2"
  },
  "language_info": {
   "codemirror_mode": {
    "name": "ipython",
    "version": 2
   },
   "file_extension": ".py",
   "mimetype": "text/x-python",
   "name": "python",
   "nbconvert_exporter": "python",
   "pygments_lexer": "ipython2",
   "version": "2.7.12"
  }
 },
 "nbformat": 4,
 "nbformat_minor": 1
}

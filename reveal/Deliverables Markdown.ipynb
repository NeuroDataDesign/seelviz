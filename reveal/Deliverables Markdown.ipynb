{
 "cells": [
  {
   "cell_type": "markdown",
   "metadata": {},
   "source": [
    "# Deliverables for NeuroDataDesign\n",
    "## Albert Lee, Jon Liu, Tony Sun, Luke Zhu\n",
    "\n",
    "1) [September 6, 2016 - 3D XYZ Coordinates](https://neurodatadesign.github.io/seelviz/reveal/week_906.html#/)  \n",
    "2) [September 12, 2016 - Graphing Results and Atlas Research](https://neurodatadesign.github.io/seelviz/reveal/week_912.html#/)  \n",
    "3) [September 19, 2016 - Graph Statistics](https://neurodatadesign.github.io/seelviz/reveal/week_919.html#/)  \n",
    "4) [September 26, 2016 - Clustering, Pipeline API, Kwame Pipeline and Weighted Graphs](https://neurodatadesign.github.io/seelviz/reveal/week_926.html#/)  \n",
    "5) [October 5, 2016 - False-Colored Density Plots, Individually-Colored Brain Region Plots, Docker Package and Pipeline Package](https://neurodatadesign.github.io/seelviz/reveal/week_105.html#/)  "
   ]
  },
  {
   "cell_type": "code",
   "execution_count": null,
   "metadata": {
    "collapsed": true
   },
   "outputs": [],
   "source": []
  }
 ],
 "metadata": {
  "anaconda-cloud": {},
  "kernelspec": {
   "display_name": "Python [Root]",
   "language": "python",
   "name": "Python [Root]"
  },
  "language_info": {
   "codemirror_mode": {
    "name": "ipython",
    "version": 2
   },
   "file_extension": ".py",
   "mimetype": "text/x-python",
   "name": "python",
   "nbconvert_exporter": "python",
   "pygments_lexer": "ipython2",
   "version": "2.7.12"
  }
 },
 "nbformat": 4,
 "nbformat_minor": 0
}

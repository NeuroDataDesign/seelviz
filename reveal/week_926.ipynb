{
 "cells": [
  {
   "cell_type": "code",
   "execution_count": 1,
   "metadata": {
    "collapsed": true
   },
   "outputs": [],
   "source": [
    "import os\n",
    "from IPython.core.display import Image, display"
   ]
  },
  {
   "cell_type": "markdown",
   "metadata": {},
   "source": [
    "## Deliverables\n",
    "\n",
    "### Tony\n",
    "* Clustering -- learn about clustering. Make a LaTeX (or Markdown) file explaining what K-means, K-medeods, Spectral, Louvain do. Explain basics of implementation, and include a pro/con table discussing what each does well/poorly with examples for each. Include basic algorithms.\n",
    "* Write pseudocode for clustering graphs [see Ryan's Git Issue on LaTeX]\n",
    "    * https://neurodatadesign.github.io/seelviz/Jupyter/ClusteringTechniques.html\n",
    "\n",
    "Reach Goal:\n",
    "* Jupyter notebook with Clustering on our data\n",
    "    * As per Jovo's recommendation, I first ran example data to make sure I understood the basic premises of what I was doing  (used sample data set Images from SciKit)\n",
    "    * Then attempted to do clustering on Fear199, implemented K-means (not sure of interpretation/usefulness)\n",
    "    ![Image of K-Means on XY scatter, 2 clusters](clusteringassets/Fear199localeqkmeans2.png)\n",
    "    ![Image of K-Means on XY scatter, 5 clusters](clusteringassets/Fear199localeqkmeans5.png)\n",
    "\n",
    "### Jon\n",
    "* Turn API into pipeline form: Running should output wanted graphs\n",
    "\n",
    "### Albert\n",
    "* Kwame pipeline tutorials - deliverable is Jupyter Notebook running his tutorial\n",
    "    * https://github.com/NeuroDataDesign/seelviz/blob/gh-pages/Kwame%20Registration%20Notebook%201.ipynb    \n",
    "    * https://github.com/NeuroDataDesign/seelviz/blob/gh-pages/Kwame%20Registration%20Notebook%202.ipynb\n",
    "* Get the atlas aligned data from Kwame\n",
    "* Acquire new data and see if we still have problems with it\n",
    "* Using the atlas aligned images, play around with atlas coordinates\n",
    "\n",
    "Reach Goal:\n",
    "*  Run Kwame Pipeline on new data\n",
    "    * Incomplete, as the other file was not propagated thus I was unable to run it through Kwame's pipeline\n",
    "    * https://github.com/NeuroDataDesign/seelviz/blob/gh-pages/AileyRegistration.ipynb\n",
    "\n",
    "### Luke\n",
    "* Go back and make weighted versions of our graphs (decide on a weight function [e^(-distance), for instance])\n",
    "* Make graphs similar to Greg's\n",
    "    * https://neurodatadesign.github.io/seelviz/Jupyter/CombinedPlotsandGraphStatistics.html"
   ]
  },
  {
   "cell_type": "code",
   "execution_count": null,
   "metadata": {
    "collapsed": true
   },
   "outputs": [],
   "source": []
  }
 ],
 "metadata": {
  "kernelspec": {
   "display_name": "Python [Root]",
   "language": "python",
   "name": "Python [Root]"
  },
  "language_info": {
   "codemirror_mode": {
    "name": "ipython",
    "version": 2
   },
   "file_extension": ".py",
   "mimetype": "text/x-python",
   "name": "python",
   "nbconvert_exporter": "python",
   "pygments_lexer": "ipython2",
   "version": "2.7.12"
  }
 },
 "nbformat": 4,
 "nbformat_minor": 0
}

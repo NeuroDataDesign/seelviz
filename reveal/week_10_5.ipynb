{
 "cells": [
  {
   "cell_type": "markdown",
   "metadata": {},
   "source": [
    "# October 5, 2016\n",
    "## Deliverables\n",
    "\n",
    "### Individual Tasks:\n",
    " \n",
    "**Jon:**\n",
    "- [x] Complete pipeline and make Python package -> Pipeline code should be pip installable\n",
    "- [x] Provide evidence that the pipeline works\n",
    "- [x] Complete [documentation](https://github.com/NeuroDataDesign/seelviz/blob/gh-pages/Jupyter/ClarityViz%20Tutorial.ipynb) and organize Github repository \n",
    "\n",
    "**Luke:**\n",
    "- [x] Create [Docker](https://hub.docker.com/r/lkzhu1/ubuntu/) for pipeline with Albert once pipeline is complete \n",
    "\n",
    "**Tony:**\n",
    "- [x] Addressed Davi Bock's issue - made a [Jupyter Notebook containing a generalized Plotly plotting script](https://github.com/NeuroDataDesign/seelviz/blob/gh-pages/reveal/october5stuff/ChangingPlotlyColorByDensity.html).  Deliverable was to apply it to [Cocaine 174](https://neurodatadesign.github.io/seelviz/reveal/html/graphmlhtmls/Cocaine174localeq.5000.graphml.html) using ball size of 25, to color the voxels according to component size.  For cross referencing, made a heat map coded for each 5%; shown here is the corresponding [edge to color mapping for Cocaine 174](https://neurodatadesign.github.io/seelviz/reveal/html/graphmlhtmls/Cocaine174localeq.5000.graphmlheatmap.html).\n",
    "\n",
    "**Albert:**\n",
    "- [x] Create [Docker](https://hub.docker.com/r/lkzhu1/ubuntu/) for pipeline with Luke.\n",
    "- [x] Set up [package page](https://github.com/alee156/clviz) for prototype with installation instructions.  Build passes on travis-ci.\n",
    "\n",
    "---\n",
    "### Group Task for Albert, Luke, Tony:\n",
    "Show the 40,000 brightest points in registered space relative to the registered region.  Tasks as follows:\n",
    "\n",
    "**Albert:**\n",
    "- [x] Downsample or obtain atlas and one raw image so that they are less than 2 GB in size\n",
    "    - Learned from Kwame how to downsample effectively using \"spacing\".\n",
    "- [x] Write code for aligning atlas to the raw images instead of other way around:\n",
    "    - https://github.com/NeuroDataDesign/seelviz/blob/gh-pages/ReverseAlignmentDownsampled.ipynb\n",
    "    - https://github.com/NeuroDataDesign/seelviz/blob/gh-pages/albert/brainalign.py\n",
    "- [x] Write code used for resolution 5 images on server\n",
    "    - https://github.com/NeuroDataDesign/seelviz/blob/gh-pages/albert/brainalign.py\n",
    "\n",
    "Luke:\n",
    "- [x] Run code on resolution 5 images using server\n",
    "- [x] Create plotly plot representing each region of the brain as a different color\n",
    "- [x] Sum intensity in each region\n",
    "\n",
    "Tony:\n",
    "- [x] Create plotly plot of graphml network on\n",
    "    - Made a [Jupyter Notebook containing a generalized Plotly plotting script that plots using our preset configurations](https://github.com/NeuroDataDesign/seelviz/blob/gh-pages/Jupyter/PlotlyGraphMLOnly.ipynb).\n",
    "    - [New brain (100k)]()\n",
    "    - [Old brain (Control258) (40k nodes)]()\n",
    "- [x] Setup useable server and install all packages\n",
    "    - Used GoogleCloud free trial ($300 credit) and made the equivalent of an Amazon EC2 instance.\n",
    "    ![GoogleCloudPNG](october5stuff/googlecloudpng.png)\n",
    "    ![GoogleCloudSSH](october5stuff/sshgooglecloud.png)\n",
    "    - Example Docker usage below:"
   ]
  },
  {
   "cell_type": "raw",
   "metadata": {
    "collapsed": true
   },
   "source": [
    "tony_sun01@seelviz2:~$ sudo docker run -i -t lkzhu1/ubuntu:prototype1\n",
    "root@987cb12b40c2:/# ls\n",
    "OpenCV  boot   dev  home               itk  lib64  mnt    opt   root  sbin  sys  usr\n",
    "bin     build  etc  install-opencv.sh  lib  media  ndreg  proc  run   srv   tmp  var\n",
    "root@987cb12b40c2:/# python\n",
    "Python 2.7.12 (default, Jul  1 2016, 15:12:24) \n",
    "[GCC 5.4.0 20160609] on linux2\n",
    "Type \"help\", \"copyright\", \"credits\" or \"license\" for more information.\n",
    ">>> import ndreg\n",
    ">>> import ndio\n",
    ">>> import clarityviz"
   ]
  },
  {
   "cell_type": "code",
   "execution_count": null,
   "metadata": {
    "collapsed": true
   },
   "outputs": [],
   "source": []
  }
 ],
 "metadata": {
  "anaconda-cloud": {},
  "kernelspec": {
   "display_name": "Python [Root]",
   "language": "python",
   "name": "Python [Root]"
  },
  "language_info": {
   "codemirror_mode": {
    "name": "ipython",
    "version": 2
   },
   "file_extension": ".py",
   "mimetype": "text/x-python",
   "name": "python",
   "nbconvert_exporter": "python",
   "pygments_lexer": "ipython2",
   "version": "2.7.12"
  }
 },
 "nbformat": 4,
 "nbformat_minor": 0
}

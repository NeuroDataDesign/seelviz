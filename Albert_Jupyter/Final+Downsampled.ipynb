{
 "cells": [
  {
   "cell_type": "code",
   "execution_count": 1,
   "metadata": {
    "collapsed": true
   },
   "outputs": [],
   "source": [
    "%matplotlib inline"
   ]
  },
  {
   "cell_type": "code",
   "execution_count": 2,
   "metadata": {
    "collapsed": false
   },
   "outputs": [
    {
     "name": "stderr",
     "output_type": "stream",
     "text": [
      "/usr/lib/python2.7/dist-packages/matplotlib/__init__.py:1352: UserWarning:  This call to matplotlib.use() has no effect\n",
      "because the backend has already been chosen;\n",
      "matplotlib.use() must be called *before* pylab, matplotlib.pyplot,\n",
      "or matplotlib.backends is imported for the first time.\n",
      "\n",
      "  warnings.warn(_use_error_msg)\n"
     ]
    }
   ],
   "source": [
    "from dipy.reconst.dti import fractional_anisotropy, color_fa\n",
    "from argparse import ArgumentParser\n",
    "from scipy import ndimage\n",
    "import os\n",
    "import re\n",
    "import numpy as np\n",
    "import nibabel as nb\n",
    "import sys\n",
    "import matplotlib\n",
    "\n",
    "matplotlib.use('Agg')  # very important above pyplot import\n",
    "import matplotlib.pyplot as plt"
   ]
  },
  {
   "cell_type": "code",
   "execution_count": 3,
   "metadata": {
    "collapsed": false
   },
   "outputs": [
    {
     "name": "stdout",
     "output_type": "stream",
     "text": [
      "/root\n"
     ]
    }
   ],
   "source": [
    "cd"
   ]
  },
  {
   "cell_type": "code",
   "execution_count": 4,
   "metadata": {
    "collapsed": false,
    "scrolled": true
   },
   "outputs": [
    {
     "name": "stdout",
     "output_type": "stream",
     "text": [
      "Aut1367.nii              prototyping.ipynb\r\n",
      "Final Downsampled.ipynb  \u001b[0m\u001b[01;34mresult\u001b[0m/\r\n",
      "Final Notebook.ipynb     \u001b[01;35msample0.tiff\u001b[0m\r\n",
      "\u001b[01;34mTIFF_stack\u001b[0m/              \u001b[01;35msample1.tiff\u001b[0m\r\n",
      "Untitled-Copy1.ipynb     \u001b[01;35msample2.tiff\u001b[0m\r\n",
      "Untitled.ipynb           \u001b[01;35msample3.tiff\u001b[0m\r\n",
      "\u001b[01;34mbigtiff\u001b[0m/                 \u001b[01;34mseelviz\u001b[0m/\r\n",
      "final.ipynb              \u001b[01;31mtensor_rgb_upper.nii.gz\u001b[0m\r\n",
      "index.html               \u001b[01;34mtmp\u001b[0m/\r\n",
      "\u001b[01;34mminiTIFF\u001b[0m/                v100_ch0_tensorfsl_dogsig1_gausig2.3.nii\r\n",
      "pipeline.ipynb\r\n"
     ]
    }
   ],
   "source": [
    "ls"
   ]
  },
  {
   "cell_type": "code",
   "execution_count": 5,
   "metadata": {
    "collapsed": false
   },
   "outputs": [
    {
     "name": "stdout",
     "output_type": "stream",
     "text": [
      "/root/result\n"
     ]
    }
   ],
   "source": [
    "cd result"
   ]
  },
  {
   "cell_type": "code",
   "execution_count": 6,
   "metadata": {
    "collapsed": true
   },
   "outputs": [],
   "source": [
    "from dipy.reconst.dti import from_lower_triangular\n"
   ]
  },
  {
   "cell_type": "code",
   "execution_count": 9,
   "metadata": {
    "collapsed": false
   },
   "outputs": [
    {
     "name": "stdout",
     "output_type": "stream",
     "text": [
      "v100_ch0_tensordtk_dogsig1_gausig2.3_tensor.nii\r\n",
      "v100_ch0_tensorfsl_dogsig1_gausig2.3.nii\r\n"
     ]
    }
   ],
   "source": [
    "ls"
   ]
  },
  {
   "cell_type": "code",
   "execution_count": 10,
   "metadata": {
    "collapsed": false
   },
   "outputs": [],
   "source": [
    "img = nb.load('v100_ch0_tensorfsl_dogsig1_gausig2.3.nii')"
   ]
  },
  {
   "cell_type": "code",
   "execution_count": 11,
   "metadata": {
    "collapsed": true
   },
   "outputs": [],
   "source": [
    "data = img.get_data()\n"
   ]
  },
  {
   "cell_type": "code",
   "execution_count": 12,
   "metadata": {
    "collapsed": true
   },
   "outputs": [],
   "source": [
    "output = from_lower_triangular(data)"
   ]
  },
  {
   "cell_type": "code",
   "execution_count": 13,
   "metadata": {
    "collapsed": true
   },
   "outputs": [],
   "source": [
    "output_ds = output[4250:4300, 250:300, :, :, :]"
   ]
  },
  {
   "cell_type": "code",
   "execution_count": 14,
   "metadata": {
    "collapsed": false
   },
   "outputs": [
    {
     "name": "stdout",
     "output_type": "stream",
     "text": [
      "(92, 60, 6, 3, 3)\n",
      "(0, 0, 6, 3, 3)\n"
     ]
    }
   ],
   "source": [
    "\n",
    "print output.shape\n",
    "print output_ds.shape"
   ]
  },
  {
   "cell_type": "code",
   "execution_count": 15,
   "metadata": {
    "collapsed": true
   },
   "outputs": [],
   "source": [
    "FA = fractional_anisotropy(output_ds)"
   ]
  },
  {
   "cell_type": "code",
   "execution_count": 16,
   "metadata": {
    "collapsed": true
   },
   "outputs": [],
   "source": [
    "FA = np.clip(FA, 0, 1)"
   ]
  },
  {
   "cell_type": "code",
   "execution_count": 17,
   "metadata": {
    "collapsed": true
   },
   "outputs": [],
   "source": [
    "FA[np.isnan(FA)] = 0"
   ]
  },
  {
   "cell_type": "code",
   "execution_count": 18,
   "metadata": {
    "collapsed": false
   },
   "outputs": [
    {
     "name": "stdout",
     "output_type": "stream",
     "text": [
      "(0, 0, 6, 3)\n"
     ]
    }
   ],
   "source": [
    "\n",
    "print FA.shape"
   ]
  },
  {
   "cell_type": "code",
   "execution_count": 19,
   "metadata": {
    "collapsed": true
   },
   "outputs": [],
   "source": [
    "\n",
    "from dipy.reconst.dti import decompose_tensor"
   ]
  },
  {
   "cell_type": "code",
   "execution_count": 20,
   "metadata": {
    "collapsed": true
   },
   "outputs": [],
   "source": [
    "evalues, evectors = decompose_tensor(output_ds)"
   ]
  },
  {
   "cell_type": "code",
   "execution_count": 21,
   "metadata": {
    "collapsed": false
   },
   "outputs": [
    {
     "name": "stdout",
     "output_type": "stream",
     "text": [
      "(0, 0, 6)\n",
      "(3, 3)\n"
     ]
    }
   ],
   "source": [
    "print evectors[..., 0, 0].shape\n",
    "print evectors.shape[-2:]"
   ]
  },
  {
   "cell_type": "code",
   "execution_count": 22,
   "metadata": {
    "collapsed": false
   },
   "outputs": [
    {
     "name": "stdout",
     "output_type": "stream",
     "text": [
      "(0, 0, 6)\n"
     ]
    }
   ],
   "source": [
    "print FA[:, :, :, 0].shape"
   ]
  },
  {
   "cell_type": "code",
   "execution_count": 23,
   "metadata": {
    "collapsed": true
   },
   "outputs": [],
   "source": [
    "RGB = color_fa(FA[:, :, :, 0], evectors)"
   ]
  },
  {
   "cell_type": "code",
   "execution_count": 24,
   "metadata": {
    "collapsed": false
   },
   "outputs": [
    {
     "name": "stderr",
     "output_type": "stream",
     "text": [
      "/usr/local/lib/python2.7/dist-packages/ipykernel/__main__.py:1: DeprecationWarning: get_affine method is deprecated.\n",
      "Please use the ``img.affine`` property instead.\n",
      "\n",
      "* deprecated from version: 2.1\n",
      "* Will raise <class 'nibabel.deprecator.ExpiredDeprecationError'> as of version: 4.0\n",
      "  if __name__ == '__main__':\n"
     ]
    }
   ],
   "source": [
    "nb.save(nb.Nifti1Image(np.array(255 * RGB, 'uint8'), img.get_affine()), 'tensor_rgb_upper.nii.gz')\n"
   ]
  },
  {
   "cell_type": "code",
   "execution_count": 25,
   "metadata": {
    "collapsed": true
   },
   "outputs": [],
   "source": [
    "def plot_rgb(im):\n",
    "    plt.rcParams.update({'axes.labelsize': 'x-large',\n",
    "                         'axes.titlesize': 'x-large'})\n",
    "\n",
    "    if im.shape == (182, 218, 182):\n",
    "        x = [78, 90, 100]\n",
    "        y = [82, 107, 142]\n",
    "        z = [88, 103, 107]\n",
    "    else:\n",
    "        shap = im.shape\n",
    "        x = [int(shap[0]*0.35), int(shap[0]*0.51), int(shap[0]*0.65)]\n",
    "        y = [int(shap[1]*0.35), int(shap[1]*0.51), int(shap[1]*0.65)]\n",
    "        z = [int(shap[2]*0.35), int(shap[2]*0.51), int(shap[2]*0.65)]\n",
    "    coords = (x, y, z)\n",
    "\n",
    "    labs = ['Sagittal Slice (YZ fixed)',\n",
    "            'Coronal Slice (XZ fixed)',\n",
    "            'Axial Slice (XY fixed)']\n",
    "    var = ['X', 'Y', 'Z']\n",
    "\n",
    "    idx = 0\n",
    "    for i, coord in enumerate(coords):\n",
    "        for pos in coord:\n",
    "            idx += 1\n",
    "            ax = plt.subplot(3, 3, idx)\n",
    "            ax.set_title(var[i] + \" = \" + str(pos))\n",
    "            if i == 0:\n",
    "                image = ndimage.rotate(im[pos, :, :], 90)\n",
    "            elif i == 1:\n",
    "                image = ndimage.rotate(im[:, pos, :], 90)\n",
    "            else:\n",
    "                image = im[:, :, pos]\n",
    "\n",
    "            if idx % 3 == 1:\n",
    "                ax.set_ylabel(labs[i])\n",
    "                ax.yaxis.set_ticks([0, image.shape[0]/2, image.shape[0] - 1])\n",
    "                ax.xaxis.set_ticks([0, image.shape[1]/2, image.shape[1] - 1])\n",
    "\n",
    "            plt.imshow(image)\n",
    "\n",
    "    fig = plt.gcf()\n",
    "    fig.set_size_inches(12.5, 10.5, forward=True)\n",
    "    return fig"
   ]
  },
  {
   "cell_type": "code",
   "execution_count": 26,
   "metadata": {
    "collapsed": false,
    "scrolled": true
   },
   "outputs": [
    {
     "name": "stderr",
     "output_type": "stream",
     "text": [
      "/usr/local/lib/python2.7/dist-packages/ipykernel/__main__.py:1: DeprecationWarning: get_affine method is deprecated.\n",
      "Please use the ``img.affine`` property instead.\n",
      "\n",
      "* deprecated from version: 2.1\n",
      "* Will raise <class 'nibabel.deprecator.ExpiredDeprecationError'> as of version: 4.0\n",
      "  if __name__ == '__main__':\n"
     ]
    }
   ],
   "source": [
    "affine = img.get_affine()\n",
    "\n",
    "fa = nb.Nifti1Image(np.array(255 * RGB, 'uint8'), affine)\n",
    "im = fa.get_data()"
   ]
  },
  {
   "cell_type": "code",
   "execution_count": 27,
   "metadata": {
    "collapsed": false
   },
   "outputs": [
    {
     "name": "stdout",
     "output_type": "stream",
     "text": [
      "<class 'nibabel.nifti1.Nifti1Image'>\n",
      "data shape (0, 0, 6, 3)\n",
      "affine: \n",
      "[[ 1.  0.  0.  1.]\n",
      " [ 0.  1.  0.  1.]\n",
      " [ 0.  0.  1.  1.]\n",
      " [ 0.  0.  0.  1.]]\n",
      "metadata:\n",
      "<class 'nibabel.nifti1.Nifti1Header'> object, endian='<'\n",
      "sizeof_hdr      : 348\n",
      "data_type       : \n",
      "db_name         : \n",
      "extents         : 0\n",
      "session_error   : 0\n",
      "regular         : \n",
      "dim_info        : 0\n",
      "dim             : [4 0 0 6 3 1 1 1]\n",
      "intent_p1       : 0.0\n",
      "intent_p2       : 0.0\n",
      "intent_p3       : 0.0\n",
      "intent_code     : none\n",
      "datatype        : uint8\n",
      "bitpix          : 8\n",
      "slice_start     : 0\n",
      "pixdim          : [ 1.  1.  1.  1.  1.  1.  1.  1.]\n",
      "vox_offset      : 0.0\n",
      "scl_slope       : nan\n",
      "scl_inter       : nan\n",
      "slice_end       : 0\n",
      "slice_code      : unknown\n",
      "xyzt_units      : 0\n",
      "cal_max         : 0.0\n",
      "cal_min         : 0.0\n",
      "slice_duration  : 0.0\n",
      "toffset         : 0.0\n",
      "glmax           : 0\n",
      "glmin           : 0\n",
      "descrip         : \n",
      "aux_file        : \n",
      "qform_code      : unknown\n",
      "sform_code      : aligned\n",
      "quatern_b       : 0.0\n",
      "quatern_c       : 0.0\n",
      "quatern_d       : 0.0\n",
      "qoffset_x       : 1.0\n",
      "qoffset_y       : 1.0\n",
      "qoffset_z       : 1.0\n",
      "srow_x          : [ 1.  0.  0.  1.]\n",
      "srow_y          : [ 0.  1.  0.  1.]\n",
      "srow_z          : [ 0.  0.  1.  1.]\n",
      "intent_name     : \n",
      "magic           : n+1\n"
     ]
    }
   ],
   "source": [
    "print np.asarray(fa)"
   ]
  },
  {
   "cell_type": "code",
   "execution_count": 28,
   "metadata": {
    "collapsed": false
   },
   "outputs": [
    {
     "ename": "IndexError",
     "evalue": "index 0 is out of bounds for axis 0 with size 0",
     "output_type": "error",
     "traceback": [
      "\u001b[0;31m---------------------------------------------------------------------------\u001b[0m",
      "\u001b[0;31mIndexError\u001b[0m                                Traceback (most recent call last)",
      "\u001b[0;32m<ipython-input-28-6c150015cadc>\u001b[0m in \u001b[0;36m<module>\u001b[0;34m()\u001b[0m\n\u001b[0;32m----> 1\u001b[0;31m \u001b[0mfig\u001b[0m \u001b[0;34m=\u001b[0m \u001b[0mplot_rgb\u001b[0m\u001b[0;34m(\u001b[0m\u001b[0mim\u001b[0m\u001b[0;34m)\u001b[0m\u001b[0;34m\u001b[0m\u001b[0m\n\u001b[0m",
      "\u001b[0;32m<ipython-input-25-b5b7b0474def>\u001b[0m in \u001b[0;36mplot_rgb\u001b[0;34m(im)\u001b[0m\n\u001b[1;32m     26\u001b[0m             \u001b[0max\u001b[0m\u001b[0;34m.\u001b[0m\u001b[0mset_title\u001b[0m\u001b[0;34m(\u001b[0m\u001b[0mvar\u001b[0m\u001b[0;34m[\u001b[0m\u001b[0mi\u001b[0m\u001b[0;34m]\u001b[0m \u001b[0;34m+\u001b[0m \u001b[0;34m\" = \"\u001b[0m \u001b[0;34m+\u001b[0m \u001b[0mstr\u001b[0m\u001b[0;34m(\u001b[0m\u001b[0mpos\u001b[0m\u001b[0;34m)\u001b[0m\u001b[0;34m)\u001b[0m\u001b[0;34m\u001b[0m\u001b[0m\n\u001b[1;32m     27\u001b[0m             \u001b[0;32mif\u001b[0m \u001b[0mi\u001b[0m \u001b[0;34m==\u001b[0m \u001b[0;36m0\u001b[0m\u001b[0;34m:\u001b[0m\u001b[0;34m\u001b[0m\u001b[0m\n\u001b[0;32m---> 28\u001b[0;31m                 \u001b[0mimage\u001b[0m \u001b[0;34m=\u001b[0m \u001b[0mndimage\u001b[0m\u001b[0;34m.\u001b[0m\u001b[0mrotate\u001b[0m\u001b[0;34m(\u001b[0m\u001b[0mim\u001b[0m\u001b[0;34m[\u001b[0m\u001b[0mpos\u001b[0m\u001b[0;34m,\u001b[0m \u001b[0;34m:\u001b[0m\u001b[0;34m,\u001b[0m \u001b[0;34m:\u001b[0m\u001b[0;34m]\u001b[0m\u001b[0;34m,\u001b[0m \u001b[0;36m90\u001b[0m\u001b[0;34m)\u001b[0m\u001b[0;34m\u001b[0m\u001b[0m\n\u001b[0m\u001b[1;32m     29\u001b[0m             \u001b[0;32melif\u001b[0m \u001b[0mi\u001b[0m \u001b[0;34m==\u001b[0m \u001b[0;36m1\u001b[0m\u001b[0;34m:\u001b[0m\u001b[0;34m\u001b[0m\u001b[0m\n\u001b[1;32m     30\u001b[0m                 \u001b[0mimage\u001b[0m \u001b[0;34m=\u001b[0m \u001b[0mndimage\u001b[0m\u001b[0;34m.\u001b[0m\u001b[0mrotate\u001b[0m\u001b[0;34m(\u001b[0m\u001b[0mim\u001b[0m\u001b[0;34m[\u001b[0m\u001b[0;34m:\u001b[0m\u001b[0;34m,\u001b[0m \u001b[0mpos\u001b[0m\u001b[0;34m,\u001b[0m \u001b[0;34m:\u001b[0m\u001b[0;34m]\u001b[0m\u001b[0;34m,\u001b[0m \u001b[0;36m90\u001b[0m\u001b[0;34m)\u001b[0m\u001b[0;34m\u001b[0m\u001b[0m\n",
      "\u001b[0;31mIndexError\u001b[0m: index 0 is out of bounds for axis 0 with size 0"
     ]
    },
    {
     "data": {
      "image/png": "[encoded data removed]",
      "text/plain": [
       "<matplotlib.figure.Figure at 0x7f05c4e71f50>"
      ]
     },
     "metadata": {},
     "output_type": "display_data"
    }
   ],
   "source": [
    "fig = plot_rgb(im)"
   ]
  },
  {
   "cell_type": "code",
   "execution_count": 29,
   "metadata": {
    "collapsed": true
   },
   "outputs": [],
   "source": [
    "import os"
   ]
  },
  {
   "cell_type": "code",
   "execution_count": 43,
   "metadata": {
    "collapsed": false
   },
   "outputs": [
    {
     "name": "stdout",
     "output_type": "stream",
     "text": [
      "gradient_amplitudes.nii  \u001b[0m\u001b[01;35msample5.tiff\u001b[0m\r\n",
      "gradient_vectors.nii     slice_0dogsigma_0gausigma_0tensorfsl.nii\r\n",
      "\u001b[01;35msample0.tiff\u001b[0m             slice_1dogsigma_0gausigma_0tensorfsl.nii\r\n",
      "\u001b[01;35msample1.tiff\u001b[0m             slice_2dogsigma_0gausigma_0tensorfsl.nii\r\n",
      "\u001b[01;35msample2.tiff\u001b[0m             slice_3dogsigma_0gausigma_0tensorfsl.nii\r\n",
      "\u001b[01;35msample3.tiff\u001b[0m             slice_4dogsigma_0gausigma_0tensorfsl.nii\r\n",
      "\u001b[01;35msample4.tiff\u001b[0m             slice_5dogsigma_0gausigma_0tensorfsl.nii\r\n"
     ]
    }
   ],
   "source": [
    "ls"
   ]
  },
  {
   "cell_type": "code",
   "execution_count": 44,
   "metadata": {
    "collapsed": false
   },
   "outputs": [
    {
     "data": {
      "text/plain": [
       "<matplotlib.image.AxesImage at 0x7f05c4e0ba10>"
      ]
     },
     "execution_count": 44,
     "metadata": {},
     "output_type": "execute_result"
    },
    {
     "data": {
      "image/png": "[encoded data removed]",
      "text/plain": [
       "<matplotlib.figure.Figure at 0x7f05c4df6990>"
      ]
     },
     "metadata": {},
     "output_type": "display_data"
    }
   ],
   "source": [
    "from PIL import Image\n",
    "im = plt.imread('sample3.tiff') \n",
    "plt.imshow(im)"
   ]
  },
  {
   "cell_type": "code",
   "execution_count": null,
   "metadata": {
    "collapsed": true
   },
   "outputs": [],
   "source": []
  }
 ],
 "metadata": {
  "kernelspec": {
   "display_name": "Python 2",
   "language": "python",
   "name": "python2"
  },
  "language_info": {
   "codemirror_mode": {
    "name": "ipython",
    "version": 2
   },
   "file_extension": ".py",
   "mimetype": "text/x-python",
   "name": "python",
   "nbconvert_exporter": "python",
   "pygments_lexer": "ipython2",
   "version": "2.7.12"
  }
 },
 "nbformat": 4,
 "nbformat_minor": 1
}

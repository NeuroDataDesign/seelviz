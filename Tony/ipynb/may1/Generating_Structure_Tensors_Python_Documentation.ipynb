{
 "cells": [
  {
   "cell_type": "code",
   "execution_count": 1,
   "metadata": {},
   "outputs": [
    {
     "data": {
      "text/plain": [
       "<module 'tractography_latest' from 'tractography_latest.pyc'>"
      ]
     },
     "execution_count": 1,
     "metadata": {},
     "output_type": "execute_result"
    }
   ],
   "source": [
    "import tractography_latest as tract\n",
    "reload(tract)"
   ]
  },
  {
   "cell_type": "code",
   "execution_count": 2,
   "metadata": {
    "collapsed": true
   },
   "outputs": [],
   "source": [
    "##  Load TIFF stack (takes file path to a folder containing .tif or .tiff files)\n",
    "##  Note that all files should have the same name and only differ in numbering (where numbering corresponds\n",
    "##  to the z dimension).\n",
    "\n",
    "test = tract.tiff_stack_to_array('/home/tractography_test/CTT/demo/data/')"
   ]
  },
  {
   "cell_type": "code",
   "execution_count": 3,
   "metadata": {},
   "outputs": [
    {
     "name": "stdout",
     "output_type": "stream",
     "text": [
      "Start DoG Sigma on 1\n",
      "Start Gauss Sigma with gausigma = 0.5\n",
      "Generating Gaussian kernel...\n",
      "Blurring gradient products...\n",
      "Saving a copy for this Gaussian sigma...\n",
      "4374000\n",
      "4374000\n",
      "Completed computing structure tensor on test_data!\n"
     ]
    }
   ],
   "source": [
    "##  Generate FSL and DTK format .nii structure tensors.\n",
    "##  These can be used for visualizing the tracts.  Note that parameters used here were outlined in the\n",
    "##  original MATLAB documentation.\n",
    "\n",
    "fsl, dtk = tract.generate_FSL_and_DTK_structure_tensor(test, 'test_data', dogsigmaArr=[1], gausigmaArr=[0.5]);"
   ]
  },
  {
   "cell_type": "code",
   "execution_count": 4,
   "metadata": {
    "collapsed": true
   },
   "outputs": [],
   "source": [
    "##  Optional:  Generate a .nii.gz brain mask from TIF/TIFF stacks by saving a TIFF stack of a mask as a .nii.gz\n",
    "mask = tract.tiff_stack_to_nii('/home/tractography_test/CTT/demo/mask-brain/', 'brainmask')"
   ]
  },
  {
   "cell_type": "code",
   "execution_count": 5,
   "metadata": {
    "collapsed": true
   },
   "outputs": [],
   "source": [
    "##  Validation:  compare results of Python outputs wiht MATLAB demo outputs from:\n",
    "##  https://github.com/mcnablab/CTT/tree/master/demo\n",
    "\n",
    "import nibabel as nib\n",
    "MATLAB_output = nib.load(\"/home/tractography_test/CTT/demo/result/dog1gau0.5/dtk_tensor.nii.gz\")"
   ]
  },
  {
   "cell_type": "code",
   "execution_count": 6,
   "metadata": {
    "collapsed": true
   },
   "outputs": [],
   "source": [
    "MATLAB_np_array = MATLAB_output.get_data()"
   ]
  },
  {
   "cell_type": "code",
   "execution_count": 7,
   "metadata": {},
   "outputs": [
    {
     "name": "stdout",
     "output_type": "stream",
     "text": [
      "(90, 90, 90, 6)\n",
      "(90, 90, 90, 6)\n"
     ]
    }
   ],
   "source": [
    "##  Validate that dimensions of MATLAB/Python are the same:\n",
    "print dtk.shape\n",
    "print MATLAB_np_array.shape"
   ]
  },
  {
   "cell_type": "code",
   "execution_count": 8,
   "metadata": {
    "collapsed": true
   },
   "outputs": [],
   "source": [
    "##  Elementwise, compare values of dtk (Python output) and MATLAB_np_array at 1e-4 tolerance levels.\n",
    "\n",
    "import numpy as np\n",
    "truth_boolean = np.isclose(dtk, MATLAB_np_array, rtol = 1e-4)"
   ]
  },
  {
   "cell_type": "code",
   "execution_count": 9,
   "metadata": {},
   "outputs": [
    {
     "name": "stdout",
     "output_type": "stream",
     "text": [
      "4238655\n"
     ]
    }
   ],
   "source": [
    "##  Calculate the number of correct inputs\n",
    "\n",
    "correct_number = np.sum(truth_boolean == True);  # Total possible = 4,374,000\n",
    "print correct_number"
   ]
  },
  {
   "cell_type": "code",
   "execution_count": 10,
   "metadata": {},
   "outputs": [
    {
     "name": "stdout",
     "output_type": "stream",
     "text": [
      "0.969056927298\n"
     ]
    }
   ],
   "source": [
    "## Percentage correct (at the 1e-4 value)\n",
    "\n",
    "print correct_number / (4374000.0)"
   ]
  },
  {
   "cell_type": "code",
   "execution_count": null,
   "metadata": {
    "collapsed": true
   },
   "outputs": [],
   "source": []
  }
 ],
 "metadata": {
  "kernelspec": {
   "display_name": "Python 2",
   "language": "python",
   "name": "python2"
  },
  "language_info": {
   "codemirror_mode": {
    "name": "ipython",
    "version": 2
   },
   "file_extension": ".py",
   "mimetype": "text/x-python",
   "name": "python",
   "nbconvert_exporter": "python",
   "pygments_lexer": "ipython2",
   "version": "2.7.12"
  }
 },
 "nbformat": 4,
 "nbformat_minor": 2
}

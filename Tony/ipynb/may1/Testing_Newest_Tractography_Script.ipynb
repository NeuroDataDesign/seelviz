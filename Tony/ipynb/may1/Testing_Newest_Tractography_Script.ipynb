{
 "cells": [
  {
   "cell_type": "code",
   "execution_count": 74,
   "metadata": {},
   "outputs": [
    {
     "data": {
      "text/plain": [
       "<module 'tractography_latest' from 'tractography_latest.py'>"
      ]
     },
     "execution_count": 74,
     "metadata": {},
     "output_type": "execute_result"
    }
   ],
   "source": [
    "import tractography_latest as tract\n",
    "reload(tract)"
   ]
  },
  {
   "cell_type": "code",
   "execution_count": 2,
   "metadata": {},
   "outputs": [
    {
     "name": "stdout",
     "output_type": "stream",
     "text": [
      "(90, 90, 90)\n"
     ]
    }
   ],
   "source": [
    "test = tract.tiff_stack_to_array('/home/tractography_test/CTT/demo/data/')"
   ]
  },
  {
   "cell_type": "code",
   "execution_count": 41,
   "metadata": {
    "collapsed": true
   },
   "outputs": [],
   "source": [
    "from scipy import io"
   ]
  },
  {
   "cell_type": "code",
   "execution_count": 43,
   "metadata": {},
   "outputs": [],
   "source": [
    "stackmat = io.loadmat('stack_image.mat')"
   ]
  },
  {
   "cell_type": "code",
   "execution_count": 51,
   "metadata": {},
   "outputs": [],
   "source": [
    "np_stackmat = stackmat['stack']"
   ]
  },
  {
   "cell_type": "code",
   "execution_count": 52,
   "metadata": {},
   "outputs": [
    {
     "name": "stdout",
     "output_type": "stream",
     "text": [
      "(90, 90, 90)\n"
     ]
    }
   ],
   "source": [
    "print np_stackmat.shape"
   ]
  },
  {
   "cell_type": "code",
   "execution_count": 53,
   "metadata": {
    "collapsed": true
   },
   "outputs": [],
   "source": [
    "dogsigmaArr = [1]\n",
    "gausigmaArr = [0.5]\n",
    "img_data = np_stackmat"
   ]
  },
  {
   "cell_type": "code",
   "execution_count": 55,
   "metadata": {
    "collapsed": true
   },
   "outputs": [],
   "source": [
    "import os\n",
    "import numpy as np\n",
    "import math\n",
    "import SimpleITK as sitk\n",
    "from scipy import ndimage\n",
    "import nibabel as nib\n",
    "from PIL import Image\n",
    "import scipy.misc\n",
    "from scipy import signal"
   ]
  },
  {
   "cell_type": "code",
   "execution_count": 151,
   "metadata": {},
   "outputs": [
    {
     "name": "stdout",
     "output_type": "stream",
     "text": [
      "Start DoG Sigma on 1\n",
      "Start Gauss Sigma with gausigma = 0.5\n",
      "Generating Gaussian kernel...\n",
      "Blurring gradient products...\n"
     ]
    }
   ],
   "source": [
    "# Helper function similar to MATLAB\n",
    "def cropvol(vol, sz):\n",
    "    print np.size(vol);\n",
    "    vol[0:sz, :, :, :] = 0;\n",
    "    vol[-1-sz+1:-1, :, :, :] = 0;\n",
    "\n",
    "    vol[:, 0:sz, :, :] = 0;\n",
    "    vol[:, -1-sz+1:-1, :, :] = 0;\n",
    "\n",
    "    vol[:, :, 0:sz, :] = 0;\n",
    "    vol[:, :, -1-sz+1:-1, :] = 0;\n",
    "    return vol;\n",
    "\n",
    "for ii in range(len(dogsigmaArr)):\n",
    "    dogsigma = dogsigmaArr[ii];\n",
    "    print \"Start DoG Sigma on \" + str(dogsigma);\n",
    "\n",
    "    # Generate dog kernels\n",
    "    dogkercc = tract.doggen([dogsigma, dogsigma, dogsigma]);\n",
    "    dogkercc = np.transpose(dogkercc, (0, 2, 1));  # annoying\n",
    "\n",
    "    #print dogkercc.shape;\n",
    "    #print dogkercc[:, :, 0];\n",
    "\n",
    "    dogkerrr = np.transpose(dogkercc, (1, 0, 2));\n",
    "\n",
    "    #print dogkerrr[:, :, 0];\n",
    "    dogkerzz = np.transpose(dogkercc, (0, 2, 1));\n",
    "\n",
    "    #print dogkerzz[:, :, 0];\n",
    "\n",
    "    for jj in range(len(gausigmaArr)):\n",
    "        gausigma = gausigmaArr[jj];\n",
    "\n",
    "        print \"Start Gauss Sigma with gausigma = \" + str(gausigma);\n",
    "\n",
    "        print \"Generating Gaussian kernel...\"\n",
    "        gaussker = np.single(tract.gaussgen([gausigma, gausigma, gausigma]));\n",
    "\n",
    "        # Generate half size kernel\n",
    "        halfsz = (max(len(dogkercc), len(gaussker)) + 1) / 2;\n",
    "\n",
    "        # Compute gradients\n",
    "        grr = signal.convolve((img_data).astype('float64'), dogkerrr.astype('float64'), 'same');\n",
    "        grr.astype('float64');\n",
    "\n",
    "        #print grr[:, :, 0];\n",
    "\n",
    "        gcc = signal.convolve(img_data.astype('float64'), dogkercc.astype('float64'), 'same');\n",
    "        gcc.astype('float64');\n",
    "        \n",
    "        #print gcc[:, :, 0];\n",
    "\n",
    "        gzz = signal.convolve(img_data.astype('float64'), dogkerzz.astype('float64'), 'same');\n",
    "        gzz.astype('float64');\n",
    "        \n",
    "        #print gzz[:, :, 0];\n",
    "\n",
    "        # Compute gradient products\n",
    "        gprrrr = np.multiply(grr.astype('float64'), grr.astype('float64'));\n",
    "\n",
    "        #print gprrrr[:, :, 0];\n",
    "\n",
    "        gprrcc = np.multiply(grr.astype('float64'), gcc.astype('float64'));\n",
    "\n",
    "        #print gprrcc[:, :, 0];\n",
    "\n",
    "        gprrzz = np.multiply(grr.astype('float64'), gzz.astype('float64'));\n",
    "\n",
    "        #print gprrzz[:, :, 0]\n",
    "\n",
    "        gpcccc = np.multiply(gcc.astype('float64'), gcc.astype('float64'));\n",
    "        gpcczz = np.multiply(gcc.astype('float64'), gzz.astype('float64'));\n",
    "        gpzzzz = np.multiply(gzz.astype('float64'), gzz.astype('float64'));\n",
    "\n",
    "        # Compute gradient amplitudes\n",
    "        # print ga.dtype;\n",
    "        ga = np.sqrt(gprrrr.astype('float64') + gpcccc.astype('float64') + gpzzzz.astype('float64'));\n",
    "\n",
    "        #print ga[:, :, 0];\n",
    "\n",
    "        #print \"GA SHAPE:\"\n",
    "        #print ga.shape;\n",
    "\n",
    "        # Convert numpy ndarray object to Nifti data type\n",
    "        gradient_amplitudes_data = nib.Nifti1Image(ga, affine=np.eye(4));\n",
    "\n",
    "        # Save gradient amplitudes image \n",
    "        nib.save(gradient_amplitudes_data, 'gradient_amplitudes.nii.gz');\n",
    "\n",
    "        # Compute gradient vectors\n",
    "        gv = np.concatenate((grr[..., np.newaxis], gcc[..., np.newaxis], gzz[..., np.newaxis]), axis = 3);\n",
    "\n",
    "        #print gv[:, :, 0, 0];\n",
    "\n",
    "        gv = np.divide(gv, np.tile(ga[..., None], [1, 1, 1, 3]));\n",
    "        #print gv[:, :, 0, 1];\n",
    "\n",
    "        #print \"GV SHAPE:\"\n",
    "        #print gv.shape;\n",
    "\n",
    "        # Convert numpy ndarray object to Nifti data type\n",
    "        gradient_vectors_data = nib.Nifti1Image(gv, affine=np.eye(4));\n",
    "\n",
    "        # Save gradient vectors\n",
    "        nib.save(gradient_vectors_data, 'gradient_vectors.nii.gz');\n",
    "\n",
    "        #print gaussker[:, :, 0];\n",
    "\n",
    "        print \"Blurring gradient products...\"\n",
    "        gprrrrgauss = signal.convolve(gprrrr, gaussker, \"same\");\n",
    "\n",
    "        #print gprrrrgauss[:, :, 0];\n",
    "\n",
    "        gprrccgauss = signal.convolve(gprrcc, gaussker, \"same\");\n",
    "\n",
    "        #print gprrccgauss[:, :, 0];\n",
    "\n",
    "        gprrzzgauss = signal.convolve(gprrzz, gaussker, \"same\");\n",
    "        gpccccgauss = signal.convolve(gpcccc, gaussker, \"same\");\n",
    "        gpcczzgauss = signal.convolve(gpcczz, gaussker, \"same\");\n",
    "        gpzzzzgauss = signal.convolve(gpzzzz, gaussker, \"same\");"
   ]
  },
  {
   "cell_type": "code",
   "execution_count": 152,
   "metadata": {},
   "outputs": [
    {
     "name": "stdout",
     "output_type": "stream",
     "text": [
      "[[ 1485.11507547  2071.73673277  2242.19514136  2231.21226528\n",
      "   2169.71230573  2131.14860771  2144.21369722  2176.68696989\n",
      "   2210.57279593]\n",
      " [ 1985.86695562  2736.41284045  2949.17663432  2952.51391776\n",
      "   2891.66865107  2850.90696594  2872.23214105  2909.58229688  2960.2761203 ]\n",
      " [ 2060.58107332  2814.12897507  3039.44802461  3077.26715829\n",
      "   3053.30529088  3045.90199304  3100.81634788  3150.5784548   3177.63040656]\n",
      " [ 2073.56622628  2829.78147097  3056.06891825  3097.43817689\n",
      "   3091.36152156  3109.54591955  3190.40000762  3252.08834801\n",
      "   3251.24517476]\n",
      " [ 2130.08080015  2927.05164612  3159.52013257  3188.47020313\n",
      "   3185.27362037  3208.5941074   3267.64983135  3298.6687641   3275.93390289]\n",
      " [ 2228.88831947  3067.1149305   3298.35090291  3307.9474194   3299.17071263\n",
      "   3324.33459841  3357.36839937  3350.95429832  3311.70735126]\n",
      " [ 2308.37204562  3163.01676715  3379.63832411  3361.108583    3335.6039943\n",
      "   3356.3865674   3384.83489744  3371.01617981  3325.35337043]\n",
      " [ 2316.29184544  3156.58053412  3374.9471741   3367.04370847\n",
      "   3339.11090179  3351.6351212   3381.40275455  3362.4481369   3299.28833096]\n",
      " [ 2346.96310742  3176.0988678   3398.46561649  3418.55974069\n",
      "   3391.22225453  3384.13749402  3402.2695818   3373.58583597  3307.4256902 ]]\n"
     ]
    }
   ],
   "source": [
    "print gzz[0:9, 0:9, 0]"
   ]
  },
  {
   "cell_type": "code",
   "execution_count": 153,
   "metadata": {},
   "outputs": [
    {
     "name": "stdout",
     "output_type": "stream",
     "text": [
      "[[  2.15173330e+06   4.04055725e+06   4.56351136e+06   4.43245543e+06\n",
      "    4.19856142e+06   4.10161860e+06   4.18192796e+06   4.28695069e+06\n",
      "    4.48564628e+06]\n",
      " [  1.54011483e+05   2.22280424e+05   2.43727849e+05   2.98579537e+05\n",
      "    3.70143601e+05   4.49064983e+05   5.45307790e+05   6.17411084e+05\n",
      "    6.55960296e+05]\n",
      " [  4.53097026e+02   7.34753599e+03   7.30973297e+03   1.10006665e-01\n",
      "    1.12777496e+04   3.76819195e+04   7.81682866e+04   1.16215954e+05\n",
      "    9.65906621e+04]\n",
      " [  1.53561153e+04   2.59143472e+04   2.08638053e+04   2.16596706e+04\n",
      "    2.92778878e+04   2.52637317e+04   1.26041648e+04   7.89938422e+03\n",
      "    4.10927683e+03]\n",
      " [  4.57328284e+04   9.17728045e+04   8.61366133e+04   6.97908433e+04\n",
      "    6.35182012e+04   4.57404261e+04   1.14707138e+04   6.08465697e+01\n",
      "    1.00733437e+03]\n",
      " [  3.19573526e+04   5.98547181e+04   5.99779215e+04   4.10014865e+04\n",
      "    3.01603224e+04   2.66879858e+04   1.61957932e+04   4.65414661e+03\n",
      "    4.67616188e+02]\n",
      " [  1.39087445e+03   4.19281251e+03   8.67657577e+03   4.91650324e+03\n",
      "    1.07642589e+03   2.82610751e+02   1.74359730e+02   2.00757787e+02\n",
      "    3.81213892e+03]\n",
      " [  2.58923696e+01   1.14447428e+01   4.76188944e+02   2.33429039e+03\n",
      "    1.58966265e+03   9.04474122e+02   8.87559429e+02   6.65786643e+01\n",
      "    1.84533289e+02]\n",
      " [  1.46072631e+04   1.71689879e+04   1.25861829e+04   1.64014628e+04\n",
      "    1.54065448e+04   1.06595541e+04   7.33330466e+03   4.40978030e+03\n",
      "    6.49410839e+03]]\n"
     ]
    }
   ],
   "source": [
    "print gprrrr[0:9, 0:9, 0]"
   ]
  },
  {
   "cell_type": "code",
   "execution_count": 154,
   "metadata": {},
   "outputs": [
    {
     "name": "stdout",
     "output_type": "stream",
     "text": [
      "[[  1.46687876e+03   2.01011374e+03   2.13623766e+03   2.10533974e+03\n",
      "    2.04903915e+03   2.02524532e+03   2.04497627e+03   2.07049528e+03\n",
      "    2.11793444e+03]\n",
      " [  3.92442967e+02   4.71466249e+02   4.93688007e+02   5.46424319e+02\n",
      "    6.08394281e+02   6.70123110e+02   7.38449585e+02   7.85755104e+02\n",
      "    8.09913759e+02]\n",
      " [ -2.12860759e+01  -8.57177694e+01  -8.54969764e+01  -3.31672527e-01\n",
      "    1.06196749e+02   1.94118313e+02   2.79585920e+02   3.40904611e+02\n",
      "    3.10790383e+02]\n",
      " [  1.23919794e+02   1.60979338e+02   1.44443087e+02   1.47172248e+02\n",
      "    1.71107825e+02   1.58945688e+02   1.12268272e+02   8.88784801e+01\n",
      "    6.41036413e+01]\n",
      " [  2.13852352e+02   3.02940266e+02   2.93490397e+02   2.64179566e+02\n",
      "    2.52028175e+02   2.13870115e+02   1.07101418e+02   7.80042113e+00\n",
      "   -3.17385313e+01]\n",
      " [  1.78766195e+02   2.44652239e+02   2.44903903e+02   2.02488238e+02\n",
      "    1.73667275e+02   1.63364579e+02   1.27262694e+02   6.82213061e+01\n",
      "    2.16244350e+01]\n",
      " [  3.72944292e+01   6.47519306e+01   9.31481388e+01   7.01177812e+01\n",
      "    3.28089300e+01   1.68110306e+01   1.32045344e+01  -1.41689021e+01\n",
      "   -6.17425212e+01]\n",
      " [  5.08845454e+00  -3.38300795e+00   2.18217539e+01   4.83144946e+01\n",
      "    3.98705738e+01   3.00744763e+01   2.97919356e+01   8.15957501e+00\n",
      "   -1.35843030e+01]\n",
      " [  1.20860511e+02   1.31030485e+02   1.12188158e+02   1.28068196e+02\n",
      "    1.24123103e+02   1.03245116e+02   8.56347164e+01   6.64061767e+01\n",
      "    8.05860310e+01]]\n"
     ]
    }
   ],
   "source": [
    "print grr[0:9, 0:9, 0]"
   ]
  },
  {
   "cell_type": "code",
   "execution_count": 155,
   "metadata": {},
   "outputs": [
    {
     "name": "stdout",
     "output_type": "stream",
     "text": [
      "2149156\n"
     ]
    }
   ],
   "source": [
    "print (grr[0, 0, 0]).astype('uint64') * (grr[0, 0, 0]).astype('uint64')"
   ]
  },
  {
   "cell_type": "code",
   "execution_count": 156,
   "metadata": {},
   "outputs": [
    {
     "name": "stdout",
     "output_type": "stream",
     "text": [
      "[[ 2612.8196015   2961.13518089  3097.85110806  3069.48095848\n",
      "   2985.86917415  2939.97140158  2963.38837618  3004.22229509\n",
      "   3061.47940513]\n",
      " [ 2875.77077483  2892.05615444  2991.61191337  3004.60364415\n",
      "   2956.49730676  2928.72630394  2966.87474108  3014.30262477\n",
      "   3070.07025019]\n",
      " [ 2903.43193596  2921.34689306  3044.13612184  3077.27593834\n",
      "   3055.15187521  3054.20041696  3117.9468136   3170.01511581\n",
      "   3193.04530368]\n",
      " [ 2914.76618761  2932.52561153  3063.73643416  3101.48782674\n",
      "   3096.60349278  3116.78143871  3198.63046888  3254.59146452\n",
      "   3252.01568672]\n",
      " [ 3039.38264649  3043.08625672  3175.83830797  3199.88178341\n",
      "   3195.60999055  3216.46877697  3271.00008386  3299.07775982\n",
      "   3276.74735535]\n",
      " [ 3190.71121849  3180.95338043  3308.90999297  3314.23261642\n",
      "   3303.97161514  3328.44249674  3359.79400547  3351.68194005\n",
      "   3313.18737057]\n",
      " [ 3284.51240448  3274.12328293  3381.97318573  3361.92306859\n",
      "   3335.81469889  3356.465608    3384.89487159  3371.68017811\n",
      "   3328.47009419]\n",
      " [ 3286.07172738  3273.53220648  3376.82223653  3367.63889686\n",
      "   3339.35327422  3351.79459249  3381.60483196  3364.13775026\n",
      "   3302.95792352]\n",
      " [ 3320.32651681  3291.96354227  3402.92492812  3421.03900516\n",
      "   3393.55785055  3385.71809022  3403.55004628  3376.54596863\n",
      "   3311.26792958]]\n"
     ]
    }
   ],
   "source": [
    "print ga[0:9, 0:9, 0]"
   ]
  },
  {
   "cell_type": "code",
   "execution_count": 157,
   "metadata": {},
   "outputs": [
    {
     "name": "stdout",
     "output_type": "stream",
     "text": [
      "Start DoG Sigma on 1\n",
      "Start Gauss Sigma with gausigma = 0.5\n",
      "Generating Gaussian kernel...\n",
      "Blurring gradient products...\n",
      "Saving a copy for this Gaussian sigma...\n",
      "4374000\n",
      "4374000\n",
      "Completed computing structure tensor on test_data!\n"
     ]
    }
   ],
   "source": [
    "reload(tract)\n",
    "fsl, dtk = tract.generate_FSL_and_DTK_structure_tensor(np_stackmat, 'test_data', dogsigmaArr=[1], gausigmaArr=[0.5]);"
   ]
  },
  {
   "cell_type": "code",
   "execution_count": 9,
   "metadata": {},
   "outputs": [],
   "source": [
    "mask = tract.tiff_stack_to_nii('/home/tractography_test/CTT/demo/mask-brain/', 'brainmask')"
   ]
  },
  {
   "cell_type": "code",
   "execution_count": 120,
   "metadata": {
    "collapsed": true
   },
   "outputs": [],
   "source": [
    "import nibabel as nib\n",
    "MATLAB_output = nib.load(\"/home/tractography_test/CTT/demo/result/dog1gau0.5/dtk_tensor.nii.gz\")"
   ]
  },
  {
   "cell_type": "code",
   "execution_count": 121,
   "metadata": {
    "collapsed": true
   },
   "outputs": [],
   "source": [
    "MATLAB_np_array = MATLAB_output.get_data()"
   ]
  },
  {
   "cell_type": "code",
   "execution_count": 122,
   "metadata": {},
   "outputs": [
    {
     "name": "stdout",
     "output_type": "stream",
     "text": [
      "(90, 90, 90, 6)\n"
     ]
    }
   ],
   "source": [
    "print dtk.shape"
   ]
  },
  {
   "cell_type": "code",
   "execution_count": 158,
   "metadata": {},
   "outputs": [
    {
     "data": {
      "text/plain": [
       "array([[[      0.        ,       0.        ,       0.        , ...,\n",
       "               0.        ,       0.        ,       0.        ],\n",
       "        [      0.        ,       0.        ,       0.        , ...,\n",
       "               0.        ,       0.        ,       0.        ],\n",
       "        [      0.        ,       0.        ,       0.        , ...,\n",
       "               0.        ,       0.        ,       0.        ],\n",
       "        ..., \n",
       "        [      0.        ,       0.        ,       0.        , ...,\n",
       "               0.        ,       0.        ,       0.        ],\n",
       "        [      0.        ,       0.        ,       0.        , ...,\n",
       "               0.        ,       0.        ,       0.        ],\n",
       "        [      0.        ,       0.        ,       0.        , ...,\n",
       "               0.        ,       0.        ,       0.        ]],\n",
       "\n",
       "       [[      0.        ,       0.        ,       0.        , ...,\n",
       "               0.        ,       0.        ,       0.        ],\n",
       "        [      0.        ,       0.        ,       0.        , ...,\n",
       "               0.        ,       0.        ,       0.        ],\n",
       "        [      0.        ,       0.        ,       0.        , ...,\n",
       "               0.        ,       0.        ,       0.        ],\n",
       "        ..., \n",
       "        [      0.        ,       0.        ,       0.        , ...,\n",
       "               0.        ,       0.        ,       0.        ],\n",
       "        [      0.        ,       0.        ,       0.        , ...,\n",
       "               0.        ,       0.        ,       0.        ],\n",
       "        [      0.        ,       0.        ,       0.        , ...,\n",
       "               0.        ,       0.        ,       0.        ]],\n",
       "\n",
       "       [[      0.        ,       0.        ,       0.        , ...,\n",
       "               0.        ,       0.        ,       0.        ],\n",
       "        [      0.        ,       0.        ,       0.        , ...,\n",
       "               0.        ,       0.        ,       0.        ],\n",
       "        [      0.        ,       0.        ,       0.        , ...,\n",
       "               0.        ,       0.        ,       0.        ],\n",
       "        ..., \n",
       "        [      0.        ,       0.        ,       0.        , ...,\n",
       "               0.        ,       0.        ,       0.        ],\n",
       "        [      0.        ,       0.        ,       0.        , ...,\n",
       "               0.        ,       0.        ,       0.        ],\n",
       "        [      0.        ,       0.        ,       0.        , ...,\n",
       "               0.        ,       0.        ,       0.        ]],\n",
       "\n",
       "       ..., \n",
       "       [[      0.        ,       0.        ,       0.        , ...,\n",
       "               0.        ,       0.        ,       0.        ],\n",
       "        [      0.        ,       0.        ,       0.        , ...,\n",
       "               0.        ,       0.        ,       0.        ],\n",
       "        [      0.        ,       0.        ,       0.        , ...,\n",
       "               0.        ,       0.        ,       0.        ],\n",
       "        ..., \n",
       "        [      0.        ,       0.        ,       0.        , ...,\n",
       "               0.        ,       0.        ,       0.        ],\n",
       "        [      0.        ,       0.        ,       0.        , ...,\n",
       "               0.        ,       0.        ,       0.        ],\n",
       "        [      0.        ,       0.        ,       0.        , ...,\n",
       "               0.        ,       0.        ,       0.        ]],\n",
       "\n",
       "       [[      0.        ,       0.        ,       0.        , ...,\n",
       "               0.        ,       0.        ,       0.        ],\n",
       "        [      0.        ,       0.        ,       0.        , ...,\n",
       "               0.        ,       0.        ,       0.        ],\n",
       "        [      0.        ,       0.        ,       0.        , ...,\n",
       "               0.        ,       0.        ,       0.        ],\n",
       "        ..., \n",
       "        [      0.        ,       0.        ,       0.        , ...,\n",
       "               0.        ,       0.        ,       0.        ],\n",
       "        [      0.        ,       0.        ,       0.        , ...,\n",
       "               0.        ,       0.        ,       0.        ],\n",
       "        [      0.        ,       0.        ,       0.        , ...,\n",
       "               0.        ,       0.        ,       0.        ]],\n",
       "\n",
       "       [[      0.        ,       0.        ,       0.        , ...,\n",
       "               0.        ,       0.        ,       0.        ],\n",
       "        [      0.        ,       0.        ,       0.        , ...,\n",
       "               0.        ,       0.        ,       0.        ],\n",
       "        [      0.        ,       0.        ,       0.        , ...,\n",
       "               0.        ,       0.        ,       0.        ],\n",
       "        ..., \n",
       "        [      0.        ,       0.        ,       0.        , ...,\n",
       "               0.        ,       0.        ,       0.        ],\n",
       "        [      0.        ,       0.        ,       0.        , ...,\n",
       "               0.        ,       0.        ,       0.        ],\n",
       "        [      0.        ,       0.        ,       0.        , ...,\n",
       "               0.        ,       0.        ,  457659.61592722]]])"
      ]
     },
     "execution_count": 158,
     "metadata": {},
     "output_type": "execute_result"
    }
   ],
   "source": [
    "dtk[:, :, :, 0]"
   ]
  },
  {
   "cell_type": "code",
   "execution_count": 130,
   "metadata": {},
   "outputs": [
    {
     "data": {
      "text/plain": [
       "array([[[ 0.,  0.,  0., ...,  0.,  0.,  0.],\n",
       "        [ 0.,  0.,  0., ...,  0.,  0.,  0.],\n",
       "        [ 0.,  0.,  0., ...,  0.,  0.,  0.],\n",
       "        ..., \n",
       "        [ 0.,  0.,  0., ...,  0.,  0.,  0.],\n",
       "        [ 0.,  0.,  0., ...,  0.,  0.,  0.],\n",
       "        [ 0.,  0.,  0., ...,  0.,  0.,  0.]],\n",
       "\n",
       "       [[ 0.,  0.,  0., ...,  0.,  0.,  0.],\n",
       "        [ 0.,  0.,  0., ...,  0.,  0.,  0.],\n",
       "        [ 0.,  0.,  0., ...,  0.,  0.,  0.],\n",
       "        ..., \n",
       "        [ 0.,  0.,  0., ...,  0.,  0.,  0.],\n",
       "        [ 0.,  0.,  0., ...,  0.,  0.,  0.],\n",
       "        [ 0.,  0.,  0., ...,  0.,  0.,  0.]],\n",
       "\n",
       "       [[ 0.,  0.,  0., ...,  0.,  0.,  0.],\n",
       "        [ 0.,  0.,  0., ...,  0.,  0.,  0.],\n",
       "        [ 0.,  0.,  0., ...,  0.,  0.,  0.],\n",
       "        ..., \n",
       "        [ 0.,  0.,  0., ...,  0.,  0.,  0.],\n",
       "        [ 0.,  0.,  0., ...,  0.,  0.,  0.],\n",
       "        [ 0.,  0.,  0., ...,  0.,  0.,  0.]],\n",
       "\n",
       "       ..., \n",
       "       [[ 0.,  0.,  0., ...,  0.,  0.,  0.],\n",
       "        [ 0.,  0.,  0., ...,  0.,  0.,  0.],\n",
       "        [ 0.,  0.,  0., ...,  0.,  0.,  0.],\n",
       "        ..., \n",
       "        [ 0.,  0.,  0., ...,  0.,  0.,  0.],\n",
       "        [ 0.,  0.,  0., ...,  0.,  0.,  0.],\n",
       "        [ 0.,  0.,  0., ...,  0.,  0.,  0.]],\n",
       "\n",
       "       [[ 0.,  0.,  0., ...,  0.,  0.,  0.],\n",
       "        [ 0.,  0.,  0., ...,  0.,  0.,  0.],\n",
       "        [ 0.,  0.,  0., ...,  0.,  0.,  0.],\n",
       "        ..., \n",
       "        [ 0.,  0.,  0., ...,  0.,  0.,  0.],\n",
       "        [ 0.,  0.,  0., ...,  0.,  0.,  0.],\n",
       "        [ 0.,  0.,  0., ...,  0.,  0.,  0.]],\n",
       "\n",
       "       [[ 0.,  0.,  0., ...,  0.,  0.,  0.],\n",
       "        [ 0.,  0.,  0., ...,  0.,  0.,  0.],\n",
       "        [ 0.,  0.,  0., ...,  0.,  0.,  0.],\n",
       "        ..., \n",
       "        [ 0.,  0.,  0., ...,  0.,  0.,  0.],\n",
       "        [ 0.,  0.,  0., ...,  0.,  0.,  0.],\n",
       "        [ 0.,  0.,  0., ...,  0.,  0.,  0.]]], dtype=float32)"
      ]
     },
     "execution_count": 130,
     "metadata": {},
     "output_type": "execute_result"
    }
   ],
   "source": [
    "MATLAB_np_array[:, :, :, 0]"
   ]
  },
  {
   "cell_type": "code",
   "execution_count": 169,
   "metadata": {},
   "outputs": [],
   "source": [
    "import numpy as np\n",
    "truth_boolean = np.isclose(dtk, MATLAB_np_array, rtol = 1e-4)"
   ]
  },
  {
   "cell_type": "code",
   "execution_count": 170,
   "metadata": {},
   "outputs": [
    {
     "name": "stdout",
     "output_type": "stream",
     "text": [
      "(90, 90, 90, 6)\n"
     ]
    }
   ],
   "source": [
    "print MATLAB_np_array.shape"
   ]
  },
  {
   "cell_type": "code",
   "execution_count": 171,
   "metadata": {},
   "outputs": [
    {
     "name": "stdout",
     "output_type": "stream",
     "text": [
      "4238655\n"
     ]
    }
   ],
   "source": [
    "correct_number = np.sum(truth_boolean == True);  # Total possible = 4,374,000\n",
    "print correct_number"
   ]
  },
  {
   "cell_type": "code",
   "execution_count": 173,
   "metadata": {},
   "outputs": [
    {
     "name": "stdout",
     "output_type": "stream",
     "text": [
      "0.969056927298\n"
     ]
    }
   ],
   "source": [
    "## Percentage correct (at the 1e-4 value)\n",
    "print correct_number / (4374000.0)"
   ]
  },
  {
   "cell_type": "code",
   "execution_count": null,
   "metadata": {
    "collapsed": true
   },
   "outputs": [],
   "source": []
  }
 ],
 "metadata": {
  "kernelspec": {
   "display_name": "Python 2",
   "language": "python",
   "name": "python2"
  },
  "language_info": {
   "codemirror_mode": {
    "name": "ipython",
    "version": 2
   },
   "file_extension": ".py",
   "mimetype": "text/x-python",
   "name": "python",
   "nbconvert_exporter": "python",
   "pygments_lexer": "ipython2",
   "version": "2.7.12"
  }
 },
 "nbformat": 4,
 "nbformat_minor": 2
}

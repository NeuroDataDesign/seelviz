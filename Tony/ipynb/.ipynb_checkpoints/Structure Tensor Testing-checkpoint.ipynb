{
 "cells": [
  {
   "cell_type": "code",
   "execution_count": 2,
   "metadata": {
    "collapsed": true
   },
   "outputs": [],
   "source": [
    "## Following MATLAB code from http://capture-clarity.org/clarity-based-tractography/"
   ]
  },
  {
   "cell_type": "code",
   "execution_count": 4,
   "metadata": {
    "collapsed": true
   },
   "outputs": [],
   "source": [
    "import os"
   ]
  },
  {
   "cell_type": "code",
   "execution_count": 5,
   "metadata": {
    "collapsed": true
   },
   "outputs": [],
   "source": [
    "## Parameters (the script loops through all parameters and saves each result automatically)\n",
    "dogsigmaArr = [1];  # Sigma values for derivative of gaussian filter, recommended value: 0.6 - 1.3 (based on actual data)\n",
    "gausigmaArr = [2.3];  # Sigma values for gaussian filter, recommended value: 1.3 - 2.3 (based on actual data)\n",
    "angleArr = [25];  # Angle thresholds for fiber tracking, recommended value: 20 - 30"
   ]
  },
  {
   "cell_type": "code",
   "execution_count": 6,
   "metadata": {
    "collapsed": false
   },
   "outputs": [
    {
     "data": {
      "text/plain": [
       "u'/Users/Tony/Documents/Git Folder/seelviz/Tony/ipynb'"
      ]
     },
     "execution_count": 6,
     "metadata": {},
     "output_type": "execute_result"
    }
   ],
   "source": [
    "pwd"
   ]
  },
  {
   "cell_type": "code",
   "execution_count": 7,
   "metadata": {
    "collapsed": true
   },
   "outputs": [],
   "source": [
    "import numpy as np"
   ]
  },
  {
   "cell_type": "code",
   "execution_count": 8,
   "metadata": {
    "collapsed": true
   },
   "outputs": [],
   "source": [
    "import math\n",
    "from scipy import ndimage\n",
    "import nibabel as nib"
   ]
  },
  {
   "cell_type": "code",
   "execution_count": 9,
   "metadata": {
    "collapsed": true
   },
   "outputs": [],
   "source": [
    "## Change later on\n",
    "file_path = \"/Users/Tony/Documents/Git Folder/seelviz/Tony/ipynb/TIFF_stack\"\n",
    "directory = os.path.dirname(file_path)"
   ]
  },
  {
   "cell_type": "code",
   "execution_count": 10,
   "metadata": {
    "collapsed": false
   },
   "outputs": [
    {
     "name": "stdout",
     "output_type": "stream",
     "text": [
      "/Users/Tony/Documents/Git Folder/seelviz/Tony/ipynb/TIFF_stack\n"
     ]
    }
   ],
   "source": [
    "cd TIFF_stack/"
   ]
  },
  {
   "cell_type": "code",
   "execution_count": 112,
   "metadata": {
    "collapsed": true
   },
   "outputs": [],
   "source": [
    "from PIL import Image\n",
    "from numpy import matlib\n",
    "from scipy import signal"
   ]
  },
  {
   "cell_type": "code",
   "execution_count": 142,
   "metadata": {
    "collapsed": false
   },
   "outputs": [
    {
     "name": "stdout",
     "output_type": "stream",
     "text": [
      "100.0\n",
      "Start DoG Sigma on 1\n",
      "GA SHAPE:\n",
      "(10, 10, 10)\n",
      "GV SHAPE:\n",
      "(10, 10, 10, 3)\n",
      "Start Gauss Sigma with gausigma = 2.3\n",
      "Generating Gaussian kernel...\n",
      "Blurring gradient products...\n",
      "Saving a copy for this Gaussian sigma...\n",
      "Complete!\n"
     ]
    }
   ],
   "source": [
    "# Set up results directory\n",
    "if not os.path.exists(directory):\n",
    "    os.makedirs(directory)\n",
    "\n",
    "# im = Image.open('page1.tiff')  # Needs to be changed to dynamically go down list of fnDataArr (currently just loads same test image)\n",
    "# Omitted: channel data (red/green - our CLARITY data was single channel, so no channel data loaded.)\n",
    "img_data = np.single(100 * np.ones((10, 10, 10)));  #data is hard coded to be np.ones\n",
    "\n",
    "print img_data[0][0][0];\n",
    "\n",
    "for jj in range(len(dogsigmaArr)):\n",
    "    dogsigma = dogsigmaArr[jj];\n",
    "    print \"Start DoG Sigma on \" + str(dogsigma);\n",
    "\n",
    "    # Generate dog kernels\n",
    "    dogkercc = doggen([dogsigma, dogsigma, dogsigma]);\n",
    "    dogkercc = np.transpose(dogkercc1, (0, 1, 2));  # annoying\n",
    "\n",
    "    #print dogkercc.shape;\n",
    "    #print dogkercc[:, :, 0];\n",
    "    \n",
    "    dogkerrr = np.transpose(dogkercc, (1, 0, 2));\n",
    "    \n",
    "    #print dogkerrr[:, :, 0];\n",
    "    dogkerzz = np.transpose(dogkercc, (0, 2, 1));\n",
    "\n",
    "    #print dogkerzz[:, :, 0];\n",
    "    \n",
    "    # Compute gradients\n",
    "    grr = signal.fftconvolve(img_data, dogkercc, 'same');\n",
    "    grr = np.transpose(grr, (1, 0, 2));\n",
    "    \n",
    "    #print grr[:, :, 0];\n",
    "    \n",
    "    gcc = signal.fftconvolve(img_data, dogkerrr, 'same');\n",
    "    gcc = np.transpose(gcc, (1, 0, 2));\n",
    "    \n",
    "    #print gcc[:, :, 0];\n",
    "    \n",
    "    gzz = signal.fftconvolve(img_data, dogkerzz, 'same');\n",
    "    gzz = np.transpose(gzz, (1, 0, 2));\n",
    "    \n",
    "    #print gzz[:, :, 0];\n",
    "    \n",
    "    # Compute gradient products\n",
    "    gprrrr = np.multiply(grr, grr);\n",
    "    \n",
    "    #print gprrrr[:, :, 0];\n",
    "    \n",
    "    gprrcc = np.multiply(grr, gcc);\n",
    "    \n",
    "    #print gprrcc[:, :, 0];\n",
    "    \n",
    "    gprrzz = np.multiply(grr, gzz);\n",
    "    \n",
    "    #print gprrzz[:, :, 0]\n",
    "    \n",
    "    gpcccc = np.multiply(gcc, gcc);\n",
    "    gpcczz = np.multiply(gcc, gzz);\n",
    "    gpzzzz = np.multiply(gzz, gzz);\n",
    "\n",
    "    # Compute gradient amplitudes\n",
    "    #print ga.dtype;\n",
    "    ga = np.sqrt(gprrrr + gpcccc + gpzzzz);\n",
    "    \n",
    "    #print ga[:, :, 0];\n",
    "    \n",
    "    print \"GA SHAPE:\"\n",
    "    print ga.shape;\n",
    "\n",
    "    # Convert numpy ndarray object to Nifti data type\n",
    "    gradient_amplitudes_data = nib.Nifti1Image(ga, affine=np.eye(4));\n",
    "\n",
    "    # Save gradient amplitudes image \n",
    "    nib.save(gradient_amplitudes_data, 'gradient_amplitudes.nii');\n",
    "\n",
    "    # Compute gradient vectors\n",
    "    gv = np.concatenate((grr[..., np.newaxis], gcc[..., np.newaxis], gzz[..., np.newaxis]), axis = 3);\n",
    "    gv = np.divide(gv, np.tile(ga[..., None], [1, 1, 1, 3]));\n",
    "    #print gv[:, :, 0, 1];\n",
    "    \n",
    "    print \"GV SHAPE:\"\n",
    "    print gv.shape;\n",
    "    \n",
    "    # Convert numpy ndarray object to Nifti data type\n",
    "    gradient_vectors_data = nib.Nifti1Image(gv, affine=np.eye(4));\n",
    "\n",
    "    # Save gradient vectors\n",
    "    nib.save(gradient_vectors_data, 'gradient_vectors.nii');\n",
    "\n",
    "    # Compute structure tensor\n",
    "    for kk in range(len(gausigmaArr)):\n",
    "        gausigma = gausigmaArr[kk];\n",
    "        print \"Start Gauss Sigma with gausigma = \" + str(gausigma);\n",
    "\n",
    "        print \"Generating Gaussian kernel...\"\n",
    "        gaussker = np.single(gaussgen([gausigma, gausigma, gausigma]));\n",
    "        \n",
    "        #print gaussker[:, :, 0];\n",
    "\n",
    "        print \"Blurring gradient products...\"\n",
    "        gprrrrgauss = signal.fftconvolve(gprrrr, gaussker, \"same\");\n",
    "        \n",
    "        \n",
    "        gprrccgauss = signal.fftconvolve(gprrcc, gaussker, \"same\");\n",
    "        gprrzzgauss = signal.fftconvolve(gprrzz, gaussker, \"same\");\n",
    "        gpccccgauss = signal.fftconvolve(gpcccc, gaussker, \"same\");\n",
    "        gpcczzgauss = signal.fftconvolve(gpcczz, gaussker, \"same\");\n",
    "        gpzzzzgauss = signal.fftconvolve(gpzzzz, gaussker, \"same\");\n",
    "\n",
    "        print \"Saving a copy for this Gaussian sigma...\"\n",
    "        tensorfsl = np.concatenate((gprrrrgauss[..., np.newaxis], gprrccgauss[..., np.newaxis], gprrzzgauss[..., np.newaxis], gpccccgauss[..., np.newaxis], gpcczzgauss[..., np.newaxis], gpzzzzgauss[..., np.newaxis]), axis = 3);\n",
    "\n",
    "         # Convert numpy ndarray object to Nifti data type\n",
    "        tensor_fsl_data = nib.Nifti1Image(tensorfsl, affine=np.eye(4));\n",
    "\n",
    "        nib.save(tensor_fsl_data, \"dogsigma_\" + str(jj) + \"gausigma_\" + str(kk) + 'tensorfsl.nii');\n",
    "            \n",
    "print 'Complete!'"
   ]
  },
  {
   "cell_type": "code",
   "execution_count": 75,
   "metadata": {
    "collapsed": false
   },
   "outputs": [],
   "source": [
    "'''\n",
    "Function to generate derivatives of Gaussian kernels, in either 1D, 2D, or 3D.\n",
    "Source code in MATLAB obtained from Qiyuan Tian, Stanford University, September 2015\n",
    "Edited to work in Python by Tony\n",
    "'''\n",
    "\n",
    "def doggen(sigma):\n",
    "    halfsize = np.ceil(3 * np.max(sigma))\n",
    "    x = range(np.single(-halfsize), np.single(halfsize + 1));  # Python colon is not inclusive at end, while MATLAB is.\n",
    "    dim = len(sigma);\n",
    "    \n",
    "    if dim == 1:\n",
    "        X = np.array(x);  # Remember that, by default, numpy arrays are elementwise multiplicative\n",
    "        k = -X * np.exp(-X**2/(2 * sigma**2));\n",
    "        \n",
    "    elif dim == 2:\n",
    "        [X, Y] = np.meshgrid(x, x);\n",
    "        k = -X * np.exp(-X**2/(2*sigma[0]^2) * np.exp(-Y**2))\n",
    "        \n",
    "    elif dim == 3:\n",
    "        [X, Y, Z] = np.meshgrid(x, x, x);\n",
    "        X = X.transpose(0, 2, 1);  # Obtained through vigorous testing (see below...)\n",
    "        Y = Y.transpose(2, 0, 1);\n",
    "        Z = Z.transpose(2, 1, 0);\n",
    "        \n",
    "        X = X.astype(float);\n",
    "        Y = Y.astype(float);\n",
    "        Z = Z.astype(float);\n",
    "        k = -X * np.exp(np.divide(-np.power(X, 2), 2 * np.power(sigma[0], 2))) * np.exp(np.divide(-np.power(Y,2), 2 * np.power(sigma[1],2))) * np.exp(np.divide(-np.power(Z,2), 2 * np.power(sigma[2],2)))\n",
    "        \n",
    "    else:\n",
    "        print 'Only supports up to 3 dimensions'\n",
    "        \n",
    "    return np.divide(k, np.sum(np.abs(k[:])));"
   ]
  },
  {
   "cell_type": "code",
   "execution_count": 77,
   "metadata": {
    "collapsed": false
   },
   "outputs": [],
   "source": [
    "'''\n",
    "Function to generate Gaussian kernels, in 1D, 2D and 3D.\n",
    "Source code in MATLAB obtained from Qiyuan Tian, Stanford University, September 2015\n",
    "Edited to work in Python by Tony. \n",
    "'''\n",
    "\n",
    "def gaussgen(sigma):\n",
    "    halfsize = np.ceil(3 * max(sigma));\n",
    "    x = range(np.single(-halfsize), np.single(halfsize + 1));\n",
    "\n",
    "    dim = len(sigma);\n",
    "\n",
    "    if dim == 1:\n",
    "        k = np.exp(-x**2 / (2 * sigma^2));\n",
    "    \n",
    "    elif dim == 2:\n",
    "        [X, Y] = np.meshgrid(x, x);\n",
    "        k = np.exp(-X**2 / (2 * sigma[0]**2)) * np.exp(-Y**2 / (2 * sigma[1]**2)); \n",
    "    \n",
    "    elif dim == 3:\n",
    "        [X, Y, Z] = np.meshgrid(x, x, x);\n",
    "        X = X.transpose(0, 2, 1);  # Obtained through vigorous testing (see below...)\n",
    "        Y = Y.transpose(2, 0, 1);\n",
    "        Z = Z.transpose(2, 1, 0);\n",
    "        \n",
    "        X = X.astype(float);  # WHY PYTHON?\n",
    "        Y = Y.astype(float);\n",
    "        Z = Z.astype(float);\n",
    "        k = np.exp(-X**2 / (2 * sigma[0]**2)) * np.exp(-Y**2 / (2 * sigma[1]**2)) * np.exp(-Z**2 / (2 * sigma[2]**2));\n",
    "    \n",
    "    else:\n",
    "        print 'Only supports up to dimension 3'\n",
    "\n",
    "    return np.divide(k, np.sum(np.abs(k)));"
   ]
  },
  {
   "cell_type": "code",
   "execution_count": 143,
   "metadata": {
    "collapsed": false
   },
   "outputs": [
    {
     "name": "stdout",
     "output_type": "stream",
     "text": [
      "(10, 10, 10, 6)\n"
     ]
    }
   ],
   "source": [
    "## Compare tensor_fsl_data with imported values from MATLAB\n",
    "print tensorfsl.shape  # numpy"
   ]
  },
  {
   "cell_type": "code",
   "execution_count": 80,
   "metadata": {
    "collapsed": true
   },
   "outputs": [],
   "source": [
    "MATLAB_output = nib.load(\"/Users/Tony/Documents/Git Folder/seelviz/Tony/ipynb/test_MATLAB_10by10by10_outputs/dogsig1_gausig2.3/test_MATLAB_tensorfsl_dogsig1_gausig2.3.nii\")"
   ]
  },
  {
   "cell_type": "code",
   "execution_count": 81,
   "metadata": {
    "collapsed": false
   },
   "outputs": [
    {
     "name": "stdout",
     "output_type": "stream",
     "text": [
      "(10, 10, 10, 6)\n"
     ]
    }
   ],
   "source": [
    "print MATLAB_output.shape"
   ]
  },
  {
   "cell_type": "code",
   "execution_count": 97,
   "metadata": {
    "collapsed": false
   },
   "outputs": [
    {
     "name": "stdout",
     "output_type": "stream",
     "text": [
      "(10, 10, 10, 6)\n"
     ]
    }
   ],
   "source": [
    "MATLAB_np_array = MATLAB_output.get_data()\n",
    "print MATLAB_np_array.shape"
   ]
  },
  {
   "cell_type": "code",
   "execution_count": 145,
   "metadata": {
    "collapsed": false
   },
   "outputs": [
    {
     "name": "stdout",
     "output_type": "stream",
     "text": [
      "0\n"
     ]
    }
   ],
   "source": [
    "print np.sum(tensor_fsl_data.shape == MATLAB_output)"
   ]
  },
  {
   "cell_type": "code",
   "execution_count": 144,
   "metadata": {
    "collapsed": false
   },
   "outputs": [
    {
     "name": "stdout",
     "output_type": "stream",
     "text": [
      "136.849180423\n",
      "136.849\n"
     ]
    }
   ],
   "source": [
    "print tensorfsl[0, 1, 8, 5];\n",
    "print MATLAB_np_array[0, 1, 8, 5];"
   ]
  },
  {
   "cell_type": "code",
   "execution_count": 102,
   "metadata": {
    "collapsed": false
   },
   "outputs": [
    {
     "name": "stdout",
     "output_type": "stream",
     "text": [
      "[[  3.59647946e-07   2.92093928e-06   6.54537083e-06  -0.00000000e+00\n",
      "   -6.54537083e-06  -2.92093928e-06  -3.59647946e-07]\n",
      " [  4.38140893e-06   3.55843252e-05   7.97389406e-05  -0.00000000e+00\n",
      "   -7.97389406e-05  -3.55843252e-05  -4.38140893e-06]\n",
      " [  1.96361125e-05   1.59477881e-04   3.57365139e-04  -0.00000000e+00\n",
      "   -3.57365139e-04  -1.59477881e-04  -1.96361125e-05]\n",
      " [  3.23744763e-05   2.62934575e-04   5.89195506e-04  -0.00000000e+00\n",
      "   -5.89195506e-04  -2.62934575e-04  -3.23744763e-05]\n",
      " [  1.96361125e-05   1.59477881e-04   3.57365139e-04  -0.00000000e+00\n",
      "   -3.57365139e-04  -1.59477881e-04  -1.96361125e-05]\n",
      " [  4.38140893e-06   3.55843252e-05   7.97389406e-05  -0.00000000e+00\n",
      "   -7.97389406e-05  -3.55843252e-05  -4.38140893e-06]\n",
      " [  3.59647946e-07   2.92093928e-06   6.54537083e-06  -0.00000000e+00\n",
      "   -6.54537083e-06  -2.92093928e-06  -3.59647946e-07]]\n"
     ]
    }
   ],
   "source": [
    "dogkercc1 = doggen([dogsigma, dogsigma, dogsigma]);\n",
    "dogkercc1 = np.transpose(dogkercc1, (1, 2, 0))\n",
    "print dogkercc1[:, :, 0];\n",
    "\n",
    "\n",
    "dogkerrr1 = np.transpose(dogkercc1, (1, 0, 2));\n",
    "#print dogkerrr1[:, :, 0];\n"
   ]
  },
  {
   "cell_type": "code",
   "execution_count": null,
   "metadata": {
    "collapsed": true
   },
   "outputs": [],
   "source": []
  },
  {
   "cell_type": "code",
   "execution_count": 74,
   "metadata": {
    "collapsed": false
   },
   "outputs": [
    {
     "name": "stdout",
     "output_type": "stream",
     "text": [
      "int64\n",
      "float64\n",
      "[[[-4.5 -2.  -0.5 -0.  -0.5 -2.  -4.5]\n",
      "  [-4.5 -2.  -0.5 -0.  -0.5 -2.  -4.5]\n",
      "  [-4.5 -2.  -0.5 -0.  -0.5 -2.  -4.5]\n",
      "  [-4.5 -2.  -0.5 -0.  -0.5 -2.  -4.5]\n",
      "  [-4.5 -2.  -0.5 -0.  -0.5 -2.  -4.5]\n",
      "  [-4.5 -2.  -0.5 -0.  -0.5 -2.  -4.5]\n",
      "  [-4.5 -2.  -0.5 -0.  -0.5 -2.  -4.5]]\n",
      "\n",
      " [[-4.5 -2.  -0.5 -0.  -0.5 -2.  -4.5]\n",
      "  [-4.5 -2.  -0.5 -0.  -0.5 -2.  -4.5]\n",
      "  [-4.5 -2.  -0.5 -0.  -0.5 -2.  -4.5]\n",
      "  [-4.5 -2.  -0.5 -0.  -0.5 -2.  -4.5]\n",
      "  [-4.5 -2.  -0.5 -0.  -0.5 -2.  -4.5]\n",
      "  [-4.5 -2.  -0.5 -0.  -0.5 -2.  -4.5]\n",
      "  [-4.5 -2.  -0.5 -0.  -0.5 -2.  -4.5]]\n",
      "\n",
      " [[-4.5 -2.  -0.5 -0.  -0.5 -2.  -4.5]\n",
      "  [-4.5 -2.  -0.5 -0.  -0.5 -2.  -4.5]\n",
      "  [-4.5 -2.  -0.5 -0.  -0.5 -2.  -4.5]\n",
      "  [-4.5 -2.  -0.5 -0.  -0.5 -2.  -4.5]\n",
      "  [-4.5 -2.  -0.5 -0.  -0.5 -2.  -4.5]\n",
      "  [-4.5 -2.  -0.5 -0.  -0.5 -2.  -4.5]\n",
      "  [-4.5 -2.  -0.5 -0.  -0.5 -2.  -4.5]]\n",
      "\n",
      " [[-4.5 -2.  -0.5 -0.  -0.5 -2.  -4.5]\n",
      "  [-4.5 -2.  -0.5 -0.  -0.5 -2.  -4.5]\n",
      "  [-4.5 -2.  -0.5 -0.  -0.5 -2.  -4.5]\n",
      "  [-4.5 -2.  -0.5 -0.  -0.5 -2.  -4.5]\n",
      "  [-4.5 -2.  -0.5 -0.  -0.5 -2.  -4.5]\n",
      "  [-4.5 -2.  -0.5 -0.  -0.5 -2.  -4.5]\n",
      "  [-4.5 -2.  -0.5 -0.  -0.5 -2.  -4.5]]\n",
      "\n",
      " [[-4.5 -2.  -0.5 -0.  -0.5 -2.  -4.5]\n",
      "  [-4.5 -2.  -0.5 -0.  -0.5 -2.  -4.5]\n",
      "  [-4.5 -2.  -0.5 -0.  -0.5 -2.  -4.5]\n",
      "  [-4.5 -2.  -0.5 -0.  -0.5 -2.  -4.5]\n",
      "  [-4.5 -2.  -0.5 -0.  -0.5 -2.  -4.5]\n",
      "  [-4.5 -2.  -0.5 -0.  -0.5 -2.  -4.5]\n",
      "  [-4.5 -2.  -0.5 -0.  -0.5 -2.  -4.5]]\n",
      "\n",
      " [[-4.5 -2.  -0.5 -0.  -0.5 -2.  -4.5]\n",
      "  [-4.5 -2.  -0.5 -0.  -0.5 -2.  -4.5]\n",
      "  [-4.5 -2.  -0.5 -0.  -0.5 -2.  -4.5]\n",
      "  [-4.5 -2.  -0.5 -0.  -0.5 -2.  -4.5]\n",
      "  [-4.5 -2.  -0.5 -0.  -0.5 -2.  -4.5]\n",
      "  [-4.5 -2.  -0.5 -0.  -0.5 -2.  -4.5]\n",
      "  [-4.5 -2.  -0.5 -0.  -0.5 -2.  -4.5]]\n",
      "\n",
      " [[-4.5 -2.  -0.5 -0.  -0.5 -2.  -4.5]\n",
      "  [-4.5 -2.  -0.5 -0.  -0.5 -2.  -4.5]\n",
      "  [-4.5 -2.  -0.5 -0.  -0.5 -2.  -4.5]\n",
      "  [-4.5 -2.  -0.5 -0.  -0.5 -2.  -4.5]\n",
      "  [-4.5 -2.  -0.5 -0.  -0.5 -2.  -4.5]\n",
      "  [-4.5 -2.  -0.5 -0.  -0.5 -2.  -4.5]\n",
      "  [-4.5 -2.  -0.5 -0.  -0.5 -2.  -4.5]]]\n",
      "[[[ 0.03332699  0.27067057  0.60653066 -0.         -0.60653066 -0.27067057\n",
      "   -0.03332699]\n",
      "  [ 0.03332699  0.27067057  0.60653066 -0.         -0.60653066 -0.27067057\n",
      "   -0.03332699]\n",
      "  [ 0.03332699  0.27067057  0.60653066 -0.         -0.60653066 -0.27067057\n",
      "   -0.03332699]\n",
      "  [ 0.03332699  0.27067057  0.60653066 -0.         -0.60653066 -0.27067057\n",
      "   -0.03332699]\n",
      "  [ 0.03332699  0.27067057  0.60653066 -0.         -0.60653066 -0.27067057\n",
      "   -0.03332699]\n",
      "  [ 0.03332699  0.27067057  0.60653066 -0.         -0.60653066 -0.27067057\n",
      "   -0.03332699]\n",
      "  [ 0.03332699  0.27067057  0.60653066 -0.         -0.60653066 -0.27067057\n",
      "   -0.03332699]]\n",
      "\n",
      " [[ 0.03332699  0.27067057  0.60653066 -0.         -0.60653066 -0.27067057\n",
      "   -0.03332699]\n",
      "  [ 0.03332699  0.27067057  0.60653066 -0.         -0.60653066 -0.27067057\n",
      "   -0.03332699]\n",
      "  [ 0.03332699  0.27067057  0.60653066 -0.         -0.60653066 -0.27067057\n",
      "   -0.03332699]\n",
      "  [ 0.03332699  0.27067057  0.60653066 -0.         -0.60653066 -0.27067057\n",
      "   -0.03332699]\n",
      "  [ 0.03332699  0.27067057  0.60653066 -0.         -0.60653066 -0.27067057\n",
      "   -0.03332699]\n",
      "  [ 0.03332699  0.27067057  0.60653066 -0.         -0.60653066 -0.27067057\n",
      "   -0.03332699]\n",
      "  [ 0.03332699  0.27067057  0.60653066 -0.         -0.60653066 -0.27067057\n",
      "   -0.03332699]]\n",
      "\n",
      " [[ 0.03332699  0.27067057  0.60653066 -0.         -0.60653066 -0.27067057\n",
      "   -0.03332699]\n",
      "  [ 0.03332699  0.27067057  0.60653066 -0.         -0.60653066 -0.27067057\n",
      "   -0.03332699]\n",
      "  [ 0.03332699  0.27067057  0.60653066 -0.         -0.60653066 -0.27067057\n",
      "   -0.03332699]\n",
      "  [ 0.03332699  0.27067057  0.60653066 -0.         -0.60653066 -0.27067057\n",
      "   -0.03332699]\n",
      "  [ 0.03332699  0.27067057  0.60653066 -0.         -0.60653066 -0.27067057\n",
      "   -0.03332699]\n",
      "  [ 0.03332699  0.27067057  0.60653066 -0.         -0.60653066 -0.27067057\n",
      "   -0.03332699]\n",
      "  [ 0.03332699  0.27067057  0.60653066 -0.         -0.60653066 -0.27067057\n",
      "   -0.03332699]]\n",
      "\n",
      " [[ 0.03332699  0.27067057  0.60653066 -0.         -0.60653066 -0.27067057\n",
      "   -0.03332699]\n",
      "  [ 0.03332699  0.27067057  0.60653066 -0.         -0.60653066 -0.27067057\n",
      "   -0.03332699]\n",
      "  [ 0.03332699  0.27067057  0.60653066 -0.         -0.60653066 -0.27067057\n",
      "   -0.03332699]\n",
      "  [ 0.03332699  0.27067057  0.60653066 -0.         -0.60653066 -0.27067057\n",
      "   -0.03332699]\n",
      "  [ 0.03332699  0.27067057  0.60653066 -0.         -0.60653066 -0.27067057\n",
      "   -0.03332699]\n",
      "  [ 0.03332699  0.27067057  0.60653066 -0.         -0.60653066 -0.27067057\n",
      "   -0.03332699]\n",
      "  [ 0.03332699  0.27067057  0.60653066 -0.         -0.60653066 -0.27067057\n",
      "   -0.03332699]]\n",
      "\n",
      " [[ 0.03332699  0.27067057  0.60653066 -0.         -0.60653066 -0.27067057\n",
      "   -0.03332699]\n",
      "  [ 0.03332699  0.27067057  0.60653066 -0.         -0.60653066 -0.27067057\n",
      "   -0.03332699]\n",
      "  [ 0.03332699  0.27067057  0.60653066 -0.         -0.60653066 -0.27067057\n",
      "   -0.03332699]\n",
      "  [ 0.03332699  0.27067057  0.60653066 -0.         -0.60653066 -0.27067057\n",
      "   -0.03332699]\n",
      "  [ 0.03332699  0.27067057  0.60653066 -0.         -0.60653066 -0.27067057\n",
      "   -0.03332699]\n",
      "  [ 0.03332699  0.27067057  0.60653066 -0.         -0.60653066 -0.27067057\n",
      "   -0.03332699]\n",
      "  [ 0.03332699  0.27067057  0.60653066 -0.         -0.60653066 -0.27067057\n",
      "   -0.03332699]]\n",
      "\n",
      " [[ 0.03332699  0.27067057  0.60653066 -0.         -0.60653066 -0.27067057\n",
      "   -0.03332699]\n",
      "  [ 0.03332699  0.27067057  0.60653066 -0.         -0.60653066 -0.27067057\n",
      "   -0.03332699]\n",
      "  [ 0.03332699  0.27067057  0.60653066 -0.         -0.60653066 -0.27067057\n",
      "   -0.03332699]\n",
      "  [ 0.03332699  0.27067057  0.60653066 -0.         -0.60653066 -0.27067057\n",
      "   -0.03332699]\n",
      "  [ 0.03332699  0.27067057  0.60653066 -0.         -0.60653066 -0.27067057\n",
      "   -0.03332699]\n",
      "  [ 0.03332699  0.27067057  0.60653066 -0.         -0.60653066 -0.27067057\n",
      "   -0.03332699]\n",
      "  [ 0.03332699  0.27067057  0.60653066 -0.         -0.60653066 -0.27067057\n",
      "   -0.03332699]]\n",
      "\n",
      " [[ 0.03332699  0.27067057  0.60653066 -0.         -0.60653066 -0.27067057\n",
      "   -0.03332699]\n",
      "  [ 0.03332699  0.27067057  0.60653066 -0.         -0.60653066 -0.27067057\n",
      "   -0.03332699]\n",
      "  [ 0.03332699  0.27067057  0.60653066 -0.         -0.60653066 -0.27067057\n",
      "   -0.03332699]\n",
      "  [ 0.03332699  0.27067057  0.60653066 -0.         -0.60653066 -0.27067057\n",
      "   -0.03332699]\n",
      "  [ 0.03332699  0.27067057  0.60653066 -0.         -0.60653066 -0.27067057\n",
      "   -0.03332699]\n",
      "  [ 0.03332699  0.27067057  0.60653066 -0.         -0.60653066 -0.27067057\n",
      "   -0.03332699]\n",
      "  [ 0.03332699  0.27067057  0.60653066 -0.         -0.60653066 -0.27067057\n",
      "   -0.03332699]]]\n"
     ]
    }
   ],
   "source": [
    "sigma = [1, 1, 1]\n",
    "halfsize = 3;\n",
    "x = range(np.single(-halfsize), np.single(halfsize + 1));\n",
    "[X, Y, Z] = np.meshgrid(x, x, x);\n",
    "X = X.transpose(0, 2, 1);\n",
    "Y = Y.transpose(2, 0, 1);\n",
    "Z = Z.transpose(2, 1, 0);\n",
    "\n",
    "print X.dtype;\n",
    "X = X.astype(float);\n",
    "Y = Y.astype(float);\n",
    "Z = Z.astype(float);\n",
    "print X.dtype;\n",
    "\n",
    "print (-X **2) / (2 * np.power(sigma[0], 2))\n",
    "\n",
    "print -X * np.exp(np.divide(-X**2, 2 * np.power(sigma[0], 2)));"
   ]
  },
  {
   "cell_type": "code",
   "execution_count": null,
   "metadata": {
    "collapsed": true
   },
   "outputs": [],
   "source": []
  }
 ],
 "metadata": {
  "anaconda-cloud": {},
  "kernelspec": {
   "display_name": "Python [Root]",
   "language": "python",
   "name": "Python [Root]"
  },
  "language_info": {
   "codemirror_mode": {
    "name": "ipython",
    "version": 2
   },
   "file_extension": ".py",
   "mimetype": "text/x-python",
   "name": "python",
   "nbconvert_exporter": "python",
   "pygments_lexer": "ipython2",
   "version": "2.7.12"
  }
 },
 "nbformat": 4,
 "nbformat_minor": 0
}

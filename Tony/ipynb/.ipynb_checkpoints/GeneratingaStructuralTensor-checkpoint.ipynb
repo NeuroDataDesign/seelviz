{
 "cells": [
  {
   "cell_type": "code",
   "execution_count": 1,
   "metadata": {
    "collapsed": true
   },
   "outputs": [],
   "source": [
    "## Following MATLAB code from http://capture-clarity.org/clarity-based-tractography/"
   ]
  },
  {
   "cell_type": "code",
   "execution_count": 2,
   "metadata": {
    "collapsed": true
   },
   "outputs": [],
   "source": [
    "import os"
   ]
  },
  {
   "cell_type": "code",
   "execution_count": 3,
   "metadata": {
    "collapsed": true
   },
   "outputs": [],
   "source": [
    "## Parameters (the script loops through all parameters and saves each result automatically)\n",
    "dogsigmaArr = [1];  # Sigma values for derivative of gaussian filter, recommended value: 0.6 - 1.3 (based on actual data)\n",
    "gausigmaArr = [2.3];  # Sigma values for gaussian filter, recommended value: 1.3 - 2.3 (based on actual data)\n",
    "angleArr = [25];  # Angle thresholds for fiber tracking, recommended value: 20 - 30"
   ]
  },
  {
   "cell_type": "code",
   "execution_count": 4,
   "metadata": {
    "collapsed": false
   },
   "outputs": [
    {
     "data": {
      "text/plain": [
       "u'/Users/Tony/Documents/Git Folder/seelviz/Tony/ipynb'"
      ]
     },
     "execution_count": 4,
     "metadata": {},
     "output_type": "execute_result"
    }
   ],
   "source": [
    "pwd"
   ]
  },
  {
   "cell_type": "code",
   "execution_count": 5,
   "metadata": {
    "collapsed": true
   },
   "outputs": [],
   "source": [
    "import numpy as np"
   ]
  },
  {
   "cell_type": "code",
   "execution_count": 6,
   "metadata": {
    "collapsed": true
   },
   "outputs": [],
   "source": [
    "import math\n",
    "from scipy import ndimage\n",
    "import nibabel as nib"
   ]
  },
  {
   "cell_type": "code",
   "execution_count": 7,
   "metadata": {
    "collapsed": true
   },
   "outputs": [],
   "source": [
    "## Change later on\n",
    "file_path = \"/Users/Tony/Documents/Git Folder/seelviz/Tony/ipynb/TIFF_stack\"\n",
    "directory = os.path.dirname(file_path)"
   ]
  },
  {
   "cell_type": "code",
   "execution_count": 8,
   "metadata": {
    "collapsed": false
   },
   "outputs": [
    {
     "name": "stdout",
     "output_type": "stream",
     "text": [
      "/Users/Tony/Documents/Git Folder/seelviz/Tony/ipynb/TIFF_stack\n"
     ]
    }
   ],
   "source": [
    "cd TIFF_stack/"
   ]
  },
  {
   "cell_type": "code",
   "execution_count": 9,
   "metadata": {
    "collapsed": false
   },
   "outputs": [
    {
     "name": "stdout",
     "output_type": "stream",
     "text": [
      "1\n"
     ]
    }
   ],
   "source": [
    "print len([name for name in os.listdir('.') if os.path.isfile(name)])"
   ]
  },
  {
   "cell_type": "code",
   "execution_count": 10,
   "metadata": {
    "collapsed": true
   },
   "outputs": [],
   "source": [
    "fnDataArr = len([name for name in os.listdir('.') if os.path.isfile(name)])"
   ]
  },
  {
   "cell_type": "code",
   "execution_count": 11,
   "metadata": {
    "collapsed": true
   },
   "outputs": [],
   "source": [
    "from PIL import Image"
   ]
  },
  {
   "cell_type": "code",
   "execution_count": null,
   "metadata": {
    "collapsed": false
   },
   "outputs": [],
   "source": [
    "print \"Start Computing Structure Tensor\"\n",
    "\n",
    "for ii in range(fnDataArr):\n",
    "    \n",
    "    # Set up results directory\n",
    "    if not os.path.exists(directory):\n",
    "        os.makedirs(directory)\n",
    "        \n",
    "    im = Image.open('sample.tif')\n",
    "    # Omitted: channel data (red/green - our CLARITY data was single channel, no?)\n",
    "    img_data = np.asarray(im);\n",
    "    img = np.expand_dims(img_data, axis = 2);\n",
    "    \n",
    "    for jj in range(len(dogsigmaArr)):\n",
    "        dogsigma = dogsigmaArr[jj];\n",
    "        print \"Start DoG Sigma\"\n",
    "        \n",
    "        # Generate dog kernels\n",
    "        dogkercc = doggen([dogsigma, dogsigma, dogsigma]);\n",
    "        \n",
    "        dogkerrr = np.transpose(dogkercc, (1, 0, 2));\n",
    "        dogkerzz = np.transpose(dogkercc, (0, 2, 1));\n",
    "\n",
    "        # Compute gradients\n",
    "        grr = ndimage.convolve(img, dogkercc);\n",
    "        gcc = ndimage.convolve(img, dogkerrr);\n",
    "        gzz = ndimage.convolve(img, dogkerzz);\n",
    "        \n",
    "        # Compute gradient products\n",
    "        gprrrr = grr * grr;\n",
    "        gprrcc = grr * gcc;\n",
    "        gprrzz = grr * gzz;\n",
    "        gpcccc = gcc * gcc;\n",
    "        gpcczz = gcc * gzz;\n",
    "        gpzzzz = gzz * gzz;\n",
    "        \n",
    "        # Compute gradient amplitudes\n",
    "        ga = (gprrrr + gpcccc + gpzzzz)**(1/2);\n",
    "        \n",
    "        # Save gradient amplitudes image \n",
    "        nib.save(ga, os.path.join('build','gradient_amplitudes.nii'));\n",
    "        \n",
    "        # Compute gradient vectors\n",
    "        gv = np.concatenate(grr[:, np.newaxis], gcc[:, np.newaxis], gzz[:, np.newaxis], axis = 4);\n",
    "        \n",
    "        # Save gradient vectors\n",
    "        nib.save(gv, os.path.join('build', 'gradient_vectors.nii'));\n",
    "        \n",
    "        # Compute structure tensor\n",
    "        for kk in range(gausigmaArr):\n",
    "            gausigma = gausigmaArr[kk];\n",
    "            print \"Start Gauss Sigma\"\n",
    "            \n",
    "            # Generate Gaussian kernel\n",
    "            gaussker = gaussgen([gausigma, gausigma, gausigma]);\n",
    "            \n",
    "            # Blur gradient products\n",
    "            gprrrrgauss = ndimage.convolve(gprrrr, gaussker);\n",
    "            gprrccgauss = ndimage.convolve(gprrcc, gaussker);\n",
    "            gprrzzgauss = ndimage.convolve(gprrzz, gaussker);\n",
    "            gpccccgauss = ndimage.convolve(gpcccc, gaussker);\n",
    "            gpcczzgauss = ndimage.convolve(gpcczz, gaussker);\n",
    "            gpzzzzgauss = ndimage.convolve(gpzzzz, gaussker);\n",
    "            \n",
    "            # ?? why is this in the for loop?\n",
    "            tensorfsl = np.concatenate(gprrrrgauss[:, np.newaxis], gprrccgauss[:, np.newaxis], gprrzzgauss[:, np.newaxis], gpccccgauss[:, np.newaxis], gpcczzgauss[:, np.newaxis], gpzzzzgauss[:, np.newaxis], axis = 4);\n",
    "            nib.save(tensorfsl, os.path.join('build', kk + 'tensorfsl.nii'));\n",
    "            \n",
    "print 'Complete!'"
   ]
  },
  {
   "cell_type": "code",
   "execution_count": 14,
   "metadata": {
    "collapsed": false
   },
   "outputs": [
    {
     "name": "stdout",
     "output_type": "stream",
     "text": [
      "[1, 1, 1]\n",
      "(7, 7, 7)\n"
     ]
    }
   ],
   "source": [
    "dogsigma = 1;\n",
    "dogkercc1 = doggen([dogsigma, dogsigma, dogsigma]);\n",
    "print dogkercc1.shape"
   ]
  },
  {
   "cell_type": "code",
   "execution_count": 15,
   "metadata": {
    "collapsed": false
   },
   "outputs": [],
   "source": [
    "dogkerrr1 = np.transpose(dogkercc1, (1, 0, 2));"
   ]
  },
  {
   "cell_type": "code",
   "execution_count": 17,
   "metadata": {
    "collapsed": false
   },
   "outputs": [
    {
     "name": "stdout",
     "output_type": "stream",
     "text": [
      "(2100, 1600, 1)\n"
     ]
    }
   ],
   "source": [
    "im = Image.open('sample.tif')\n",
    "# Omitted: channel data (red/green - our CLARITY data was single channel, no?)\n",
    "img_data = np.asarray(im);\n",
    "img = np.expand_dims(img_data, axis = 2);\n",
    "print img.shape"
   ]
  },
  {
   "cell_type": "code",
   "execution_count": null,
   "metadata": {
    "collapsed": false
   },
   "outputs": [],
   "source": [
    "grr = ndimage.convolve(img, dogkercc1);\n"
   ]
  },
  {
   "cell_type": "code",
   "execution_count": 12,
   "metadata": {
    "collapsed": false
   },
   "outputs": [],
   "source": [
    "'''\n",
    "Function to generate derivatives of Gaussian kernels, in either 1D, 2D, or 3D.\n",
    "Source code in MATLAB obtained from Qiyuan Tian, Stanford University, September 2015\n",
    "Edited to work in Python by Tony\n",
    "'''\n",
    "\n",
    "def doggen(sigma):\n",
    "    halfsize = np.ceil(3 * max(sigma))\n",
    "    x = range(np.single(-halfsize), np.single(halfsize + 1));  # Python colon is not inclusive at end, while MATLAB is.\n",
    "    dim = len(sigma);\n",
    "    print sigma\n",
    "    \n",
    "    if dim == 1:\n",
    "        try:\n",
    "            X\n",
    "        except NameError:\n",
    "            print 'X already defined!'\n",
    "        else:\n",
    "            X = np.array(x);  # Remember that, by default, numpy arrays are elementwise multiplicative\n",
    "            return -X * np.exp(-X^2/(2 * sigma^2));\n",
    "        \n",
    "    elif dim == 2:\n",
    "        [X, Y] = np.meshgrid(x, x);\n",
    "        return -X * np.exp(-X^2/(2*sigma[0]^2) * np.exp(-Y^2))\n",
    "        \n",
    "    elif dim == 3:\n",
    "        [X, Y, Z] = np.meshgrid(x, x, x);\n",
    "        return X * np.exp(np.divide(-X**2, 2 * sigma[0]**2)) * np.exp(np.divide(-Y**2, 2 * sigma[1]**2)) * np.exp(np.divide(-Z**2, 2 * sigma[2]**2))\n",
    "        \n",
    "    else:\n",
    "        print 'Only supports up to 3 dimensions'\n",
    "    "
   ]
  },
  {
   "cell_type": "code",
   "execution_count": null,
   "metadata": {
    "collapsed": true
   },
   "outputs": [],
   "source": []
  },
  {
   "cell_type": "code",
   "execution_count": 13,
   "metadata": {
    "collapsed": false
   },
   "outputs": [],
   "source": [
    "'''\n",
    "Function to generate Gaussian kernels, in 1D, 2D and 3D.\n",
    "Source code in MATLAB obtained from Qiyuan Tian, Stanford University, September 2015\n",
    "Edited to work in Python by Tony. \n",
    "'''\n",
    "\n",
    "def gaussgen(sigma):\n",
    "    halfsize = np.ceil(3 * max(sigma));\n",
    "    x = range(-halfsize, halfsize + 1);\n",
    "\n",
    "    dim = len(sigma);\n",
    "\n",
    "    if dim == 1:\n",
    "        k = math.exp(-x^2 / (2 * sigma^2));\n",
    "    \n",
    "    elif dim == 2:\n",
    "        [X, Y] = meshgrid(x, x);\n",
    "        k = math.exp(-X^2 / (2 * sigma(1)^2)) * math.exp(-Y^2 / (2 * sigma(2)^2)); \n",
    "    \n",
    "    elif dim == 3:\n",
    "        [X, Y, Z] = meshgrid(x, x, x);\n",
    "        k = math.exp(-X^2 / (2 * sigma(1)^2)) * math.exp(-Y^2 / (2 * sigma(2)^2)) * math.exp(-Z^2 / (2 * sigma(3)^2));\n",
    "    \n",
    "    else:\n",
    "        print 'Only supports up to dimension 3'\n",
    "\n",
    "    return k / sum(abs(k));\n"
   ]
  }
 ],
 "metadata": {
  "kernelspec": {
   "display_name": "Python [Root]",
   "language": "python",
   "name": "Python [Root]"
  },
  "language_info": {
   "codemirror_mode": {
    "name": "ipython",
    "version": 2
   },
   "file_extension": ".py",
   "mimetype": "text/x-python",
   "name": "python",
   "nbconvert_exporter": "python",
   "pygments_lexer": "ipython2",
   "version": "2.7.12"
  }
 },
 "nbformat": 4,
 "nbformat_minor": 0
}

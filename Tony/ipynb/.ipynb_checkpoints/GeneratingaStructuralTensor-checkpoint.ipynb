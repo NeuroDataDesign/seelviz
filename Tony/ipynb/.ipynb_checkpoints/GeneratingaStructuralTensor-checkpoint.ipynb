{
 "cells": [
  {
   "cell_type": "code",
   "execution_count": 2,
   "metadata": {
    "collapsed": true
   },
   "outputs": [],
   "source": [
    "## Following MATLAB code from http://capture-clarity.org/clarity-based-tractography/"
   ]
  },
  {
   "cell_type": "code",
   "execution_count": 3,
   "metadata": {
    "collapsed": true
   },
   "outputs": [],
   "source": [
    "import os"
   ]
  },
  {
   "cell_type": "code",
   "execution_count": 4,
   "metadata": {
    "collapsed": true
   },
   "outputs": [],
   "source": [
    "## Parameters (the script loops through all parameters and saves each result automatically)\n",
    "dogsigmaArr = [1];  # Sigma values for derivative of gaussian filter, recommended value: 0.6 - 1.3 (based on actual data)\n",
    "gausigmaArr = [2.3];  # Sigma values for gaussian filter, recommended value: 1.3 - 2.3 (based on actual data)\n",
    "angleArr = [25];  # Angle thresholds for fiber tracking, recommended value: 20 - 30"
   ]
  },
  {
   "cell_type": "code",
   "execution_count": 5,
   "metadata": {
    "collapsed": false
   },
   "outputs": [
    {
     "data": {
      "text/plain": [
       "u'/Users/Tony/Documents/Git Folder/seelviz/Tony/ipynb'"
      ]
     },
     "execution_count": 5,
     "metadata": {},
     "output_type": "execute_result"
    }
   ],
   "source": [
    "pwd"
   ]
  },
  {
   "cell_type": "code",
   "execution_count": 6,
   "metadata": {
    "collapsed": true
   },
   "outputs": [],
   "source": [
    "import numpy as np"
   ]
  },
  {
   "cell_type": "code",
   "execution_count": 7,
   "metadata": {
    "collapsed": true
   },
   "outputs": [],
   "source": [
    "import math\n",
    "from scipy import ndimage\n",
    "import nibabel as nib"
   ]
  },
  {
   "cell_type": "code",
   "execution_count": 8,
   "metadata": {
    "collapsed": true
   },
   "outputs": [],
   "source": [
    "## Change later on\n",
    "file_path = \"/Users/Tony/Documents/Git Folder/seelviz/Tony/ipynb/TIFF_stack\"\n",
    "directory = os.path.dirname(file_path)"
   ]
  },
  {
   "cell_type": "code",
   "execution_count": 9,
   "metadata": {
    "collapsed": false
   },
   "outputs": [
    {
     "name": "stdout",
     "output_type": "stream",
     "text": [
      "/Users/Tony/Documents/Git Folder/seelviz/Tony/ipynb/TIFF_stack\n"
     ]
    }
   ],
   "source": [
    "cd TIFF_stack/"
   ]
  },
  {
   "cell_type": "code",
   "execution_count": 10,
   "metadata": {
    "collapsed": false
   },
   "outputs": [
    {
     "name": "stdout",
     "output_type": "stream",
     "text": [
      "9\n"
     ]
    }
   ],
   "source": [
    "print len([name for name in os.listdir('.') if os.path.isfile(name)])"
   ]
  },
  {
   "cell_type": "code",
   "execution_count": 11,
   "metadata": {
    "collapsed": true
   },
   "outputs": [],
   "source": [
    "from PIL import Image\n",
    "from scipy import signal "
   ]
  },
  {
   "cell_type": "code",
   "execution_count": 21,
   "metadata": {
    "collapsed": true
   },
   "outputs": [],
   "source": [
    "'''\n",
    "Function to generate derivatives of Gaussian kernels, in either 1D, 2D, or 3D.\n",
    "Source code in MATLAB obtained from Qiyuan Tian, Stanford University, September 2015\n",
    "Edited to work in Python by Tony.\n",
    "'''\n",
    "\n",
    "def doggen(sigma):\n",
    "    halfsize = np.ceil(3 * np.max(sigma))\n",
    "    x = range(np.single(-halfsize), np.single(halfsize + 1));  # Python colon is not inclusive at end, while MATLAB is.\n",
    "    dim = len(sigma);\n",
    "    \n",
    "    if dim == 1:\n",
    "        X = np.array(x);  # Remember that, by default, numpy arrays are elementwise multiplicative\n",
    "        k = -X * np.exp(-X**2/(2 * sigma**2));\n",
    "        \n",
    "    elif dim == 2:\n",
    "        [X, Y] = np.meshgrid(x, x);\n",
    "        k = -X * np.exp(-X**2/(2*sigma[0]^2) * np.exp(-Y**2))\n",
    "        \n",
    "    elif dim == 3:\n",
    "        [X, Y, Z] = np.meshgrid(x, x, x);\n",
    "        X = X.transpose(0, 2, 1);  # Obtained through vigorous testing (see below...)\n",
    "        Y = Y.transpose(2, 0, 1);\n",
    "        Z = Z.transpose(2, 1, 0);\n",
    "        \n",
    "        X = X.astype(float);\n",
    "        Y = Y.astype(float);\n",
    "        Z = Z.astype(float);\n",
    "        k = -X * np.exp(np.divide(-np.power(X, 2), 2 * np.power(sigma[0], 2))) * np.exp(np.divide(-np.power(Y,2), 2 * np.power(sigma[1],2))) * np.exp(np.divide(-np.power(Z,2), 2 * np.power(sigma[2],2)))\n",
    "        \n",
    "    else:\n",
    "        print 'Only supports up to 3 dimensions'\n",
    "        \n",
    "    return np.divide(k, np.sum(np.abs(k[:])));"
   ]
  },
  {
   "cell_type": "code",
   "execution_count": 22,
   "metadata": {
    "collapsed": true
   },
   "outputs": [],
   "source": [
    "'''\n",
    "Function to generate Gaussian kernels, in 1D, 2D and 3D.\n",
    "Source code in MATLAB obtained from Qiyuan Tian, Stanford University, September 2015\n",
    "Edited to work in Python by Tony. \n",
    "'''\n",
    "\n",
    "def gaussgen(sigma):\n",
    "    halfsize = np.ceil(3 * max(sigma));\n",
    "    x = range(np.single(-halfsize), np.single(halfsize + 1));\n",
    "\n",
    "    dim = len(sigma);\n",
    "\n",
    "    if dim == 1:\n",
    "        k = np.exp(-x**2 / (2 * sigma^2));\n",
    "    \n",
    "    elif dim == 2:\n",
    "        [X, Y] = np.meshgrid(x, x);\n",
    "        k = np.exp(-X**2 / (2 * sigma[0]**2)) * np.exp(-Y**2 / (2 * sigma[1]**2)); \n",
    "    \n",
    "    elif dim == 3:\n",
    "        [X, Y, Z] = np.meshgrid(x, x, x);\n",
    "        X = X.transpose(0, 2, 1);  # Obtained through vigorous testing (see below...)\n",
    "        Y = Y.transpose(2, 0, 1);\n",
    "        Z = Z.transpose(2, 1, 0);\n",
    "        \n",
    "        X = X.astype(float);  # WHY PYTHON?\n",
    "        Y = Y.astype(float);\n",
    "        Z = Z.astype(float);\n",
    "        k = np.exp(-X**2 / (2 * sigma[0]**2)) * np.exp(-Y**2 / (2 * sigma[1]**2)) * np.exp(-Z**2 / (2 * sigma[2]**2));\n",
    "    \n",
    "    else:\n",
    "        print 'Only supports up to dimension 3'\n",
    "\n",
    "    return np.divide(k, np.sum(np.abs(k)));"
   ]
  },
  {
   "cell_type": "code",
   "execution_count": 20,
   "metadata": {
    "collapsed": false
   },
   "outputs": [
    {
     "name": "stdout",
     "output_type": "stream",
     "text": [
      "Start Computing Structure Tensor...\n",
      "Iteration: 0\n",
      "Start DoG Sigma on 1\n",
      "Finished computing gradient amplitudes, saving gradient amplitude image...\n",
      "Finished computing gradient vectors, saving gradient vector image...\n",
      "Start Gauss Sigma with gausigma = 2.3\n",
      "Generating Gaussian kernel...\n",
      "Blurring gradient products...\n",
      "Saving a copy for this Gaussian sigma...\n",
      "Complete!\n"
     ]
    }
   ],
   "source": [
    "print \"Start Computing Structure Tensor...\"\n",
    "\n",
    "fnDataArr = len([name for name in os.listdir('.') if os.path.isfile(name)])\n",
    "\n",
    "for ii in range(fnDataArr):\n",
    "    \n",
    "    print \"Iteration: \" + str(ii);\n",
    "    \n",
    "    # Set up results directory\n",
    "    if not os.path.exists(directory):\n",
    "        os.makedirs(directory)\n",
    "\n",
    "    im = Image.open('page1.tiff')  # Needs to be changed to dynamically go down list of fnDataArr (currently just loads same test image)\n",
    "    # Omitted: channel data (red/green - our CLARITY data was single channel, so no channel data loaded.)\n",
    "    img_data = np.asarray(im);  #data is hard coded to be np.ones\n",
    "\n",
    "    for jj in range(len(dogsigmaArr)):\n",
    "        dogsigma = dogsigmaArr[jj];\n",
    "        print \"Start DoG Sigma on \" + str(dogsigma);\n",
    "\n",
    "        # Generate dog kernels\n",
    "        dogkercc = doggen([dogsigma, dogsigma, dogsigma]);\n",
    "        dogkercc = np.transpose(dogkercc, (0, 2, 1));  # annoying\n",
    "        dogkerrr = np.transpose(dogkercc, (1, 0, 2));\n",
    "        dogkerzz = np.transpose(dogkercc, (0, 2, 1));\n",
    "\n",
    "        # Compute gradients\n",
    "        grr = signal.fftconvolve(img_data, dogkercc, 'same');\n",
    "        grr = np.transpose(grr, (1, 0, 2));\n",
    "\n",
    "        gcc = signal.fftconvolve(img_data, dogkerrr, 'same');\n",
    "        gcc = np.transpose(gcc, (1, 0, 2));\n",
    "\n",
    "        gzz = signal.fftconvolve(img_data, dogkerzz, 'same');\n",
    "        gzz = np.transpose(gzz, (1, 0, 2));\n",
    "\n",
    "        # Compute gradient products\n",
    "        gprrrr = np.multiply(grr, grr);    \n",
    "        gprrcc = np.multiply(grr, gcc);\n",
    "        gprrzz = np.multiply(grr, gzz);\n",
    "        gpcccc = np.multiply(gcc, gcc);\n",
    "        gpcczz = np.multiply(gcc, gzz);\n",
    "        gpzzzz = np.multiply(gzz, gzz);\n",
    "\n",
    "        # Compute gradient amplitudes\n",
    "        ga = np.sqrt(gprrrr + gpcccc + gpzzzz);\n",
    "\n",
    "        print \"Finished computing gradient amplitudes, saving gradient amplitude image...\"\n",
    "\n",
    "        # Convert numpy ndarray object to Nifti data type\n",
    "        gradient_amplitudes_data = nib.Nifti1Image(ga, affine=np.eye(4));\n",
    "\n",
    "        # Save gradient amplitudes image \n",
    "        nib.save(gradient_amplitudes_data, 'gradient_amplitudes.nii');\n",
    "\n",
    "        # Compute gradient vectors\n",
    "        gv = np.concatenate((grr[..., np.newaxis], gcc[..., np.newaxis], gzz[..., np.newaxis]), axis = 3);\n",
    "        gv = np.divide(gv, np.tile(ga[..., None], [1, 1, 1, 3]));\n",
    "        #print gv[:, :, 0, 1];\n",
    "\n",
    "        print \"Finished computing gradient vectors, saving gradient vector image...\"\n",
    "\n",
    "        # Convert numpy ndarray object to Nifti data type\n",
    "        gradient_vectors_data = nib.Nifti1Image(gv, affine=np.eye(4));\n",
    "\n",
    "        # Save gradient vectors\n",
    "        nib.save(gradient_vectors_data, 'gradient_vectors.nii');\n",
    "\n",
    "        # Compute structure tensor\n",
    "        for kk in range(len(gausigmaArr)):\n",
    "            gausigma = gausigmaArr[kk];\n",
    "            print \"Start Gauss Sigma with gausigma = \" + str(gausigma);\n",
    "\n",
    "            print \"Generating Gaussian kernel...\"\n",
    "            gaussker = np.single(gaussgen([gausigma, gausigma, gausigma]));\n",
    "\n",
    "            print \"Blurring gradient products...\"\n",
    "            gprrrrgauss = signal.fftconvolve(gprrrr, gaussker, \"same\");\n",
    "            gprrccgauss = signal.fftconvolve(gprrcc, gaussker, \"same\");\n",
    "            gprrzzgauss = signal.fftconvolve(gprrzz, gaussker, \"same\");\n",
    "            gpccccgauss = signal.fftconvolve(gpcccc, gaussker, \"same\");\n",
    "            gpcczzgauss = signal.fftconvolve(gpcczz, gaussker, \"same\");\n",
    "            gpzzzzgauss = signal.fftconvolve(gpzzzz, gaussker, \"same\");\n",
    "\n",
    "            print \"Saving a copy for this Gaussian sigma...\"\n",
    "            tensorfsl = np.concatenate((gprrrrgauss[..., np.newaxis], gprrccgauss[..., np.newaxis], gprrzzgauss[..., np.newaxis], gpccccgauss[..., np.newaxis], gpcczzgauss[..., np.newaxis], gpzzzzgauss[..., np.newaxis]), axis = 3);\n",
    "\n",
    "             # Convert numpy ndarray object to Nifti data type\n",
    "            tensor_fsl_data = nib.Nifti1Image(tensorfsl, affine=np.eye(4));\n",
    "\n",
    "            nib.save(tensor_fsl_data, \"dogsigma_\" + str(jj) + \"gausigma_\" + str(kk) + 'tensorfsl.nii');\n",
    "\n",
    "print 'Complete!'"
   ]
  }
 ],
 "metadata": {
  "kernelspec": {
   "display_name": "Python [Root]",
   "language": "python",
   "name": "Python [Root]"
  },
  "language_info": {
   "codemirror_mode": {
    "name": "ipython",
    "version": 2
   },
   "file_extension": ".py",
   "mimetype": "text/x-python",
   "name": "python",
   "nbconvert_exporter": "python",
   "pygments_lexer": "ipython2",
   "version": "2.7.12"
  }
 },
 "nbformat": 4,
 "nbformat_minor": 0
}

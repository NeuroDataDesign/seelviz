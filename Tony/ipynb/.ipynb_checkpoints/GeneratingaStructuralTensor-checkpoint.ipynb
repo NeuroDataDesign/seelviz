{
 "cells": [
  {
   "cell_type": "code",
   "execution_count": 1,
   "metadata": {
    "collapsed": true
   },
   "outputs": [],
   "source": [
    "## Following MATLAB code from http://capture-clarity.org/clarity-based-tractography/"
   ]
  },
  {
   "cell_type": "code",
   "execution_count": 2,
   "metadata": {
    "collapsed": true
   },
   "outputs": [],
   "source": [
    "import os"
   ]
  },
  {
   "cell_type": "code",
   "execution_count": 3,
   "metadata": {
    "collapsed": true
   },
   "outputs": [],
   "source": [
    "## Parameters (the script loops through all parameters and saves each result automatically)\n",
    "dogsigmaArr = [1];  # Sigma values for derivative of gaussian filter, recommended value: 0.6 - 1.3 (based on actual data)\n",
    "gausigmaArr = [2.3];  # Sigma values for gaussian filter, recommended value: 1.3 - 2.3 (based on actual data)\n",
    "angleArr = [25];  # Angle thresholds for fiber tracking, recommended value: 20 - 30"
   ]
  },
  {
   "cell_type": "code",
   "execution_count": 4,
   "metadata": {
    "collapsed": false
   },
   "outputs": [
    {
     "data": {
      "text/plain": [
       "u'/Users/Tony/Documents/Git Folder/seelviz/Tony/ipynb'"
      ]
     },
     "execution_count": 4,
     "metadata": {},
     "output_type": "execute_result"
    }
   ],
   "source": [
    "pwd"
   ]
  },
  {
   "cell_type": "code",
   "execution_count": 5,
   "metadata": {
    "collapsed": true
   },
   "outputs": [],
   "source": [
    "import numpy as np"
   ]
  },
  {
   "cell_type": "code",
   "execution_count": 6,
   "metadata": {
    "collapsed": true
   },
   "outputs": [],
   "source": [
    "import math\n",
    "from scipy import ndimage\n",
    "import nibabel as nib"
   ]
  },
  {
   "cell_type": "code",
   "execution_count": 7,
   "metadata": {
    "collapsed": true
   },
   "outputs": [],
   "source": [
    "## Change later on\n",
    "file_path = \"/Users/Tony/Documents/Git Folder/seelviz/Tony/ipynb/TIFF_stack\"\n",
    "directory = os.path.dirname(file_path)"
   ]
  },
  {
   "cell_type": "code",
   "execution_count": 8,
   "metadata": {
    "collapsed": false
   },
   "outputs": [
    {
     "name": "stdout",
     "output_type": "stream",
     "text": [
      "/Users/Tony/Documents/Git Folder/seelviz/Tony/ipynb/TIFF_stack\n"
     ]
    }
   ],
   "source": [
    "cd TIFF_stack/"
   ]
  },
  {
   "cell_type": "code",
   "execution_count": 9,
   "metadata": {
    "collapsed": false
   },
   "outputs": [
    {
     "name": "stdout",
     "output_type": "stream",
     "text": [
      "8\n"
     ]
    }
   ],
   "source": [
    "print len([name for name in os.listdir('.') if os.path.isfile(name)])"
   ]
  },
  {
   "cell_type": "code",
   "execution_count": 12,
   "metadata": {
    "collapsed": true
   },
   "outputs": [],
   "source": [
    "from PIL import Image"
   ]
  },
  {
   "cell_type": "code",
   "execution_count": 13,
   "metadata": {
    "collapsed": false
   },
   "outputs": [
    {
     "name": "stdout",
     "output_type": "stream",
     "text": [
      "(600, 800, 4)\n"
     ]
    }
   ],
   "source": [
    "    im = Image.open('page1.tiff')  # Needs to be changed to dynamically go down list of fnDataArr (currently just loads same test image)\n",
    "    # Omitted: channel data (red/green - our CLARITY data was single channel, so no channel data loaded.)\n",
    "    img_data = np.asarray(im);\n",
    "    print img_data.shape"
   ]
  },
  {
   "cell_type": "code",
   "execution_count": null,
   "metadata": {
    "collapsed": false
   },
   "outputs": [],
   "source": [
    "print \"Start Computing Structure Tensor...\"\n",
    "\n",
    "fnDataArr = len([name for name in os.listdir('.') if os.path.isfile(name)])\n",
    "\n",
    "for ii in range(fnDataArr):\n",
    "    \n",
    "    print \"Iteration: \" + str(ii);\n",
    "    \n",
    "    # Set up results directory\n",
    "    if not os.path.exists(directory):\n",
    "        os.makedirs(directory)\n",
    "        \n",
    "    # im = Image.open('page1.tiff')  # Needs to be changed to dynamically go down list of fnDataArr (currently just loads same test image)\n",
    "    # Omitted: channel data (red/green - our CLARITY data was single channel, so no channel data loaded.)\n",
    "    img_data = np.ones((100, 100, 100));\n",
    "    \n",
    "    for jj in range(len(dogsigmaArr)):\n",
    "        dogsigma = dogsigmaArr[jj];\n",
    "        print \"Start DoG Sigma on \" + str(dogsigma);\n",
    "        \n",
    "        # Generate dog kernels\n",
    "        dogkercc = doggen([dogsigma, dogsigma, dogsigma]);\n",
    "        dogkerrr = np.transpose(dogkercc, (1, 0, 2));\n",
    "        dogkerzz = np.transpose(dogkercc, (0, 2, 1));\n",
    "        \n",
    "        # Compute gradients\n",
    "        grr = ndimage.convolve(img_data, dogkercc);\n",
    "        gcc = ndimage.convolve(img_data, dogkerrr);\n",
    "        gzz = ndimage.convolve(img_data, dogkerzz);\n",
    "        \n",
    "        # Compute gradient products\n",
    "        gprrrr = grr * grr;\n",
    "        gprrcc = grr * gcc;\n",
    "        gprrzz = grr * gzz;\n",
    "        gpcccc = gcc * gcc;\n",
    "        gpcczz = gcc * gzz;\n",
    "        gpzzzz = gzz * gzz;\n",
    "        \n",
    "        # Compute gradient amplitudes\n",
    "        ga = (gprrrr + gpcccc + gpzzzz)**(1/2);\n",
    "        \n",
    "        print \"ga shape: \" + ga.shape;\n",
    "        \n",
    "        # Convert numpy ndarray object to Nifti data type\n",
    "        gradient_amplitudes_data = nib.Nifti1Image(ga, affine=np.eye(4));\n",
    "        \n",
    "        # Save gradient amplitudes image \n",
    "        nib.save(gradient_amplitudes_data, 'gradient_amplitudes.nii');\n",
    "        \n",
    "        # Compute gradient vectors\n",
    "        gv = np.concatenate((grr[..., np.newaxis], gcc[..., np.newaxis], gzz[..., np.newaxis]), axis = 3);\n",
    "        \n",
    "        # Convert numpy ndarray object to Nifti data type\n",
    "        gradient_vectors_data = nib.Nifti1Image(gv, affine=np.eye(4));\n",
    "        \n",
    "        # Save gradient vectors\n",
    "        nib.save(gradient_vectors_data, 'gradient_vectors.nii');\n",
    "        \n",
    "        # Compute structure tensor\n",
    "        for kk in range(len(gausigmaArr)):\n",
    "            gausigma = gausigmaArr[kk];\n",
    "            print \"Start Gauss Sigma with gausigma = \" + str(gausigma);\n",
    "            \n",
    "            print \"Generating Gaussian kernel...\"\n",
    "            gaussker = gaussgen([gausigma, gausigma, gausigma]);\n",
    "            \n",
    "            print \"Blurring gradient products...\"\n",
    "            gprrrrgauss = ndimage.convolve(gprrrr, gaussker);\n",
    "            gprrccgauss = ndimage.convolve(gprrcc, gaussker);\n",
    "            gprrzzgauss = ndimage.convolve(gprrzz, gaussker);\n",
    "            gpccccgauss = ndimage.convolve(gpcccc, gaussker);\n",
    "            gpcczzgauss = ndimage.convolve(gpcczz, gaussker);\n",
    "            gpzzzzgauss = ndimage.convolve(gpzzzz, gaussker);\n",
    "            \n",
    "            print \"Saving a copy for this Gaussian sigma...\"\n",
    "            tensorfsl = np.concatenate((gprrrrgauss[..., np.newaxis], gprrccgauss[..., np.newaxis], gprrzzgauss[..., np.newaxis], gpccccgauss[..., np.newaxis], gpcczzgauss[..., np.newaxis], gpzzzzgauss[..., np.newaxis]), axis = 3);\n",
    "            \n",
    "             # Convert numpy ndarray object to Nifti data type\n",
    "            tensor_fsl_data = nib.Nifti1Image(tensorfsl, affine=np.eye(4));\n",
    "            \n",
    "            nib.save(tensor_fsl_data, \"slice_\" + str(ii) + \"dogsigma_\" + str(jj) + \"gausigma_\" + str(kk) + 'tensorfsl.nii');\n",
    "            \n",
    "print 'Complete!'"
   ]
  },
  {
   "cell_type": "code",
   "execution_count": 10,
   "metadata": {
    "collapsed": false
   },
   "outputs": [],
   "source": [
    "'''\n",
    "Function to generate derivatives of Gaussian kernels, in either 1D, 2D, or 3D.\n",
    "Source code in MATLAB obtained from Qiyuan Tian, Stanford University, September 2015\n",
    "Edited to work in Python by Tony\n",
    "'''\n",
    "\n",
    "def doggen(sigma):\n",
    "    halfsize = np.ceil(3 * max(sigma))\n",
    "    x = range(np.single(-halfsize), np.single(halfsize + 1));  # Python colon is not inclusive at end, while MATLAB is.\n",
    "    dim = len(sigma);\n",
    "    print sigma\n",
    "    \n",
    "    if dim == 1:\n",
    "        X = np.array(x);  # Remember that, by default, numpy arrays are elementwise multiplicative\n",
    "        return -X * np.exp(-X**2/(2 * sigma**2));\n",
    "        \n",
    "    elif dim == 2:\n",
    "        [X, Y] = np.meshgrid(x, x);\n",
    "        return -X * np.exp(-X**2/(2*sigma[0]^2) * np.exp(-Y**2))\n",
    "        \n",
    "    elif dim == 3:\n",
    "        [X, Y, Z] = np.meshgrid(x, x, x);\n",
    "        return X * np.exp(np.divide(-X**2, 2 * sigma[0]**2)) * np.exp(np.divide(-Y**2, 2 * sigma[1]**2)) * np.exp(np.divide(-Z**2, 2 * sigma[2]**2))\n",
    "        \n",
    "    else:\n",
    "        print 'Only supports up to 3 dimensions'\n",
    "    "
   ]
  },
  {
   "cell_type": "code",
   "execution_count": 11,
   "metadata": {
    "collapsed": false
   },
   "outputs": [],
   "source": [
    "'''\n",
    "Function to generate Gaussian kernels, in 1D, 2D and 3D.\n",
    "Source code in MATLAB obtained from Qiyuan Tian, Stanford University, September 2015\n",
    "Edited to work in Python by Tony. \n",
    "'''\n",
    "\n",
    "def gaussgen(sigma):\n",
    "    halfsize = np.ceil(3 * max(sigma));\n",
    "    x = range(np.single(-halfsize), np.single(halfsize + 1));\n",
    "\n",
    "    dim = len(sigma);\n",
    "\n",
    "    if dim == 1:\n",
    "        k = np.exp(-x**2 / (2 * sigma^2));\n",
    "    \n",
    "    elif dim == 2:\n",
    "        [X, Y] = np.meshgrid(x, x);\n",
    "        k = np.exp(-X**2 / (2 * sigma[0]**2)) * np.exp(-Y**2 / (2 * sigma[1]**2)); \n",
    "    \n",
    "    elif dim == 3:\n",
    "        [X, Y, Z] = np.meshgrid(x, x, x);\n",
    "        k = np.exp(-X**2 / (2 * sigma[0]**2)) * np.exp(-Y**2 / (2 * sigma[1]**2)) * np.exp(-Z**2 / (2 * sigma[2]**2));\n",
    "    \n",
    "    else:\n",
    "        print 'Only supports up to dimension 3'\n",
    "\n",
    "    return k / sum(abs(k));\n"
   ]
  }
 ],
 "metadata": {
  "kernelspec": {
   "display_name": "Python [Root]",
   "language": "python",
   "name": "Python [Root]"
  },
  "language_info": {
   "codemirror_mode": {
    "name": "ipython",
    "version": 2
   },
   "file_extension": ".py",
   "mimetype": "text/x-python",
   "name": "python",
   "nbconvert_exporter": "python",
   "pygments_lexer": "ipython2",
   "version": "2.7.12"
  }
 },
 "nbformat": 4,
 "nbformat_minor": 0
}

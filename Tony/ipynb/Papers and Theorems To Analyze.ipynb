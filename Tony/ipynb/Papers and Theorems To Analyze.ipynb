{
 "cells": [
  {
   "cell_type": "markdown",
   "metadata": {},
   "source": [
    "Papers:\n",
    "    \n",
    "    Cell-X (Zurich):  http://www.csb.ethz.ch/tools/software/cellx.html\n",
    "        - Approach written in MATLAB, for use in cell segmentation\n",
    "        - Uses CLAHE to threshold, then uses unique membrane dynamics to examine cell boundaries.\n",
    "            - https://academic.oup.com/bioinformatics/article-lookup/doi/10.1093/bioinformatics/btu302\n",
    "    \n",
    "    Large-scale automated identification of mouse brain cells in confocal light sheet microscopy images:  https://academic.oup.com/bioinformatics/article/30/17/i587/201138/Large-scale-automated-identification-of-mouse\n",
    "        - Approach:\n",
    "            - Substack entire thing into WxHxD pieces\n",
    "            - Make sure substacks overlap (some dimension M) such as to prevent borders from improperly being trained (make sure all cells fall within WxHxD?  need more reading)\n",
    "            - Two inputs: L, S (each point intensity represented as (x, y, z))\n",
    "                - L - set of voxels whose intensities exceed background intensity\n",
    "                - S - specially selected subset to run mean-shift algorithm\n",
    "            - Mean shift algorithm\n",
    "                - The classic mean shift algorithm would start from all available data points, place a kernel on each of them and shift each point toward the mean value computed as the kernel-weighted average of the data.\n",
    "                - In this variant, they improve both its running time and its statistical precision by starting from a carefully chosen set of seeds S\n",
    "            - Thresholding\n",
    "                - Found background/saturated areas and removed as basic filters.\n",
    "            - Supervised semantic deconvolution\n",
    "                - Above step works well on bright images.  Darker somas might be missed.\n",
    "                - To improve over this intrinsic difficulty, they carried out a preprocessing stage by applying a non-linear filter trained to boost weak somata and decrease the voxel intensities in non-soma regions.\n",
    "    \n",
    "    Gradient Flow:  https://www.ncbi.nlm.nih.gov/pmc/articles/PMC4578315/\n",
    "        - Approach is to find \"gradient\" of background (ie - derivatives w.r.t X, Y, Z) and set them to zero\n",
    "    \n",
    "    "
   ]
  },
  {
   "cell_type": "code",
   "execution_count": null,
   "metadata": {
    "collapsed": true
   },
   "outputs": [],
   "source": [
    "send greg token\n",
    "send greg ping about labeled and traced data"
   ]
  },
  {
   "cell_type": "code",
   "execution_count": null,
   "metadata": {
    "collapsed": true
   },
   "outputs": [],
   "source": []
  },
  {
   "cell_type": "code",
   "execution_count": null,
   "metadata": {
    "collapsed": true
   },
   "outputs": [],
   "source": []
  },
  {
   "cell_type": "code",
   "execution_count": null,
   "metadata": {
    "collapsed": true
   },
   "outputs": [],
   "source": []
  }
 ],
 "metadata": {
  "kernelspec": {
   "display_name": "Python [Root]",
   "language": "python",
   "name": "Python [Root]"
  },
  "language_info": {
   "codemirror_mode": {
    "name": "ipython",
    "version": 2
   },
   "file_extension": ".py",
   "mimetype": "text/x-python",
   "name": "python",
   "nbconvert_exporter": "python",
   "pygments_lexer": "ipython2",
   "version": "2.7.12"
  }
 },
 "nbformat": 4,
 "nbformat_minor": 0
}

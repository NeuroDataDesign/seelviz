{
 "cells": [
  {
   "cell_type": "code",
   "execution_count": 1,
   "metadata": {
    "collapsed": true
   },
   "outputs": [],
   "source": [
    "#!/usr/bin/env python\n",
    "\n",
    "# Copyright 2016 NeuroData (http://neurodata.io)\n",
    "#\n",
    "# Licensed under the Apache License, Version 2.0 (the \"License\");\n",
    "# you may not use this file except in compliance with the License.\n",
    "# You may obtain a copy of the License at\n",
    "#\n",
    "#     http://www.apache.org/licenses/LICENSE-2.0\n",
    "#\n",
    "# Unless required by applicable law or agreed to in writing, software\n",
    "# distributed under the License is distributed on an \"AS IS\" BASIS,\n",
    "# WITHOUT WARRANTIES OR CONDITIONS OF ANY KIND, either express or implied.\n",
    "# See the License for the specific language governing permissions and\n",
    "# limitations under the License.\n",
    "#\n",
    "\n",
    "# qa_tensor.py\n",
    "# Created by Vikram Chandrashekhar.\n",
    "# Edited by Greg Kiar.\n",
    "# Email: Greg Kiar @ gkiar@jhu.edu\n",
    "\n",
    "from dipy.reconst.dti import fractional_anisotropy, color_fa\n",
    "from argparse import ArgumentParser\n",
    "from scipy import ndimage\n",
    "import os\n",
    "import re\n",
    "import numpy as np\n",
    "import nibabel as nb\n",
    "import sys\n",
    "import matplotlib\n",
    "\n",
    "matplotlib.use('Agg')  # very important above pyplot import\n",
    "import matplotlib.pyplot as plt\n",
    "\n",
    "\n",
    "def tensor2fa(tensors, tensor_name, dti, derivdir, qcdir):\n",
    "    '''\n",
    "    outdir: location of output directory.\n",
    "    fname: name of output fa map file. default is none (name created based on\n",
    "    input file)\n",
    "    '''\n",
    "    dti_data = nb.load(dti)\n",
    "    affine = dti_data.get_affine()\n",
    "    dti_data = dti_data.get_data()\n",
    "\n",
    "    # create FA map\n",
    "    FA = fractional_anisotropy(tensors.evals)\n",
    "    FA[np.isnan(FA)] = 0\n",
    "\n",
    "    # generate the RGB FA map\n",
    "    FA = np.clip(FA, 0, 1)\n",
    "    RGB = color_fa(FA, tensors.evecs)\n",
    "\n",
    "    fname = os.path.split(tensor_name)[1].split(\".\")[0] + '_fa_rgb.nii.gz'\n",
    "    fa = nb.Nifti1Image(np.array(255 * RGB, 'uint8'), affine)\n",
    "    nb.save(fa, derivdir + fname)\n",
    "\n",
    "    fa_pngs(fa, fname, qcdir)\n",
    "\n",
    "\n",
    "def fa_pngs(data, fname, outdir):\n",
    "    '''\n",
    "    data: fa map\n",
    "    '''\n",
    "    im = data.get_data()\n",
    "    fig = plot_rgb(im)\n",
    "    fname = os.path.split(fname)[1].split(\".\")[0] + '.png'\n",
    "    plt.savefig(outdir + fname, format='png')\n",
    "\n",
    "\n",
    "def plot_rgb(im):\n",
    "    plt.rcParams.update({'axes.labelsize': 'x-large',\n",
    "                         'axes.titlesize': 'x-large'})\n",
    "\n",
    "    if im.shape == (182, 218, 182):\n",
    "        x = [78, 90, 100]\n",
    "        y = [82, 107, 142]\n",
    "        z = [88, 103, 107]\n",
    "    else:\n",
    "        shap = im.shape\n",
    "        x = [int(shap[0]*0.35), int(shap[0]*0.51), int(shap[0]*0.65)]\n",
    "        y = [int(shap[1]*0.35), int(shap[1]*0.51), int(shap[1]*0.65)]\n",
    "        z = [int(shap[2]*0.35), int(shap[2]*0.51), int(shap[2]*0.65)]\n",
    "    coords = (x, y, z)\n",
    "\n",
    "    labs = ['Sagittal Slice (YZ fixed)',\n",
    "            'Coronal Slice (XZ fixed)',\n",
    "            'Axial Slice (XY fixed)']\n",
    "    var = ['X', 'Y', 'Z']\n",
    "\n",
    "    idx = 0\n",
    "    for i, coord in enumerate(coords):\n",
    "        for pos in coord:\n",
    "            idx += 1\n",
    "            ax = plt.subplot(3, 3, idx)\n",
    "            ax.set_title(var[i] + \" = \" + str(pos))\n",
    "            if i == 0:\n",
    "                image = ndimage.rotate(im[pos, :, :], 90)\n",
    "            elif i == 1:\n",
    "                image = ndimage.rotate(im[:, pos, :], 90)\n",
    "            else:\n",
    "                image = im[:, :, pos]\n",
    "\n",
    "            if idx % 3 == 1:\n",
    "                ax.set_ylabel(labs[i])\n",
    "                ax.yaxis.set_ticks([0, image.shape[0]/2, image.shape[0] - 1])\n",
    "                ax.xaxis.set_ticks([0, image.shape[1]/2, image.shape[1] - 1])\n",
    "\n",
    "            plt.imshow(image)\n",
    "\n",
    "    fig = plt.gcf()\n",
    "    fig.set_size_inches(12.5, 10.5, forward=True)\n",
    "    return fig"
   ]
  },
  {
   "cell_type": "code",
   "execution_count": 2,
   "metadata": {
    "collapsed": true
   },
   "outputs": [],
   "source": [
    "from dipy.reconst.dti import fractional_anisotropy, color_fa\n",
    "from argparse import ArgumentParser\n",
    "from scipy import ndimage\n",
    "import os\n",
    "import re\n",
    "import numpy as np\n",
    "import nibabel as nb\n",
    "import sys\n",
    "import matplotlib\n",
    "\n",
    "matplotlib.use('Agg')  # very important above pyplot import\n",
    "import matplotlib.pyplot as plt"
   ]
  },
  {
   "cell_type": "code",
   "execution_count": 3,
   "metadata": {
    "collapsed": false
   },
   "outputs": [],
   "source": [
    "img = nb.load('../../../../../Desktop/result/dogsig1_gausig2.3/v100_ch0_tensorfsl_dogsig1_gausig2.3.nii')"
   ]
  },
  {
   "cell_type": "code",
   "execution_count": 4,
   "metadata": {
    "collapsed": false
   },
   "outputs": [
    {
     "data": {
      "text/plain": [
       "(5000, 5000, 5, 6)"
      ]
     },
     "execution_count": 4,
     "metadata": {},
     "output_type": "execute_result"
    }
   ],
   "source": [
    "img.shape"
   ]
  },
  {
   "cell_type": "code",
   "execution_count": 5,
   "metadata": {
    "collapsed": false
   },
   "outputs": [],
   "source": [
    "data = img.get_data()"
   ]
  },
  {
   "cell_type": "code",
   "execution_count": 6,
   "metadata": {
    "collapsed": false
   },
   "outputs": [
    {
     "name": "stderr",
     "output_type": "stream",
     "text": [
      "/Users/Tony/anaconda/lib/python2.7/site-packages/skimage/filter/__init__.py:6: skimage_deprecation: The `skimage.filter` module has been renamed to `skimage.filters`.  This placeholder module will be removed in v0.13.\n",
      "  warn(skimage_deprecation('The `skimage.filter` module has been renamed '\n"
     ]
    },
    {
     "name": "stdout",
     "output_type": "stream",
     "text": [
      "maskdata.shape (5000, 5000, 5, 6)\n"
     ]
    }
   ],
   "source": [
    "from dipy.segment.mask import median_otsu\n",
    "\n",
    "maskdata, mask = median_otsu(data, 3, 1)\n",
    "print('maskdata.shape (%d, %d, %d, %d)' % maskdata.shape)"
   ]
  },
  {
   "cell_type": "code",
   "execution_count": 7,
   "metadata": {
    "collapsed": false
   },
   "outputs": [],
   "source": [
    "import dipy.reconst.dti as dti"
   ]
  },
  {
   "cell_type": "code",
   "execution_count": 8,
   "metadata": {
    "collapsed": true
   },
   "outputs": [],
   "source": [
    "img3 = nb.load('../../../../../Desktop/result/v100_ch0_gv_dogsig1.nii')"
   ]
  },
  {
   "cell_type": "code",
   "execution_count": 9,
   "metadata": {
    "collapsed": false
   },
   "outputs": [
    {
     "data": {
      "text/plain": [
       "(5000, 5000, 5, 3)"
      ]
     },
     "execution_count": 9,
     "metadata": {},
     "output_type": "execute_result"
    }
   ],
   "source": [
    "img3.shape"
   ]
  },
  {
   "cell_type": "code",
   "execution_count": 17,
   "metadata": {
    "collapsed": false
   },
   "outputs": [],
   "source": [
    "data3 = img3.get_data()"
   ]
  },
  {
   "cell_type": "code",
   "execution_count": 45,
   "metadata": {
    "collapsed": false
   },
   "outputs": [],
   "source": [
    "data3_slice1 = data3[:, :, 0, 0]"
   ]
  },
  {
   "cell_type": "code",
   "execution_count": 48,
   "metadata": {
    "collapsed": false
   },
   "outputs": [
    {
     "name": "stdout",
     "output_type": "stream",
     "text": [
      "(5000, 5000)\n"
     ]
    }
   ],
   "source": [
    "print data3_slice1.shape"
   ]
  },
  {
   "cell_type": "code",
   "execution_count": 51,
   "metadata": {
    "collapsed": false
   },
   "outputs": [
    {
     "name": "stdout",
     "output_type": "stream",
     "text": [
      "(5000, 5000, 3)\n"
     ]
    }
   ],
   "source": [
    "data3_slice1_eigvec = data3[:, :, 0, :]\n",
    "print data3_slice1_eigvec.shape"
   ]
  },
  {
   "cell_type": "code",
   "execution_count": 52,
   "metadata": {
    "collapsed": false
   },
   "outputs": [],
   "source": [
    "FA = fractional_anisotropy(data3_slice1_eigvec)\n",
    "##????"
   ]
  },
  {
   "cell_type": "code",
   "execution_count": 53,
   "metadata": {
    "collapsed": true
   },
   "outputs": [],
   "source": [
    "FA[np.isnan(FA)] = 0"
   ]
  },
  {
   "cell_type": "code",
   "execution_count": 54,
   "metadata": {
    "collapsed": false
   },
   "outputs": [
    {
     "name": "stdout",
     "output_type": "stream",
     "text": [
      "(5000, 5000)\n"
     ]
    }
   ],
   "source": [
    "print FA.shape"
   ]
  },
  {
   "cell_type": "code",
   "execution_count": 33,
   "metadata": {
    "collapsed": false
   },
   "outputs": [],
   "source": [
    "abc = np.ones((5000, 5000))"
   ]
  },
  {
   "cell_type": "code",
   "execution_count": 55,
   "metadata": {
    "collapsed": false
   },
   "outputs": [
    {
     "data": {
      "text/plain": [
       "(5000, 5000)"
      ]
     },
     "execution_count": 55,
     "metadata": {},
     "output_type": "execute_result"
    }
   ],
   "source": [
    "FA.shape"
   ]
  },
  {
   "cell_type": "code",
   "execution_count": 56,
   "metadata": {
    "collapsed": false
   },
   "outputs": [
    {
     "data": {
      "text/plain": [
       "(5000, 5000)"
      ]
     },
     "execution_count": 56,
     "metadata": {},
     "output_type": "execute_result"
    }
   ],
   "source": [
    "v.shape[-2:]"
   ]
  },
  {
   "cell_type": "code",
   "execution_count": 58,
   "metadata": {
    "collapsed": false
   },
   "outputs": [
    {
     "name": "stdout",
     "output_type": "stream",
     "text": [
      "help\n",
      "oh no\n"
     ]
    }
   ],
   "source": [
    "if (FA.shape != v.shape) or ((3, 3) != v.shape[-2:]):\n",
    "    print 'help'\n",
    "    if (FA.shape != v.shape):\n",
    "        print 'yes'\n",
    "    if ((3,3) != v.shape[-2:]):\n",
    "        print 'oh no'"
   ]
  },
  {
   "cell_type": "code",
   "execution_count": 59,
   "metadata": {
    "collapsed": false
   },
   "outputs": [
    {
     "ename": "ValueError",
     "evalue": "Wrong number of dimensions for evecs",
     "output_type": "error",
     "traceback": [
      "\u001b[0;31m---------------------------------------------------------------------------\u001b[0m",
      "\u001b[0;31mValueError\u001b[0m                                Traceback (most recent call last)",
      "\u001b[0;32m<ipython-input-59-701363869d46>\u001b[0m in \u001b[0;36m<module>\u001b[0;34m()\u001b[0m\n\u001b[0;32m----> 1\u001b[0;31m \u001b[0mRGB\u001b[0m \u001b[0;34m=\u001b[0m \u001b[0mcolor_fa\u001b[0m\u001b[0;34m(\u001b[0m\u001b[0mFA\u001b[0m\u001b[0;34m,\u001b[0m \u001b[0mv\u001b[0m\u001b[0;34m)\u001b[0m\u001b[0;34m\u001b[0m\u001b[0m\n\u001b[0m",
      "\u001b[0;32m/Users/Tony/anaconda/lib/python2.7/site-packages/dipy/reconst/dti.pyc\u001b[0m in \u001b[0;36mcolor_fa\u001b[0;34m(fa, evecs)\u001b[0m\n\u001b[1;32m    342\u001b[0m \u001b[0;34m\u001b[0m\u001b[0m\n\u001b[1;32m    343\u001b[0m     \u001b[0;32mif\u001b[0m \u001b[0;34m(\u001b[0m\u001b[0mfa\u001b[0m\u001b[0;34m.\u001b[0m\u001b[0mshape\u001b[0m \u001b[0;34m!=\u001b[0m \u001b[0mevecs\u001b[0m\u001b[0;34m[\u001b[0m\u001b[0;34m.\u001b[0m\u001b[0;34m.\u001b[0m\u001b[0;34m.\u001b[0m\u001b[0;34m,\u001b[0m \u001b[0;36m0\u001b[0m\u001b[0;34m,\u001b[0m \u001b[0;36m0\u001b[0m\u001b[0;34m]\u001b[0m\u001b[0;34m.\u001b[0m\u001b[0mshape\u001b[0m\u001b[0;34m)\u001b[0m \u001b[0;32mor\u001b[0m \u001b[0;34m(\u001b[0m\u001b[0;34m(\u001b[0m\u001b[0;36m3\u001b[0m\u001b[0;34m,\u001b[0m \u001b[0;36m3\u001b[0m\u001b[0;34m)\u001b[0m \u001b[0;34m!=\u001b[0m \u001b[0mevecs\u001b[0m\u001b[0;34m.\u001b[0m\u001b[0mshape\u001b[0m\u001b[0;34m[\u001b[0m\u001b[0;34m-\u001b[0m\u001b[0;36m2\u001b[0m\u001b[0;34m:\u001b[0m\u001b[0;34m]\u001b[0m\u001b[0;34m)\u001b[0m\u001b[0;34m:\u001b[0m\u001b[0;34m\u001b[0m\u001b[0m\n\u001b[0;32m--> 344\u001b[0;31m         \u001b[0;32mraise\u001b[0m \u001b[0mValueError\u001b[0m\u001b[0;34m(\u001b[0m\u001b[0;34m\"Wrong number of dimensions for evecs\"\u001b[0m\u001b[0;34m)\u001b[0m\u001b[0;34m\u001b[0m\u001b[0m\n\u001b[0m\u001b[1;32m    345\u001b[0m \u001b[0;34m\u001b[0m\u001b[0m\n\u001b[1;32m    346\u001b[0m     \u001b[0;32mreturn\u001b[0m \u001b[0mnp\u001b[0m\u001b[0;34m.\u001b[0m\u001b[0mabs\u001b[0m\u001b[0;34m(\u001b[0m\u001b[0mevecs\u001b[0m\u001b[0;34m[\u001b[0m\u001b[0;34m.\u001b[0m\u001b[0;34m.\u001b[0m\u001b[0;34m.\u001b[0m\u001b[0;34m,\u001b[0m \u001b[0;36m0\u001b[0m\u001b[0;34m]\u001b[0m\u001b[0;34m)\u001b[0m \u001b[0;34m*\u001b[0m \u001b[0mnp\u001b[0m\u001b[0;34m.\u001b[0m\u001b[0mclip\u001b[0m\u001b[0;34m(\u001b[0m\u001b[0mfa\u001b[0m\u001b[0;34m,\u001b[0m \u001b[0;36m0\u001b[0m\u001b[0;34m,\u001b[0m \u001b[0;36m1\u001b[0m\u001b[0;34m)\u001b[0m\u001b[0;34m[\u001b[0m\u001b[0;34m.\u001b[0m\u001b[0;34m.\u001b[0m\u001b[0;34m.\u001b[0m\u001b[0;34m,\u001b[0m \u001b[0mNone\u001b[0m\u001b[0;34m]\u001b[0m\u001b[0;34m\u001b[0m\u001b[0m\n",
      "\u001b[0;31mValueError\u001b[0m: Wrong number of dimensions for evecs"
     ]
    }
   ],
   "source": [
    "RGB = color_fa(FA, v) "
   ]
  },
  {
   "cell_type": "code",
   "execution_count": 43,
   "metadata": {
    "collapsed": true
   },
   "outputs": [],
   "source": [
    "from numpy import linalg as LA"
   ]
  },
  {
   "cell_type": "code",
   "execution_count": 49,
   "metadata": {
    "collapsed": true
   },
   "outputs": [],
   "source": [
    "w, v = LA.eigh(data3_slice1)"
   ]
  },
  {
   "cell_type": "code",
   "execution_count": 50,
   "metadata": {
    "collapsed": false
   },
   "outputs": [
    {
     "name": "stdout",
     "output_type": "stream",
     "text": [
      "(5000, 5000)\n"
     ]
    }
   ],
   "source": [
    "print v.shape"
   ]
  },
  {
   "cell_type": "code",
   "execution_count": 67,
   "metadata": {
    "collapsed": false
   },
   "outputs": [
    {
     "name": "stdout",
     "output_type": "stream",
     "text": [
      "(5000,)\n"
     ]
    }
   ],
   "source": [
    "print w.shape"
   ]
  },
  {
   "cell_type": "code",
   "execution_count": null,
   "metadata": {
    "collapsed": false
   },
   "outputs": [],
   "source": [
    "img2 = nb.load('../../../../../Desktop/result/dogsig1_gausig2.3/v100_ch0_tensordtk_dogsig1_gausig2.3_tensor.nii')\n",
    "img2.shape"
   ]
  },
  {
   "cell_type": "code",
   "execution_count": 68,
   "metadata": {
    "collapsed": false
   },
   "outputs": [
    {
     "ename": "NameError",
     "evalue": "name 'from_lower_triangular' is not defined",
     "output_type": "error",
     "traceback": [
      "\u001b[0;31m---------------------------------------------------------------------------\u001b[0m",
      "\u001b[0;31mNameError\u001b[0m                                 Traceback (most recent call last)",
      "\u001b[0;32m<ipython-input-68-d076bfaf46b7>\u001b[0m in \u001b[0;36m<module>\u001b[0;34m()\u001b[0m\n\u001b[0;32m----> 1\u001b[0;31m \u001b[0mfrom_lower_triangular\u001b[0m\u001b[0;34m(\u001b[0m\u001b[0mimg\u001b[0m\u001b[0;34m)\u001b[0m\u001b[0;34m\u001b[0m\u001b[0m\n\u001b[0m",
      "\u001b[0;31mNameError\u001b[0m: name 'from_lower_triangular' is not defined"
     ]
    }
   ],
   "source": [
    "from_lower_triangular(img)"
   ]
  }
 ],
 "metadata": {
  "anaconda-cloud": {},
  "kernelspec": {
   "display_name": "Python [Root]",
   "language": "python",
   "name": "Python [Root]"
  },
  "language_info": {
   "codemirror_mode": {
    "name": "ipython",
    "version": 2
   },
   "file_extension": ".py",
   "mimetype": "text/x-python",
   "name": "python",
   "nbconvert_exporter": "python",
   "pygments_lexer": "ipython2",
   "version": "2.7.12"
  }
 },
 "nbformat": 4,
 "nbformat_minor": 0
}
